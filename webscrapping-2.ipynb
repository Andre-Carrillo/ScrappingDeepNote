{
 "cells": [
  {
   "cell_type": "code",
   "metadata": {
    "id": "sWw8yEy-h0g5",
    "executionInfo": {
     "status": "ok",
     "timestamp": 1632342992967,
     "user_tz": 300,
     "elapsed": 16,
     "user": {
      "displayName": "André Carrillo Montero",
      "photoUrl": "https://lh3.googleusercontent.com/a/default-user=s64",
      "userId": "11606357353285771722"
     }
    },
    "deepnote_to_be_reexecuted": false,
    "source_hash": "89669b78",
    "execution_start": 1645210653740,
    "execution_millis": 3,
    "cell_id": "d2f2b34f-2bf1-48df-b85d-765ae7d5af94",
    "deepnote_cell_type": "code"
   },
   "source": "import requests \nfrom bs4 import BeautifulSoup",
   "execution_count": 5,
   "outputs": []
  },
  {
   "cell_type": "code",
   "metadata": {
    "id": "NAdrllb_iTSG",
    "executionInfo": {
     "status": "ok",
     "timestamp": 1632342992969,
     "user_tz": 300,
     "elapsed": 15,
     "user": {
      "displayName": "André Carrillo Montero",
      "photoUrl": "https://lh3.googleusercontent.com/a/default-user=s64",
      "userId": "11606357353285771722"
     }
    },
    "deepnote_to_be_reexecuted": false,
    "source_hash": "a7f2e704",
    "execution_start": 1645210656767,
    "execution_millis": 5,
    "cell_id": "00001-fb3f79a3-eccb-4d6f-a2ed-4b877ee69f85",
    "deepnote_cell_type": "code"
   },
   "source": "# XPATH_LIST_CONGRESSMEN = '//a[@class=\"conginfo\"]/text()'\n# XPATH_LIST_URLCONGINFO = '//a[@class=\"conginfo\"]/@href'\n# #in previous url\n# XPATH_REPRESENT = '//p[@class=\"representa\"]/span[@class=\"value\"]/text()'\nURLCONGRESSMEN = 'https://www.congreso.gob.pe/pleno/congresistas/'",
   "execution_count": 6,
   "outputs": []
  },
  {
   "cell_type": "code",
   "metadata": {
    "id": "aDTj7PxkivXX",
    "executionInfo": {
     "status": "ok",
     "timestamp": 1632342995960,
     "user_tz": 300,
     "elapsed": 3004,
     "user": {
      "displayName": "André Carrillo Montero",
      "photoUrl": "https://lh3.googleusercontent.com/a/default-user=s64",
      "userId": "11606357353285771722"
     }
    },
    "deepnote_to_be_reexecuted": false,
    "source_hash": "3062b2af",
    "execution_start": 1645210660250,
    "execution_millis": 1151,
    "cell_id": "00002-33e30122-fb11-44ea-9c61-f121ea9a6074",
    "deepnote_cell_type": "code"
   },
   "source": "#GET ALL NAMES AND URL'S\nPLENO_PAGE = requests.get(URLCONGRESSMEN).text\nPLENO_SOUP = BeautifulSoup(PLENO_PAGE, 'lxml')\nLIST_PLENO = PLENO_SOUP.find_all(class_='conginfo')\nLIST_CONGRESSMEN_NAMES = [i.text for i in LIST_PLENO]\nLIST_URLCONGINFO = [i['href'] for i in LIST_PLENO]",
   "execution_count": 7,
   "outputs": []
  },
  {
   "cell_type": "code",
   "metadata": {
    "id": "UIuwoWEhlzQy",
    "deepnote_to_be_reexecuted": false,
    "source_hash": "d5666583",
    "execution_start": 1645211136382,
    "execution_millis": 113713,
    "cell_id": "00005-e859e888-983b-4fd9-afa2-02cbcd3eff5b",
    "deepnote_cell_type": "code"
   },
   "source": "#GETTING REGIONS\nLIST_REGIONES = []\nLIST_VOTACION = []\nfor url in LIST_URLCONGINFO:\n  CONG_PAGE = requests.get(URLCONGRESSMEN+url).text\n  CONG_SOUP = BeautifulSoup(CONG_PAGE, 'lxml')\n  LIST_REGIONES.append(CONG_SOUP.find('p', class_='representa').find(class_='value').text)\n  LIST_VOTACION.append(CONG_SOUP.find('p', class_='votacion').find(class_='value').text)\n",
   "execution_count": 14,
   "outputs": []
  },
  {
   "cell_type": "code",
   "metadata": {
    "id": "kMZtfVnW3efW",
    "deepnote_to_be_reexecuted": false,
    "source_hash": "b3548cfe",
    "execution_start": 1645211403294,
    "execution_millis": 5,
    "cell_id": "00006-9d172122-204f-4791-b2b9-268b6a94773d",
    "deepnote_cell_type": "code"
   },
   "source": "import pandas as pd\nCongress = pd.DataFrame({\"Congresista\":LIST_CONGRESSMEN_NAMES, \"Región\":LIST_REGIONES, \"Votación\":LIST_VOTACION})\n",
   "execution_count": 18,
   "outputs": []
  },
  {
   "cell_type": "code",
   "metadata": {
    "id": "RKtn3m8vE8Nb",
    "deepnote_to_be_reexecuted": true,
    "source_hash": "a9a74422",
    "execution_start": 1645209213223,
    "execution_millis": 22,
    "cell_id": "00008-3caaeea3-3291-49c3-b582-d42ceaa08f14",
    "deepnote_cell_type": "code"
   },
   "source": "newCongress = pd.DataFrame({\"Congresista\":LIST_CONGRESSMEN, \"Región\":[i[0] for i in LIST_REGIONES], \"Comisiones\":are})\nnewCongress['Comisiones'] = [[] for i in newCongress['Comisiones']]\n",
   "execution_count": null,
   "outputs": []
  },
  {
   "cell_type": "markdown",
   "source": "Primero se getea la pagina, después se convierte en sopa con BeautifulSoup (usando el atributo text y el atributo 'lxml') y después se usa el método find_all para buscar las cosas, después se usa el metodo get en cada elemento de la lista obtenida para obtener atributos, se puede usar el metodo get_text para obtener el texto",
   "metadata": {
    "id": "pY38fy56G7se",
    "cell_id": "00009-7b661d76-a8df-4a2b-ba32-33c8f99f4abd",
    "deepnote_cell_type": "markdown"
   }
  },
  {
   "cell_type": "code",
   "metadata": {
    "colab": {
     "base_uri": "https://localhost:8080/"
    },
    "id": "jcd36jMgGoUm",
    "executionInfo": {
     "status": "ok",
     "timestamp": 1632343202553,
     "user_tz": 300,
     "elapsed": 1649,
     "user": {
      "displayName": "André Carrillo Montero",
      "photoUrl": "https://lh3.googleusercontent.com/a/default-user=s64",
      "userId": "11606357353285771722"
     }
    },
    "outputId": "6db0abfb-0ff9-42ca-c377-87f345dc878d",
    "deepnote_to_be_reexecuted": true,
    "source_hash": "1a33d367",
    "execution_start": 1645209213262,
    "execution_millis": 1576,
    "deepnote_output_heights": [
     21.1875
    ],
    "cell_id": "00010-ddb0c968-8410-4c93-aa14-346ee5bf4096",
    "deepnote_cell_type": "code"
   },
   "source": "urlcomisiones = 'https://www.congreso.gob.pe/CuadrodeComisiones/'\nP_comisiones = requests.get(urlcomisiones)\nP_comisiones.status_code\n",
   "execution_count": null,
   "outputs": [
    {
     "output_type": "execute_result",
     "execution_count": 9,
     "data": {
      "text/plain": "200"
     },
     "metadata": {}
    }
   ]
  },
  {
   "cell_type": "code",
   "metadata": {
    "id": "tON24b2CHVRc",
    "deepnote_to_be_reexecuted": true,
    "source_hash": "3d2ecec",
    "execution_start": 1645209214847,
    "execution_millis": 8628,
    "cell_id": "00011-15f15f99-c8a2-4e4f-9391-9ba8909340a6",
    "deepnote_cell_type": "code"
   },
   "source": "!pip install bs4\nfrom bs4 import BeautifulSoup\nsoup_comisiones = BeautifulSoup(P_comisiones.text, 'lxml')\ntags_comisiones = soup_comisiones.find_all('a', attrs = {'target':'_blank'})\ncomisiones = tags_comisiones[:24]",
   "execution_count": null,
   "outputs": [
    {
     "name": "stdout",
     "text": "Collecting bs4\n  Downloading bs4-0.0.1.tar.gz (1.1 kB)\nCollecting beautifulsoup4\n  Downloading beautifulsoup4-4.10.0-py3-none-any.whl (97 kB)\n\u001b[K     |████████████████████████████████| 97 kB 9.0 MB/s \n\u001b[?25hCollecting soupsieve>1.2\n  Downloading soupsieve-2.3.1-py3-none-any.whl (37 kB)\nBuilding wheels for collected packages: bs4\n  Building wheel for bs4 (setup.py) ... \u001b[?25ldone\n\u001b[?25h  Created wheel for bs4: filename=bs4-0.0.1-py3-none-any.whl size=1272 sha256=69c977b1d14122fe2d4736884530ff274b6c57f6eb656db9fd754494920b0234\n  Stored in directory: /root/.cache/pip/wheels/0a/9e/ba/20e5bbc1afef3a491f0b3bb74d508f99403aabe76eda2167ca\nSuccessfully built bs4\nInstalling collected packages: soupsieve, beautifulsoup4, bs4\nSuccessfully installed beautifulsoup4-4.10.0 bs4-0.0.1 soupsieve-2.3.1\n\u001b[33mWARNING: You are using pip version 20.1.1; however, version 22.0.3 is available.\nYou should consider upgrading via the '/root/venv/bin/python -m pip install --upgrade pip' command.\u001b[0m\n",
     "output_type": "stream"
    }
   ]
  },
  {
   "cell_type": "code",
   "metadata": {
    "id": "4LXPJDj1IBck",
    "deepnote_to_be_reexecuted": true,
    "source_hash": "873c678f",
    "execution_start": 1645209223482,
    "execution_millis": 5,
    "cell_id": "00012-be51d604-b262-4f59-a347-b335aa5b9876",
    "deepnote_cell_type": "code"
   },
   "source": "links_comisiones = [i.get('href') for i in comisiones]\nnombre_comisiones = [i.get_text() for i in comisiones]\n",
   "execution_count": null,
   "outputs": []
  },
  {
   "cell_type": "code",
   "metadata": {
    "id": "vODD7uGFIn8q",
    "executionInfo": {
     "status": "ok",
     "timestamp": 1632346363877,
     "user_tz": 300,
     "elapsed": 385,
     "user": {
      "displayName": "André Carrillo Montero",
      "photoUrl": "https://lh3.googleusercontent.com/a/default-user=s64",
      "userId": "11606357353285771722"
     }
    },
    "deepnote_to_be_reexecuted": true,
    "source_hash": "ee2f4f26",
    "execution_start": 1645209223536,
    "execution_millis": 1,
    "cell_id": "00013-fe9915e0-335e-456b-b7c2-c9474fdd8749",
    "deepnote_cell_type": "code"
   },
   "source": "COMISIONES_MIEMBROS_CARGOS = []",
   "execution_count": null,
   "outputs": []
  },
  {
   "cell_type": "code",
   "metadata": {
    "id": "vKxrZsBEI4zD",
    "deepnote_to_be_reexecuted": true,
    "source_hash": "a18eea81",
    "execution_start": 1645209223538,
    "execution_millis": 50903,
    "deepnote_output_heights": [
     null,
     611
    ],
    "cell_id": "00014-0c66de38-5d45-418f-b9a1-806ec36c598c",
    "deepnote_cell_type": "code"
   },
   "source": "import pandas as pd\nn=0\nfor URL_COMISION in links_comisiones:\n  nonrawpage = requests.get(URL_COMISION+'/sobrelacomision/integrantes/')\n  rawsoup = BeautifulSoup(nonrawpage.text, 'lxml')\n  try:\n    URL_COMISIONreal = rawsoup.find('iframe', attrs={'name':'ventana02'}).get('src')\n  except:\n    print(\"la interfaz no tiene los integrantes. Comision: \"+nombre_comisiones[links_comisiones.index(URL_COMISION)])\n  print(URL_COMISIONreal)\n  PaginaComision = requests.get(URL_COMISIONreal)\n  SoupComision = BeautifulSoup(PaginaComision.text, 'lxml')\n  Miembros = [i.get_text() for i in SoupComision.find_all('a', attrs={'class':'conginfo'})]\n  Cargos = [ i.get_text() for i in SoupComision.find_all('span', attrs={'class':'partidolist'})][1::2]\n  COMISIONES_MIEMBROS_CARGOS.append({Miembros[i]:[i[0] for i in Cargos][i] for i in range(len(Miembros))})\n  print(COMISIONES_MIEMBROS_CARGOS[n])\n  n+=1\n  print(\"=\"*10)\n",
   "execution_count": null,
   "outputs": [
    {
     "name": "stdout",
     "text": "https://www.congreso.gob.pe/?K=492&m23_idP=1094&TPL=if0\n{'Olivos Martínez Vivian': 'P', 'Doroteo Carbajo Raúl Felipe': 'V', 'Díaz Monago Freddy Ronald': 'S', 'Castillo Rivas Eduardo Enrique': 'T', 'Chacón Trujillo Nilza Merly': 'T', 'Ciccia Vásquez Miguel Angel': 'T', 'Coayla Juárez Jorge Samuel': 'T', 'Córdova Lobatón María Jessica': 'T', 'García Correa Idelso Manuel': 'T', 'Gutiérrez Ticona Paul Silvio': 'T', 'Jeri Oré José Enrique': 'T', 'López Ureña Ilich Fredy': 'T', 'Palacios Huamán Margot': 'T', 'Taipe Coronado María Elizabeth': 'T', 'Ventura Angel Héctor José': 'T', 'Zea Choquechambi Oscar': 'T', 'Bustamante Donayre Ernesto': 'A', 'Cavero Alva Alejandro Enrique': 'A', 'Cordero Jon Tay Luis Gustavo': 'A', 'Flores Ancachi Jorge Luis': 'A', 'Guerra García Campos Hernando': 'A', 'Medina Minaya Esdras Ricardo': 'A', 'Montalvo Cubas Segundo Toribio': 'A', 'Morante Figari Jorge Alberto': 'A', 'Picón Quedo Luis Raúl': 'A', 'Revilla Villanueva César Manuel': 'A', 'Soto Palacios Wilson': 'A', 'Vergara Mendoza Elvis Hernán': 'A', 'Acuña Peralta María Grimaneza': 'A', 'Barbarán Reyes Rosangella Andrea': 'A', 'Cordero Jon Tay María del Pilar': 'A', 'Infantes Castañeda Mery Eliana': 'A', 'Julon Irigoin Elva Edhit': 'A', 'López Morales Jeny Luz': 'A', 'Monteza Facho Silvia María': 'A', 'Paredes Castro Francis Jhasmina': 'A', 'Paredes Fonseca Karol Ivett': 'A', 'Portero López Hilda Marleny': 'A', 'Ramírez García Tania Estefany': 'A', 'Zeta Chunga Cruz María': 'A'}\n==========\nhttps://www.congreso.gob.pe/?K=492&m23_idP=1095&TPL=if0\n{'Cruz Mamani Flavio': 'P', 'Montalvo Cubas Segundo Toribio': 'V', 'Málaga Trillo George Edward': 'S', 'Acuña Peralta Segundo Héctor': 'T', 'Alva Rojas Carlos Enrique': 'T', 'Bustamante Donayre Ernesto': 'T', 'Cueto Aservi José Ernesto': 'T', 'Flores Ruíz Víctor Seferino': 'T', 'Jiménez Heredia David Julio': 'T', 'Marticorena Mendoza Jorge Alfonso': 'T', 'Saavedra Casternoque Hitler': 'T', 'Tacuri Valdivia Germán Adolfo': 'T', 'Tello Montes Nivardo Edgar': 'T', 'Aguinaga Recuenco Alejandro Aurelio': 'A', 'Castillo Rivas Eduardo Enrique': 'A', 'Cordero Jon Tay Luis Gustavo': 'A', 'Dávila Atanacio Pasión Neomias': 'A', 'Guerra García Campos Hernando': 'A', 'Montoya Manrique Jorge Carlos': 'A', 'Muñante Barrios Alejandro': 'A', 'Picón Quedo Luis Raúl': 'A', 'Reyes Cam Abel Augusto': 'A', 'Barbarán Reyes Rosangella Andrea': 'A', 'Cordero Jon Tay María del Pilar': 'A', 'Córdova Lobatón María Jessica': 'A'}\n==========\nhttps://www.congreso.gob.pe/?K=492&m23_idP=1096&TPL=if0\n{'Tacuri Valdivia Germán Adolfo': 'P', 'Martínez Talavera Pedro Edwin': 'V', 'Agüero Gutiérrez María Antonieta': 'S', 'Aragón Carreño Luis Ángel': 'T', 'Bazán Calderón Diego Alonso Fernando': 'T', 'Bellido Ugarte Guido': 'T', 'Bustamante Donayre Ernesto': 'T', 'Gutiérrez Ticona Paul Silvio': 'T', 'Lizarzaburu Lizarzaburu Juan Carlos Martin': 'T', 'Picón Quedo Luis Raúl': 'T', 'Revilla Villanueva César Manuel': 'T', 'Trigozo Reátegui Cheryl': 'T', 'Ugarte Mamani Jhakeline Katy': 'T', 'Zeballos Aponte Jorge Arturo': 'T', 'Alegría García Arturo': 'A', 'Azurín Loayza Alfredo': 'A', 'Castillo Rivas Eduardo Enrique': 'A', 'Flores Ruíz Víctor Seferino': 'A', 'Guerra García Campos Hernando': 'A', 'Huamán Coronado Raúl': 'A', 'Jeri Oré José Enrique': 'A', 'Muñante Barrios Alejandro': 'A', 'Tello Montes Nivardo Edgar': 'A', 'Vergara Mendoza Elvis Hernán': 'A', 'Barbarán Reyes Rosangella Andrea': 'A', 'Cordero Jon Tay María del Pilar': 'A', 'Gonzales Delgado Diana Carolina': 'A', 'Herrera Medina Noelia Rossvith': 'A'}\n==========\nhttps://www.congreso.gob.pe/?K=492&m23_idP=1097&TPL=if0\n{'Juárez Gallegos Carmen Patricia': 'P', 'Echaíz de Núñez Izaga Gladys Margot': 'V', 'Tudela Gutiérrez Adriana Josefina': 'S', 'Aguinaga Recuenco Alejandro Aurelio': 'T', 'Aragón Carreño Luis Ángel': 'T', 'Balcázar Zelada José María': 'T', 'Bellido Ugarte Guido': 'T', 'Cavero Alva Alejandro Enrique': 'T', 'Cerrón Rojas Waldemar José': 'T', 'Cutipa Ccama Víctor Raúl': 'T', 'Elera García Wilmar Alberto': 'T', 'Elías Ávalos José Luis': 'T', 'Moyano Delgado Martha Lupe': 'T', 'Muñante Barrios Alejandro': 'T', 'Quito Sarmiento Bernardo Jaime': 'T', 'Reymundo Mercado Edgard Cornelio': 'T', 'Salhuana Cavides Eduardo': 'T', 'Soto Palacios Wilson': 'T', 'Ventura Angel Héctor José': 'T', 'Anderson Ramírez Carlos Antonio': 'A', 'Castillo Rivas Eduardo Enrique': 'A', 'Dávila Atanacio Pasión Neomias': 'A', 'Flores Ramírez Alex Randu': 'A', 'Gonza Castillo Americo': 'A', 'Guerra García Campos Hernando': 'A', 'Jiménez Heredia David Julio': 'A', 'López Ureña Ilich Fredy': 'A', 'Medina Minaya Esdras Ricardo': 'A', 'Morante Figari Jorge Alberto': 'A', 'Paredes Gonzales Alex Antonio': 'A', 'Picón Quedo Luis Raúl': 'A', 'Vergara Mendoza Elvis Hernán': 'A', 'Amuruz Dulanto Yessica Rosselli': 'A', 'Barbarán Reyes Rosangella Andrea': 'A', 'Cordero Jon Tay María del Pilar': 'A', 'Juárez Calle Heidy Lisbeth': 'A', 'Jáuregui Martínez de Aguayo María de los Milagros Jackeline': 'A', 'Luque Ibarra Ruth': 'A', 'Obando Morgan Auristela Ana': 'A', 'Palacios Huamán Margot': 'A'}\n==========\nhttps://www.congreso.gob.pe/?K=492&m23_idP=1098&TPL=if0\n{'Flores Ramírez Alex Randu': 'P', 'Padilla Romero Javier Rommel': 'V', 'Ugarte Mamani Jhakeline Katy': 'S', 'Castillo Rivas Eduardo Enrique': 'T', 'Cavero Alva Alejandro Enrique': 'T', 'Cordero Jon Tay María del Pilar': 'T', 'Elías Ávalos José Luis': 'T', 'Flores Ancachi Jorge Luis': 'T', 'Infantes Castañeda Mery Eliana': 'T', 'Paredes Piqué Susel Ana María': 'T', 'Portero López Hilda Marleny': 'T', 'Quispe Mamani Wilson Rusbel': 'T', 'Taipe Coronado María Elizabeth': 'T', 'Trigozo Reátegui Cheryl': 'T', 'Ciccia Vásquez Miguel Angel': 'A', 'Cordero Jon Tay Luis Gustavo': 'A', 'Cruz Mamani Flavio': 'A', 'Guerra García Campos Hernando': 'A', 'López Ureña Ilich Fredy': 'A', 'Muñante Barrios Alejandro': 'A', 'Barbarán Reyes Rosangella Andrea': 'A', 'Gonzales Delgado Diana Carolina': 'A', 'Moyano Delgado Martha Lupe': 'A', 'Robles Araujo Silvana Emperatriz': 'A'}\n==========\nhttps://www.congreso.gob.pe/?K=492&m23_idP=1099&TPL=if0\n{'Luna Gálvez José León': 'P', 'Pariona Sinche Alfredo': 'V', 'Gonza Castillo Americo': 'S', 'Bazán Calderón Diego Alonso Fernando': 'T', 'Camones Soriano Lady Mercedes': 'T', 'Ciccia Vásquez Miguel Angel': 'T', 'Cordero Jon Tay Luis Gustavo': 'T', 'Cortez Aguirre Isabel': 'T', 'Cutipa Ccama Víctor Raúl': 'T', 'López Ureña Ilich Fredy': 'T', 'Monteza Facho Silvia María': 'T', 'Morante Figari Jorge Alberto': 'T', 'Obando Morgan Auristela Ana': 'T', 'Rivas Chacara Janet Milagros': 'T', 'Tacuri Valdivia Germán Adolfo': 'T', 'Castillo Rivas Eduardo Enrique': 'A', 'Guerra García Campos Hernando': 'A', 'Medina Minaya Esdras Ricardo': 'A', 'Padilla Romero Javier Rommel': 'A', 'Picón Quedo Luis Raúl': 'A', 'Vergara Mendoza Elvis Hernán': 'A', 'Alcarraz Aguero Yorel Kira': 'A', 'Barbarán Reyes Rosangella Andrea': 'A', 'Cordero Jon Tay María del Pilar': 'A', 'Herrera Medina Noelia Rossvith': 'A', 'López Morales Jeny Luz': 'A', 'Olivos Martínez Vivian': 'A', 'Tudela Gutiérrez Adriana Josefina': 'A'}\n==========\nhttps://www.congreso.gob.pe/?K=492&m23_idP=1100&TPL=if0\n{'Williams Zapata José Daniel': 'P', 'López Morales Jeny Luz': 'V', 'Montoya Manrique Jorge Carlos': 'S', 'Azurín Loayza Alfredo': 'T', 'Chiabra León Roberto Enrique': 'T', 'Cordero Jon Tay Luis Gustavo': 'T', 'Cueto Aservi José Ernesto': 'T', 'Espinoza Vargas Jhaec Darwin': 'T', 'Flores Ramírez Alex Randu': 'T', 'Gonza Castillo Americo': 'T', 'Juárez Gallegos Carmen Patricia': 'T', 'Lizarzaburu Lizarzaburu Juan Carlos Martin': 'T', 'Martínez Talavera Pedro Edwin': 'T', 'Montalvo Cubas Segundo Toribio': 'T', 'Reyes Cam Abel Augusto': 'T', 'Sánchez Palomino Roberto Helbert': 'T', 'Vásquez Vela Lucinda': 'T', 'Bustamante Donayre Ernesto': 'A', 'Castillo Rivas Eduardo Enrique': 'A', 'Cerrón Rojas Waldemar José': 'A', 'Guerra García Campos Hernando': 'A', 'Muñante Barrios Alejandro': 'A', 'Reymundo Mercado Edgard Cornelio': 'A', 'Zea Choquechambi Oscar': 'A', 'Zeballos Aponte Jorge Arturo': 'A', 'Barbarán Reyes Rosangella Andrea': 'A', 'Cordero Jon Tay María del Pilar': 'A', 'Infantes Castañeda Mery Eliana': 'A', 'Tudela Gutiérrez Adriana Josefina': 'A'}\n==========\nhttps://www.congreso.gob.pe/?K=492&m23_idP=1101&TPL=if0\n{'Yarrow Lumbreras Norma Martina': 'P', 'Obando Morgan Auristela Ana': 'V', 'Torres Salinas Rosio': 'S', 'Chacón Trujillo Nilza Merly': 'T', 'Córdova Lobatón María Jessica': 'T', 'Doroteo Carbajo Raúl Felipe': 'T', 'Elera García Wilmar Alberto': 'T', 'Flores Ancachi Jorge Luis': 'T', 'García Correa Idelso Manuel': 'T', 'Gonza Castillo Americo': 'T', 'Huamán Coronado Raúl': 'T', 'Marticorena Mendoza Jorge Alfonso': 'T', 'Medina Minaya Esdras Ricardo': 'T', 'Moyano Delgado Martha Lupe': 'T', 'Paredes Castro Francis Jhasmina': 'T', 'Paredes Fonseca Karol Ivett': 'T', 'Pariona Sinche Alfredo': 'T', 'Robles Araujo Silvana Emperatriz': 'T', 'Vásquez Vela Lucinda': 'T', 'Aragón Carreño Luis Ángel': 'A', 'Arriola Tueros José Alberto': 'A', 'Castillo Rivas Eduardo Enrique': 'A', 'Ciccia Vásquez Miguel Angel': 'A', 'Espinoza Vargas Jhaec Darwin': 'A', 'Guerra García Campos Hernando': 'A', 'López Ureña Ilich Fredy': 'A', 'Martínez Talavera Pedro Edwin': 'A', 'Picón Quedo Luis Raúl': 'A', 'Saavedra Casternoque Hitler': 'A', 'Vergara Mendoza Elvis Hernán': 'A', 'Alcarraz Aguero Yorel Kira': 'A', 'Amuruz Dulanto Yessica Rosselli': 'A', 'Barbarán Reyes Rosangella Andrea': 'A', 'Cordero Jon Tay María del Pilar': 'A', 'Herrera Medina Noelia Rossvith': 'A', 'Infantes Castañeda Mery Eliana': 'A', 'Juárez Gallegos Carmen Patricia': 'A', 'López Morales Jeny Luz': 'A', 'Monteza Facho Silvia María': 'A'}\n==========\nhttps://www.congreso.gob.pe/?K=492&m23_idP=1102&TPL=if0\n{'Monteza Facho Silvia María': 'P', 'Anderson Ramírez Carlos Antonio': 'S', 'Acuña Peralta María Grimaneza': 'T', 'Barbarán Reyes Rosangella Andrea': 'T', 'Bazán Narro Sigrid Tesoro': 'T', 'Dávila Atanacio Pasión Neomias': 'T', 'Herrera Medina Noelia Rossvith': 'T', 'Juárez Gallegos Carmen Patricia': 'T', 'Lizarzaburu Lizarzaburu Juan Carlos Martin': 'T', 'Luna Gálvez José León': 'T', 'López Ureña Ilich Fredy': 'T', 'Montoya Manrique Jorge Carlos': 'T', 'Morante Figari Jorge Alberto': 'T', 'Reyes Cam Abel Augusto': 'T', 'Tacuri Valdivia Germán Adolfo': 'T', 'Tello Montes Nivardo Edgar': 'T', 'Torres Salinas Rosio': 'T', 'Tudela Gutiérrez Adriana Josefina': 'T', 'Zea Choquechambi Oscar': 'T', 'Alegría García Arturo': 'A', 'Bellido Ugarte Guido': 'A', 'Castillo Rivas Eduardo Enrique': 'A', 'Espinoza Vargas Jhaec Darwin': 'A', 'Flores Ruíz Víctor Seferino': 'A', 'Guerra García Campos Hernando': 'A', 'Jeri Oré José Enrique': 'A', 'Montalvo Cubas Segundo Toribio': 'A', 'Muñante Barrios Alejandro': 'A', 'Padilla Romero Javier Rommel': 'A', 'Picón Quedo Luis Raúl': 'A', 'Vergara Mendoza Elvis Hernán': 'A', 'Cordero Jon Tay María del Pilar': 'A', 'Luque Ibarra Ruth': 'A', 'Ruíz Rodríguez Magaly Rosmery': 'A'}\n==========\nhttps://www.congreso.gob.pe/?K=492&m23_idP=1103&TPL=if0\n{'Medina Minaya Esdras Ricardo': 'P', 'Paredes Gonzales Alex Antonio': 'V', 'Paredes Fonseca Karol Ivett': 'S', 'Balcázar Zelada José María': 'T', 'Castillo Rivas Eduardo Enrique': 'T', 'Cerrón Rojas Waldemar José': 'T', 'Chiabra León Roberto Enrique': 'T', 'Cordero Jon Tay María del Pilar': 'T', 'Elías Ávalos José Luis': 'T', 'Gonzales Delgado Diana Carolina': 'T', 'Gutiérrez Ticona Paul Silvio': 'T', 'Huamán Coronado Raúl': 'T', 'Jeri Oré José Enrique': 'T', 'Martínez Talavera Pedro Edwin': 'T', 'Picón Quedo Luis Raúl': 'T', 'Ramírez García Tania Estefany': 'T', 'Sánchez Palomino Roberto Helbert': 'T', 'Tello Montes Nivardo Edgar': 'T', 'Alva Rojas Carlos Enrique': 'A', 'Azurín Loayza Alfredo': 'A', 'Bellido Ugarte Guido': 'A', 'Bustamante Donayre Ernesto': 'A', 'Cordero Jon Tay Luis Gustavo': 'A', 'Cruz Mamani Flavio': 'A', 'Doroteo Carbajo Raúl Felipe': 'A', 'Dávila Atanacio Pasión Neomias': 'A', 'Espinoza Vargas Jhaec Darwin': 'A', 'Guerra García Campos Hernando': 'A', 'López Ureña Ilich Fredy': 'A', 'Marticorena Mendoza Jorge Alfonso': 'A', 'Montalvo Cubas Segundo Toribio': 'A', 'Muñante Barrios Alejandro': 'A', 'Padilla Romero Javier Rommel': 'A', 'Quispe Mamani Wilson Rusbel': 'A', 'Soto Palacios Wilson': 'A', 'Williams Zapata José Daniel': 'A', 'Wong Pujada Enrique': 'A', 'Zeballos Madariaga Carlos Javier': 'A', 'Barbarán Reyes Rosangella Andrea': 'A', 'Herrera Medina Noelia Rossvith': 'A', 'Jáuregui Martínez de Aguayo María de los Milagros Jackeline': 'A', 'Paredes Castro Francis Jhasmina': 'A', 'Zeta Chunga Cruz María': 'A'}\n==========\nhttps://www.congreso.gob.pe/?K=492&m23_idP=1104&TPL=if0\n{'Alva Rojas Carlos Enrique': 'P', 'Gonzales Delgado Diana Carolina': 'V', 'Salhuana Cavides Eduardo': 'S', 'Burgos Oliveros Juan Bartolomé': 'T', 'Camones Soriano Lady Mercedes': 'T', 'Coayla Juárez Jorge Samuel': 'T', 'Cruz Mamani Flavio': 'T', 'Dávila Atanacio Pasión Neomias': 'T', 'Flores Ancachi Jorge Luis': 'T', 'Jeri Oré José Enrique': 'T', 'Luque Ibarra Ruth': 'T', 'López Morales Jeny Luz': 'T', 'Morante Figari Jorge Alberto': 'T', 'Padilla Romero Javier Rommel': 'T', 'Palacios Huamán Margot': 'T', 'Paredes Castro Francis Jhasmina': 'T', 'Revilla Villanueva César Manuel': 'T', 'Zeballos Madariaga Carlos Javier': 'T', 'Zeta Chunga Cruz María': 'T', 'Alegría García Arturo': 'A', 'Bazán Calderón Diego Alonso Fernando': 'A', 'Castillo Rivas Eduardo Enrique': 'A', 'Cordero Jon Tay Luis Gustavo': 'A', 'Doroteo Carbajo Raúl Felipe': 'A', 'Díaz Monago Freddy Ronald': 'A', 'Espinoza Vargas Jhaec Darwin': 'A', 'Guerra García Campos Hernando': 'A', 'Gutiérrez Ticona Paul Silvio': 'A', 'López Ureña Ilich Fredy': 'A', 'Medina Minaya Esdras Ricardo': 'A', 'Mori Celis Juan Carlos': 'A', 'Muñante Barrios Alejandro': 'A', 'Picón Quedo Luis Raúl': 'A', 'Quiroz Barboza Segundo Teodomiro': 'A', 'Soto Palacios Wilson': 'A', 'Ventura Angel Héctor José': 'A', 'Zea Choquechambi Oscar': 'A', 'Barbarán Reyes Rosangella Andrea': 'A', 'Chacón Trujillo Nilza Merly': 'A', 'Cordero Jon Tay María del Pilar': 'A', 'Herrera Medina Noelia Rossvith': 'A'}\n==========\nhttps://www.congreso.gob.pe/?K=492&m23_idP=1105&TPL=if0\n{'Ventura Angel Héctor José': 'P', 'Wong Pujada Enrique': 'V', 'Reymundo Mercado Edgard Cornelio': 'S', 'Alegría García Arturo': 'T', 'Burgos Oliveros Juan Bartolomé': 'T', 'Cutipa Ccama Víctor Raúl': 'T', 'Dávila Atanacio Pasión Neomias': 'T', 'Elera García Wilmar Alberto': 'T', 'Montalvo Cubas Segundo Toribio': 'T', 'Monteza Facho Silvia María': 'T', 'Morante Figari Jorge Alberto': 'T', 'Moyano Delgado Martha Lupe': 'T', 'Padilla Romero Javier Rommel': 'T', 'Picón Quedo Luis Raúl': 'T', 'Ruíz Rodríguez Magaly Rosmery': 'T', 'Varas Meléndez Elías Marcial': 'T', 'Vergara Mendoza Elvis Hernán': 'T', 'Vásquez Vela Lucinda': 'T', 'Azurín Loayza Alfredo': 'A', 'Bazán Calderón Diego Alonso Fernando': 'A', 'Bellido Ugarte Guido': 'A', 'Bustamante Donayre Ernesto': 'A', 'Castillo Rivas Eduardo Enrique': 'A', 'Guerra García Campos Hernando': 'A', 'López Ureña Ilich Fredy': 'A', 'Medina Minaya Esdras Ricardo': 'A', 'Muñante Barrios Alejandro': 'A', 'Revilla Villanueva César Manuel': 'A', 'Soto Reyes Alejandro': 'A', 'Zea Choquechambi Oscar': 'A', 'Alcarraz Aguero Yorel Kira': 'A', 'Barbarán Reyes Rosangella Andrea': 'A', 'Chacón Trujillo Nilza Merly': 'A', 'Cordero Jon Tay María del Pilar': 'A', 'Cortez Aguirre Isabel': 'A', 'Echaíz de Núñez Izaga Gladys Margot': 'A', 'Juárez Gallegos Carmen Patricia': 'A', 'López Morales Jeny Luz': 'A', 'Medina Hermosilla Elizabeth Sara': 'A', 'Palacios Huamán Margot': 'A'}\n==========\nhttps://www.congreso.gob.pe/?K=492&m23_idP=1106&TPL=if0\n{'Reyes Cam Abel Augusto': 'P', 'Portero López Hilda Marleny': 'V', 'Jáuregui Martínez de Aguayo María de los Milagros Jackeline': 'S', 'Alcarraz Aguero Yorel Kira': 'T', 'Arriola Tueros José Alberto': 'T', 'Ciccia Vásquez Miguel Angel': 'T', 'Infantes Castañeda Mery Eliana': 'T', 'Julon Irigoin Elva Edhit': 'T', 'Olivos Martínez Vivian': 'T', 'Palacios Huamán Margot': 'T', 'Paredes Castro Francis Jhasmina': 'T', 'Portalatino Ávalos Kelly Roxana': 'T', 'Ramírez García Tania Estefany': 'T', 'Sánchez Palomino Roberto Helbert': 'T', 'Taipe Coronado María Elizabeth': 'T', 'Yarrow Lumbreras Norma Martina': 'T', 'Castillo Rivas Eduardo Enrique': 'A', 'Espinoza Vargas Jhaec Darwin': 'A', 'Guerra García Campos Hernando': 'A', 'Morante Figari Jorge Alberto': 'A', 'Padilla Romero Javier Rommel': 'A', 'Picón Quedo Luis Raúl': 'A', 'Agüero Gutiérrez María Antonieta': 'A', 'Barbarán Reyes Rosangella Andrea': 'A', 'Chacón Trujillo Nilza Merly': 'A', 'Cordero Jon Tay María del Pilar': 'A', 'Gonzales Delgado Diana Carolina': 'A', 'Herrera Medina Noelia Rossvith': 'A'}\n==========\nhttps://www.congreso.gob.pe/?K=492&m23_idP=1107&TPL=if0\n{'Cueto Aservi José Ernesto': 'P', 'Gonza Castillo Americo': 'V', 'Cordero Jon Tay Luis Gustavo': 'S', 'Chiabra León Roberto Enrique': 'T', 'Doroteo Carbajo Raúl Felipe': 'T', 'Rivas Chacara Janet Milagros': 'T', 'Williams Zapata José Daniel': 'T'}\n==========\nhttps://www.congreso.gob.pe/?K=492&m23_idP=1108&TPL=if0\n{'Echaíz de Núñez Izaga Gladys Margot': 'P', 'Balcázar Zelada José María': 'V', 'Ventura Angel Héctor José': 'S', 'Arriola Tueros José Alberto': 'T', 'Bellido Ugarte Guido': 'T', 'Cavero Alva Alejandro Enrique': 'T', 'Cerrón Rojas Waldemar José': 'T', 'Cordero Jon Tay María del Pilar': 'T', 'Cutipa Ccama Víctor Raúl': 'T', 'Guerra García Campos Hernando': 'T', 'Juárez Calle Heidy Lisbeth': 'T', 'Luque Ibarra Ruth': 'T', 'Medina Minaya Esdras Ricardo': 'T', 'Muñante Barrios Alejandro': 'T', 'Paredes Gonzales Alex Antonio': 'T', 'Vergara Mendoza Elvis Hernán': 'T', 'Zeta Chunga Cruz María': 'T', 'Gonza Castillo Americo': 'A', 'Jeri Oré José Enrique': 'A', 'Amuruz Dulanto Yessica Rosselli': 'A', 'Barbarán Reyes Rosangella Andrea': 'A', 'Jáuregui Martínez de Aguayo María de los Milagros Jackeline': 'A'}\n==========\nhttps://www.congreso.gob.pe/?K=492&m23_idP=1109&TPL=if0\n{'Medina Hermosilla Elizabeth Sara': 'P', 'Barbarán Reyes Rosangella Andrea': 'V', 'Córdova Lobatón María Jessica': 'S', 'Alcarraz Aguero Yorel Kira': 'T', 'Flores Ramírez Alex Randu': 'T', 'Gutiérrez Ticona Paul Silvio': 'T', 'Herrera Medina Noelia Rossvith': 'T', 'Jáuregui Martínez de Aguayo María de los Milagros Jackeline': 'T', 'Luque Ibarra Ruth': 'T', 'López Morales Jeny Luz': 'T', 'Martínez Talavera Pedro Edwin': 'T', 'Portero López Hilda Marleny': 'T', 'Rivas Chacara Janet Milagros': 'T', 'Ruíz Rodríguez Magaly Rosmery': 'T', 'Ugarte Mamani Jhakeline Katy': 'T', 'Zeta Chunga Cruz María': 'T', 'Castillo Rivas Eduardo Enrique': 'A', 'Guerra García Campos Hernando': 'A', 'Muñante Barrios Alejandro': 'A', 'Amuruz Dulanto Yessica Rosselli': 'A', 'Chacón Trujillo Nilza Merly': 'A', 'Chávez Chino Betssy Betzabet': 'A', 'Cordero Jon Tay María del Pilar': 'A', 'Infantes Castañeda Mery Eliana': 'A', 'Juárez Calle Heidy Lisbeth': 'A', 'Ramírez García Tania Estefany': 'A'}\n==========\nhttps://www.congreso.gob.pe/?K=492&m23_idP=1110&TPL=if0\n{'Acuña Peralta Segundo Héctor': 'P', 'Quispe Mamani Wilson Rusbel': 'V', 'Alegría García Arturo': 'S', 'Aguinaga Recuenco Alejandro Aurelio': 'T', 'Bazán Calderón Diego Alonso Fernando': 'T', 'Calle Lobatón Digna': 'T', 'Chacón Trujillo Nilza Merly': 'T', 'Chirinos Venegas Patricia Rosa': 'T', 'Ciccia Vásquez Miguel Angel': 'T', 'Gonza Castillo Americo': 'T', 'Jeri Oré José Enrique': 'T', 'Juárez Calle Heidy Lisbeth': 'T', 'Mori Celis Juan Carlos': 'T', 'Paredes Castro Francis Jhasmina': 'T', 'Quiroz Barboza Segundo Teodomiro': 'T', 'Quito Sarmiento Bernardo Jaime': 'T', 'Ramírez García Tania Estefany': 'T', 'Reymundo Mercado Edgard Cornelio': 'T', 'Soto Palacios Wilson': 'T', 'Vergara Mendoza Elvis Hernán': 'T', 'Alva Rojas Carlos Enrique': 'A', 'Anderson Ramírez Carlos Antonio': 'A', 'Aragón Carreño Luis Ángel': 'A', 'Arriola Tueros José Alberto': 'A', 'Bellido Ugarte Guido': 'A', 'Burgos Oliveros Juan Bartolomé': 'A', 'Castillo Rivas Eduardo Enrique': 'A', 'Coayla Juárez Jorge Samuel': 'A', 'Cordero Jon Tay Luis Gustavo': 'A', 'Cueto Aservi José Ernesto': 'A', 'Doroteo Carbajo Raúl Felipe': 'A', 'Dávila Atanacio Pasión Neomias': 'A', 'Díaz Monago Freddy Ronald': 'A', 'Espinoza Vargas Jhaec Darwin': 'A', 'Flores Ancachi Jorge Luis': 'A', 'Guerra García Campos Hernando': 'A', 'Luna Gálvez José León': 'A', 'López Ureña Ilich Fredy': 'A', 'Martínez Talavera Pedro Edwin': 'A', 'Montalvo Cubas Segundo Toribio': 'A', 'Morante Figari Jorge Alberto': 'A', 'Picón Quedo Luis Raúl': 'A', 'Sánchez Palomino Roberto Helbert': 'A', 'Varas Meléndez Elías Marcial': 'A', 'Ventura Angel Héctor José': 'A', 'Zea Choquechambi Oscar': 'A', 'Acuña Peralta María Grimaneza': 'A', 'Barbarán Reyes Rosangella Andrea': 'A', 'Bazán Narro Sigrid Tesoro': 'A', 'Cordero Jon Tay María del Pilar': 'A', 'Herrera Medina Noelia Rossvith': 'A', 'Luque Ibarra Ruth': 'A', 'Monteza Facho Silvia María': 'A', 'Palacios Huamán Margot': 'A', 'Paredes Fonseca Karol Ivett': 'A'}\n==========\nhttps://www.congreso.gob.pe/?K=492&m23_idP=1111&TPL=if0\n{'Quito Sarmiento Bernardo Jaime': 'P', 'Flores Ruíz Víctor Seferino': 'V', 'Dávila Atanacio Pasión Neomias': 'S', 'Alva Rojas Carlos Enrique': 'T', 'Bazán Calderón Diego Alonso Fernando': 'T', 'Camones Soriano Lady Mercedes': 'T', 'Cordero Jon Tay María del Pilar': 'T', 'Espinoza Vargas Jhaec Darwin': 'T', 'García Correa Idelso Manuel': 'T', 'Guerra García Campos Hernando': 'T', 'Medina Hermosilla Elizabeth Sara': 'T', 'Padilla Romero Javier Rommel': 'T', 'Paredes Gonzales Alex Antonio': 'T', 'Portalatino Ávalos Kelly Roxana': 'T', 'Williams Zapata José Daniel': 'T', 'Bustamante Donayre Ernesto': 'A', 'Castillo Rivas Eduardo Enrique': 'A', 'Jeri Oré José Enrique': 'A', 'López Ureña Ilich Fredy': 'A', 'Medina Minaya Esdras Ricardo': 'A', 'Picón Quedo Luis Raúl': 'A', 'Vergara Mendoza Elvis Hernán': 'A', 'Barbarán Reyes Rosangella Andrea': 'A', 'Chacón Trujillo Nilza Merly': 'A', 'Córdova Lobatón María Jessica': 'A', 'Herrera Medina Noelia Rossvith': 'A', 'Olivos Martínez Vivian': 'A', 'Zeta Chunga Cruz María': 'A'}\n==========\nhttps://www.congreso.gob.pe/?K=492&m23_idP=1112&TPL=if0\n{'Palacios Huamán Margot': 'P', 'Luque Ibarra Ruth': 'V', 'Rivas Chacara Janet Milagros': 'S', 'Alegría García Arturo': 'T', 'Arriola Tueros José Alberto': 'T', 'Díaz Monago Freddy Ronald': 'T', 'Jáuregui Martínez de Aguayo María de los Milagros Jackeline': 'T', 'López Morales Jeny Luz': 'T', 'Medina Hermosilla Elizabeth Sara': 'T', 'Monteza Facho Silvia María': 'T', 'Moyano Delgado Martha Lupe': 'T', 'Portalatino Ávalos Kelly Roxana': 'T', 'Saavedra Casternoque Hitler': 'T', 'Taipe Coronado María Elizabeth': 'T', 'Tudela Gutiérrez Adriana Josefina': 'T', 'Castillo Rivas Eduardo Enrique': 'A', 'Guerra García Campos Hernando': 'A', 'Morante Figari Jorge Alberto': 'A', 'Padilla Romero Javier Rommel': 'A', 'Vergara Mendoza Elvis Hernán': 'A', 'Barbarán Reyes Rosangella Andrea': 'A', 'Cordero Jon Tay María del Pilar': 'A', 'Herrera Medina Noelia Rossvith': 'A', 'Yarrow Lumbreras Norma Martina': 'A'}\n==========\nhttps://www.congreso.gob.pe/?K=492&m23_idP=1113&TPL=if0\n{'Bustamante Donayre Ernesto': 'P', 'Zeballos Aponte Jorge Arturo': 'V', 'López Ureña Ilich Fredy': 'S', 'Alegría García Arturo': 'T', 'Amuruz Dulanto Yessica Rosselli': 'T', 'Coayla Juárez Jorge Samuel': 'T', 'Cordero Jon Tay María del Pilar': 'T', 'Flores Ramírez Alex Randu': 'T', 'Juárez Calle Heidy Lisbeth': 'T', 'Lizarzaburu Lizarzaburu Juan Carlos Martin': 'T', 'Morante Figari Jorge Alberto': 'T', 'Paredes Fonseca Karol Ivett': 'T', 'Picón Quedo Luis Raúl': 'T', 'Quiroz Barboza Segundo Teodomiro': 'T', 'Rivas Chacara Janet Milagros': 'T', 'Robles Araujo Silvana Emperatriz': 'T', 'Tudela Gutiérrez Adriana Josefina': 'T', 'Aguinaga Recuenco Alejandro Aurelio': 'A', 'Alva Rojas Carlos Enrique': 'A', 'Azurín Loayza Alfredo': 'A', 'Castillo Rivas Eduardo Enrique': 'A', 'Cavero Alva Alejandro Enrique': 'A', 'Cordero Jon Tay Luis Gustavo': 'A', 'Flores Ruíz Víctor Seferino': 'A', 'Gonza Castillo Americo': 'A', 'Guerra García Campos Hernando': 'A', 'López Morales Jeny Luz': 'A', 'Medina Minaya Esdras Ricardo': 'A', 'Portero López Hilda Marleny': 'A', 'Barbarán Reyes Rosangella Andrea': 'A', 'Herrera Medina Noelia Rossvith': 'A', 'Taipe Coronado María Elizabeth': 'A', 'Zeta Chunga Cruz María': 'A'}\n==========\nhttps://www.congreso.gob.pe/?K=492&m23_idP=1114&TPL=if0\n{'Saavedra Casternoque Hitler': 'P', 'Julon Irigoin Elva Edhit': 'V', 'Portalatino Ávalos Kelly Roxana': 'S', 'Burgos Oliveros Juan Bartolomé': 'T', 'Cordero Jon Tay María del Pilar': 'T', 'Córdova Lobatón María Jessica': 'T', 'Flores Ancachi Jorge Luis': 'T', 'Huamán Coronado Raúl': 'T', 'Marticorena Mendoza Jorge Alfonso': 'T', 'Mori Celis Juan Carlos': 'T', 'Muñante Barrios Alejandro': 'T', 'Paredes Castro Francis Jhasmina': 'T', 'Picón Quedo Luis Raúl': 'T', 'Revilla Villanueva César Manuel': 'T', 'Robles Araujo Silvana Emperatriz': 'T', 'Sánchez Palomino Roberto Helbert': 'T', 'Varas Meléndez Elías Marcial': 'T', 'Aguinaga Recuenco Alejandro Aurelio': 'A', 'Bustamante Donayre Ernesto': 'A', 'Camones Soriano Lady Mercedes': 'A', 'Castillo Rivas Eduardo Enrique': 'A', 'Ciccia Vásquez Miguel Angel': 'A', 'Guerra García Campos Hernando': 'A', 'Martínez Talavera Pedro Edwin': 'A', 'Medina Minaya Esdras Ricardo': 'A', 'Alcarraz Aguero Yorel Kira': 'A', 'Barbarán Reyes Rosangella Andrea': 'A', 'Chacón Trujillo Nilza Merly': 'A', 'Infantes Castañeda Mery Eliana': 'A', 'Luque Ibarra Ruth': 'A', 'Yarrow Lumbreras Norma Martina': 'A'}\n==========\nhttps://www.congreso.gob.pe/?K=492&m23_idP=1115&TPL=if0\n{'Cortez Aguirre Isabel': 'P', 'Burgos Oliveros Juan Bartolomé': 'V', 'Coayla Juárez Jorge Samuel': 'S', 'Agüero Gutiérrez María Antonieta': 'T', 'Aragón Carreño Luis Ángel': 'T', 'Cueto Aservi José Ernesto': 'T', 'Marticorena Mendoza Jorge Alfonso': 'T', 'Mori Celis Juan Carlos': 'T', 'Quiroz Barboza Segundo Teodomiro': 'T', 'Quito Sarmiento Bernardo Jaime': 'T', 'Ramírez García Tania Estefany': 'T', 'Revilla Villanueva César Manuel': 'T', 'Tudela Gutiérrez Adriana Josefina': 'T', 'Zeta Chunga Cruz María': 'T', 'Castillo Rivas Eduardo Enrique': 'A', 'Ciccia Vásquez Miguel Angel': 'A', 'García Correa Idelso Manuel': 'A', 'Guerra García Campos Hernando': 'A', 'Huamán Coronado Raúl': 'A', 'Infantes Castañeda Mery Eliana': 'A', 'López Ureña Ilich Fredy': 'A', 'Morante Figari Jorge Alberto': 'A', 'Paredes Gonzales Alex Antonio': 'A', 'Quispe Mamani Wilson Rusbel': 'A', 'Soto Reyes Alejandro': 'A', 'Barbarán Reyes Rosangella Andrea': 'A', 'Bazán Narro Sigrid Tesoro': 'A', 'Córdova Lobatón María Jessica': 'A', 'Luque Ibarra Ruth': 'A'}\n==========\nhttps://www.congreso.gob.pe/?K=492&m23_idP=1116&TPL=if0\n{'Soto Reyes Alejandro': 'P', 'Elera García Wilmar Alberto': 'V', 'Aragón Carreño Luis Ángel': 'S', 'Amuruz Dulanto Yessica Rosselli': 'T', 'Herrera Medina Noelia Rossvith': 'T', 'Jiménez Heredia David Julio': 'T', 'Medina Minaya Esdras Ricardo': 'T', 'Montalvo Cubas Segundo Toribio': 'T', 'Obando Morgan Auristela Ana': 'T', 'Olivos Martínez Vivian': 'T', 'Paredes Castro Francis Jhasmina': 'T', 'Paredes Piqué Susel Ana María': 'T', 'Pariona Sinche Alfredo': 'T', 'Quispe Mamani Wilson Rusbel': 'T', 'Soto Palacios Wilson': 'T', 'Tello Montes Nivardo Edgar': 'T', 'Trigozo Reátegui Cheryl': 'T', 'Alegría García Arturo': 'A', 'Alva Rojas Carlos Enrique': 'A', 'Castillo Rivas Eduardo Enrique': 'A', 'Cueto Aservi José Ernesto': 'A', 'Cutipa Ccama Víctor Raúl': 'A', 'Díaz Monago Freddy Ronald': 'A', 'Espinoza Vargas Jhaec Darwin': 'A', 'Flores Ancachi Jorge Luis': 'A', 'Guerra García Campos Hernando': 'A', 'Gutiérrez Ticona Paul Silvio': 'A', 'López Ureña Ilich Fredy': 'A', 'Mori Celis Juan Carlos': 'A', 'Picón Quedo Luis Raúl': 'A', 'Revilla Villanueva César Manuel': 'A', 'Salhuana Cavides Eduardo': 'A', 'Barbarán Reyes Rosangella Andrea': 'A', 'Cordero Jon Tay María del Pilar': 'A', 'Yarrow Lumbreras Norma Martina': 'A', 'Zeta Chunga Cruz María': 'A'}\n==========\nhttps://www.congreso.gob.pe/?K=492&m23_idP=1117&TPL=if0\n{'Espinoza Vargas Jhaec Darwin': 'P', 'Acuña Peralta María Grimaneza': 'V', 'Flores Ruíz Víctor Seferino': 'S', 'Alcarraz Aguero Yorel Kira': 'T', 'Alegría García Arturo': 'T', 'Amuruz Dulanto Yessica Rosselli': 'T', 'Arriola Tueros José Alberto': 'T', 'Bazán Narro Sigrid Tesoro': 'T', 'Calle Lobatón Digna': 'T', 'Coayla Juárez Jorge Samuel': 'T', 'Dávila Atanacio Pasión Neomias': 'T', 'Díaz Monago Freddy Ronald': 'T', 'Elera García Wilmar Alberto': 'T', 'Herrera Medina Noelia Rossvith': 'T', 'Moyano Delgado Martha Lupe': 'T', 'Quiroz Barboza Segundo Teodomiro': 'T', 'Varas Meléndez Elías Marcial': 'T', 'Alva Rojas Carlos Enrique': 'A', 'Aragón Carreño Luis Ángel': 'A', 'Castillo Rivas Eduardo Enrique': 'A', 'Ciccia Vásquez Miguel Angel': 'A', 'Cruz Mamani Flavio': 'A', 'Doroteo Carbajo Raúl Felipe': 'A', 'Flores Ancachi Jorge Luis': 'A', 'García Correa Idelso Manuel': 'A', 'Guerra García Campos Hernando': 'A', 'Gutiérrez Ticona Paul Silvio': 'A', 'López Ureña Ilich Fredy': 'A', 'Martínez Talavera Pedro Edwin': 'A', 'Medina Minaya Esdras Ricardo': 'A', 'Mori Celis Juan Carlos': 'A', 'Picón Quedo Luis Raúl': 'A', 'Quispe Mamani Wilson Rusbel': 'A', 'Saavedra Casternoque Hitler': 'A', 'Soto Palacios Wilson': 'A', 'Tello Montes Nivardo Edgar': 'A', 'Williams Zapata José Daniel': 'A', 'Agüero Gutiérrez María Antonieta': 'A', 'Barbarán Reyes Rosangella Andrea': 'A', 'Chacón Trujillo Nilza Merly': 'A', 'Cordero Jon Tay María del Pilar': 'A', 'Córdova Lobatón María Jessica': 'A', 'Monteza Facho Silvia María': 'A', 'Paredes Fonseca Karol Ivett': 'A', 'Zeta Chunga Cruz María': 'A'}\n==========\n",
     "output_type": "stream"
    }
   ]
  },
  {
   "cell_type": "code",
   "metadata": {
    "id": "BUY4DylfRDN6",
    "deepnote_to_be_reexecuted": true,
    "source_hash": "ae34d545",
    "execution_start": 1645209274473,
    "execution_millis": 195,
    "cell_id": "00015-c958c80e-4fdc-465d-a843-c84bfa3b60f0",
    "deepnote_cell_type": "code"
   },
   "source": "for zip in COMISIONES_MIEMBROS_CARGOS:\n  for (name, cargo) in zip.items():\n        listindex=([nombre_comisiones[COMISIONES_MIEMBROS_CARGOS.index(zip)], cargo])\n        newCongress['Comisiones'][Congress.index[Congress['Congresista']==name].tolist()[0]].append(listindex)\n",
   "execution_count": null,
   "outputs": []
  },
  {
   "cell_type": "code",
   "source": "_deepnote_run_altair(newCongress, \"\"\"{\"$schema\":\"https://vega.github.io/schema/vega-lite/v4.json\",\"mark\":{\"type\":\"point\",\"tooltip\":{\"content\":\"data\"}},\"height\":220,\"autosize\":{\"type\":\"fit\"},\"data\":{\"name\":\"placeholder\"},\"encoding\":{\"x\":{\"field\":\"Congresista\",\"type\":\"nominal\",\"sort\":{\"order\":\"ascending\",\"encoding\":\"x\"},\"scale\":{\"type\":\"linear\",\"zero\":false}},\"y\":{\"field\":\"Región\",\"type\":\"nominal\",\"sort\":{\"order\":\"ascending\",\"encoding\":\"y\"},\"scale\":{\"type\":\"linear\",\"zero\":false}},\"color\":{\"field\":\"\",\"type\":\"nominal\",\"sort\":null,\"scale\":{\"type\":\"linear\",\"zero\":false}}}}\"\"\")",
   "metadata": {
    "deepnote_variable_name": "newCongress",
    "deepnote_visualization_spec": {
     "$schema": "https://vega.github.io/schema/vega-lite/v4.json",
     "mark": {
      "type": "point",
      "tooltip": {
       "content": "data"
      }
     },
     "height": 220,
     "autosize": {
      "type": "fit"
     },
     "data": {
      "name": "placeholder"
     },
     "encoding": {
      "x": {
       "field": "Congresista",
       "type": "nominal",
       "sort": {
        "order": "ascending",
        "encoding": "x"
       },
       "scale": {
        "type": "linear",
        "zero": false
       }
      },
      "y": {
       "field": "Región",
       "type": "nominal",
       "sort": {
        "order": "ascending",
        "encoding": "y"
       },
       "scale": {
        "type": "linear",
        "zero": false
       }
      },
      "color": {
       "field": "",
       "type": "nominal",
       "sort": null,
       "scale": {
        "type": "linear",
        "zero": false
       }
      }
     }
    },
    "deepnote_to_be_reexecuted": true,
    "source_hash": "1ab15274",
    "execution_start": 1645209526526,
    "execution_millis": 113,
    "deepnote_output_heights": [
     314
    ],
    "cell_id": "00016-03a8280a-091c-4c73-883b-ebe32dbff7cd",
    "deepnote_cell_type": "visualization"
   },
   "execution_count": null,
   "outputs": [
    {
     "output_type": "execute_result",
     "execution_count": 25,
     "data": {
      "text/html": "\n<div id=\"altair-viz-1a1d3b52b5e941a8b92210cf8eba2fb3\"></div>\n<script type=\"text/javascript\">\n  (function(spec, embedOpt){\n    let outputDiv = document.currentScript.previousElementSibling;\n    if (outputDiv.id !== \"altair-viz-1a1d3b52b5e941a8b92210cf8eba2fb3\") {\n      outputDiv = document.getElementById(\"altair-viz-1a1d3b52b5e941a8b92210cf8eba2fb3\");\n    }\n    const paths = {\n      \"vega\": \"https://cdn.jsdelivr.net/npm//vega@5?noext\",\n      \"vega-lib\": \"https://cdn.jsdelivr.net/npm//vega-lib?noext\",\n      \"vega-lite\": \"https://cdn.jsdelivr.net/npm//vega-lite@4.8.1?noext\",\n      \"vega-embed\": \"https://cdn.jsdelivr.net/npm//vega-embed@6?noext\",\n    };\n\n    function loadScript(lib) {\n      return new Promise(function(resolve, reject) {\n        var s = document.createElement('script');\n        s.src = paths[lib];\n        s.async = true;\n        s.onload = () => resolve(paths[lib]);\n        s.onerror = () => reject(`Error loading script: ${paths[lib]}`);\n        document.getElementsByTagName(\"head\")[0].appendChild(s);\n      });\n    }\n\n    function showError(err) {\n      outputDiv.innerHTML = `<div class=\"error\" style=\"color:red;\">${err}</div>`;\n      throw err;\n    }\n\n    function displayChart(vegaEmbed) {\n      vegaEmbed(outputDiv, spec, embedOpt)\n        .catch(err => showError(`Javascript Error: ${err.message}<br>This usually means there's a typo in your chart specification. See the javascript console for the full traceback.`));\n    }\n\n    if(typeof define === \"function\" && define.amd) {\n      requirejs.config({paths});\n      require([\"vega-embed\"], displayChart, err => showError(`Error loading script: ${err.message}`));\n    } else if (typeof vegaEmbed === \"function\") {\n      displayChart(vegaEmbed);\n    } else {\n      loadScript(\"vega\")\n        .then(() => loadScript(\"vega-lite\"))\n        .then(() => loadScript(\"vega-embed\"))\n        .catch(showError)\n        .then(() => displayChart(vegaEmbed));\n    }\n  })({\"config\": {\"view\": {\"continuousWidth\": 400, \"continuousHeight\": 300}, \"area\": {\"fill\": \"#51C0E9\"}, \"axis\": {\"labelFont\": \"Inter, sans-serif\", \"labelFontSize\": 12, \"labelFontWeight\": \"normal\", \"labelLimit\": 60, \"labelOverlap\": \"greedy\", \"titleFont\": \"Inter, sans-serif\", \"titleFontSize\": 12, \"titleFontWeight\": \"bold\"}, \"background\": \"#ffffff\", \"legend\": {\"labelFont\": \"Inter, sans-serif\", \"labelFontSize\": 12, \"titleFont\": \"Inter, sans-serif\", \"titleFontSize\": 12, \"titleFontWeight\": \"bold\"}, \"line\": {\"stroke\": \"#51C0E9\", \"strokeWidth\": 2}, \"rect\": {\"fill\": \"#51C0E9\"}, \"title\": {\"anchor\": \"start\", \"color\": \"#000000\", \"font\": \"Inter, sans-serif\", \"fontSize\": 22, \"fontWeight\": \"normal\"}}, \"data\": {\"name\": \"data-693bce192e59b531db80fa46781afdbc\"}, \"mark\": {\"type\": \"point\", \"tooltip\": {\"content\": \"data\"}}, \"autosize\": {\"type\": \"fit\"}, \"encoding\": {\"color\": {\"type\": \"nominal\", \"field\": \"\", \"scale\": {\"type\": \"linear\", \"zero\": false}, \"sort\": null}, \"x\": {\"type\": \"nominal\", \"field\": \"Congresista\", \"scale\": {\"type\": \"linear\", \"zero\": false}, \"sort\": {\"encoding\": \"x\", \"order\": \"ascending\"}}, \"y\": {\"type\": \"nominal\", \"field\": \"Regi\\u00f3n\", \"scale\": {\"type\": \"linear\", \"zero\": false}, \"sort\": {\"encoding\": \"y\", \"order\": \"ascending\"}}}, \"height\": 300, \"width\": \"container\", \"$schema\": \"https://vega.github.io/schema/vega-lite/v4.json\", \"datasets\": {\"data-693bce192e59b531db80fa46781afdbc\": [{\"Congresista\": \"Acu\\u00f1a Peralta Mar\\u00eda Grimaneza\", \"Regi\\u00f3n\": \"Lambayeque\", \"Comisiones\": [[\"Agraria\", \"A\"], [\"Econom\\u00eda, Banca, Finanzas e Inteligencia Financiera\", \"T\"], [\"Presupuesto y Cuenta General de la Rep\\u00fablica\", \"A\"], [\"Vivienda y Construcci\\u00f3n\", \"V\"]], \"Bancada\": \"ALIANZA PARA EL PROGRESO\"}, {\"Congresista\": \"Acu\\u00f1a Peralta Segundo H\\u00e9ctor\", \"Regi\\u00f3n\": \"La Libertad\", \"Comisiones\": [[\"Ciencia, Innovaci\\u00f3n y Tecnolog\\u00eda\", \"T\"], [\"Presupuesto y Cuenta General de la Rep\\u00fablica\", \"P\"]], \"Bancada\": \"ALIANZA PARA EL PROGRESO\"}, {\"Congresista\": \"Ag\\u00fcero Guti\\u00e9rrez Mar\\u00eda Antonieta\", \"Regi\\u00f3n\": \"Arequipa\", \"Comisiones\": [[\"Comercio Exterior y Turismo\", \"S\"], [\"Inclusi\\u00f3n Social y Personas con Discapacidad\", \"A\"], [\"Trabajo y Seguridad Social\", \"T\"], [\"Vivienda y Construcci\\u00f3n\", \"A\"]], \"Bancada\": \"PER\\u00da LIBRE\"}, {\"Congresista\": \"Aguinaga Recuenco Alejandro Aurelio\", \"Regi\\u00f3n\": \"Lambayeque\", \"Comisiones\": [[\"Ciencia, Innovaci\\u00f3n y Tecnolog\\u00eda\", \"A\"], [\"Constituci\\u00f3n y Reglamento\", \"T\"], [\"Presupuesto y Cuenta General de la Rep\\u00fablica\", \"T\"], [\"Relaciones Exteriores\", \"A\"], [\"Salud y Poblaci\\u00f3n\", \"A\"]], \"Bancada\": \"FUERZA POPULAR\"}, {\"Congresista\": \"Alcarraz Aguero Yorel Kira\", \"Regi\\u00f3n\": \"Lima\", \"Comisiones\": [[\"Defensa del Consumidor y Organismos Reguladores de los Servicios P\\u00fablicos\", \"A\"], [\"Descentralizaci\\u00f3n, Regionalizaci\\u00f3n, Gobiernos Locales y Modernizaci\\u00f3n de la Gesti\\u00f3n del Estado\", \"A\"], [\"Fiscalizaci\\u00f3n y Contralor\\u00eda\", \"A\"], [\"Inclusi\\u00f3n Social y Personas con Discapacidad\", \"T\"], [\"Mujer y Familia\", \"T\"], [\"Salud y Poblaci\\u00f3n\", \"A\"], [\"Vivienda y Construcci\\u00f3n\", \"T\"]], \"Bancada\": \"SOMOS PER\\u00da\"}, {\"Congresista\": \"Alegr\\u00eda Garc\\u00eda Arturo\", \"Regi\\u00f3n\": \"San Mart\\u00edn\", \"Comisiones\": [[\"Comercio Exterior y Turismo\", \"A\"], [\"Econom\\u00eda, Banca, Finanzas e Inteligencia Financiera\", \"A\"], [\"Energ\\u00eda y Minas\", \"A\"], [\"Fiscalizaci\\u00f3n y Contralor\\u00eda\", \"T\"], [\"Presupuesto y Cuenta General de la Rep\\u00fablica\", \"S\"], [\"Pueblos Andinos, Amaz\\u00f3nicos y Afroperuanos, Ambiente y Ecolog\\u00eda\", \"T\"], [\"Relaciones Exteriores\", \"T\"], [\"Transportes y Comunicaciones\", \"A\"], [\"Vivienda y Construcci\\u00f3n\", \"T\"]], \"Bancada\": \"FUERZA POPULAR\"}, {\"Congresista\": \"Alva Prieto Mar\\u00eda del Carmen\", \"Regi\\u00f3n\": \"Lima\", \"Comisiones\": [], \"Bancada\": \"ACCI\\u00d3N POPULAR\"}, {\"Congresista\": \"Alva Rojas Carlos Enrique\", \"Regi\\u00f3n\": \"La Libertad\", \"Comisiones\": [[\"Ciencia, Innovaci\\u00f3n y Tecnolog\\u00eda\", \"T\"], [\"Educaci\\u00f3n, Juventud y Deporte\", \"A\"], [\"Energ\\u00eda y Minas\", \"P\"], [\"Presupuesto y Cuenta General de la Rep\\u00fablica\", \"A\"], [\"Producci\\u00f3n, Micro y Peque\\u00f1a Empresa y Cooperativas\", \"T\"], [\"Relaciones Exteriores\", \"A\"], [\"Transportes y Comunicaciones\", \"A\"], [\"Vivienda y Construcci\\u00f3n\", \"A\"]], \"Bancada\": \"ACCI\\u00d3N POPULAR\"}, {\"Congresista\": \"Amuruz Dulanto Yessica Rosselli\", \"Regi\\u00f3n\": \"Lima\", \"Comisiones\": [[\"Constituci\\u00f3n y Reglamento\", \"A\"], [\"Descentralizaci\\u00f3n, Regionalizaci\\u00f3n, Gobiernos Locales y Modernizaci\\u00f3n de la Gesti\\u00f3n del Estado\", \"A\"], [\"Justicia y Derechos Humanos\", \"A\"], [\"Mujer y Familia\", \"A\"], [\"Relaciones Exteriores\", \"T\"], [\"Transportes y Comunicaciones\", \"T\"], [\"Vivienda y Construcci\\u00f3n\", \"T\"]], \"Bancada\": \"AVANZA PA\\u00cdS - PARTIDO DE INTEGRACI\\u00d3N SOCIAL\"}, {\"Congresista\": \"Anderson Ram\\u00edrez Carlos Antonio\", \"Regi\\u00f3n\": \"Lima\", \"Comisiones\": [[\"Constituci\\u00f3n y Reglamento\", \"A\"], [\"Econom\\u00eda, Banca, Finanzas e Inteligencia Financiera\", \"S\"], [\"Presupuesto y Cuenta General de la Rep\\u00fablica\", \"A\"]], \"Bancada\": \"PODEMOS PER\\u00da\"}, {\"Congresista\": \"Arag\\u00f3n Carre\\u00f1o Luis \\u00c1ngel\", \"Regi\\u00f3n\": \"Cusco\", \"Comisiones\": [[\"Comercio Exterior y Turismo\", \"T\"], [\"Constituci\\u00f3n y Reglamento\", \"T\"], [\"Descentralizaci\\u00f3n, Regionalizaci\\u00f3n, Gobiernos Locales y Modernizaci\\u00f3n de la Gesti\\u00f3n del Estado\", \"A\"], [\"Presupuesto y Cuenta General de la Rep\\u00fablica\", \"A\"], [\"Trabajo y Seguridad Social\", \"T\"], [\"Transportes y Comunicaciones\", \"S\"], [\"Vivienda y Construcci\\u00f3n\", \"A\"]], \"Bancada\": \"ACCI\\u00d3N POPULAR\"}, {\"Congresista\": \"Arriola Tueros Jos\\u00e9 Alberto\", \"Regi\\u00f3n\": \"Lima\", \"Comisiones\": [[\"Descentralizaci\\u00f3n, Regionalizaci\\u00f3n, Gobiernos Locales y Modernizaci\\u00f3n de la Gesti\\u00f3n del Estado\", \"A\"], [\"Inclusi\\u00f3n Social y Personas con Discapacidad\", \"T\"], [\"Justicia y Derechos Humanos\", \"T\"], [\"Presupuesto y Cuenta General de la Rep\\u00fablica\", \"A\"], [\"Pueblos Andinos, Amaz\\u00f3nicos y Afroperuanos, Ambiente y Ecolog\\u00eda\", \"T\"], [\"Vivienda y Construcci\\u00f3n\", \"T\"]], \"Bancada\": \"ACCI\\u00d3N POPULAR\"}, {\"Congresista\": \"Azur\\u00edn Loayza Alfredo\", \"Regi\\u00f3n\": \"Lima\", \"Comisiones\": [[\"Comercio Exterior y Turismo\", \"A\"], [\"Defensa Nacional, Orden interno, Desarrollo alternativo y Lucha contra las Drogas\", \"T\"], [\"Educaci\\u00f3n, Juventud y Deporte\", \"A\"], [\"Fiscalizaci\\u00f3n y Contralor\\u00eda\", \"A\"], [\"Relaciones Exteriores\", \"A\"]], \"Bancada\": \"SOMOS PER\\u00da\"}, {\"Congresista\": \"Balc\\u00e1zar Zelada Jos\\u00e9 Mar\\u00eda\", \"Regi\\u00f3n\": \"Lambayeque\", \"Comisiones\": [[\"Constituci\\u00f3n y Reglamento\", \"T\"], [\"Educaci\\u00f3n, Juventud y Deporte\", \"T\"], [\"Justicia y Derechos Humanos\", \"V\"]], \"Bancada\": \"PER\\u00da LIBRE\"}, {\"Congresista\": \"Barbar\\u00e1n Reyes Rosangella Andrea\", \"Regi\\u00f3n\": \"Lima\", \"Comisiones\": [[\"Agraria\", \"A\"], [\"Ciencia, Innovaci\\u00f3n y Tecnolog\\u00eda\", \"A\"], [\"Comercio Exterior y Turismo\", \"A\"], [\"Constituci\\u00f3n y Reglamento\", \"A\"], [\"Cultura y Patrimonio Cultural\", \"A\"], [\"Defensa del Consumidor y Organismos Reguladores de los Servicios P\\u00fablicos\", \"A\"], [\"Defensa Nacional, Orden interno, Desarrollo alternativo y Lucha contra las Drogas\", \"A\"], [\"Descentralizaci\\u00f3n, Regionalizaci\\u00f3n, Gobiernos Locales y Modernizaci\\u00f3n de la Gesti\\u00f3n del Estado\", \"A\"], [\"Econom\\u00eda, Banca, Finanzas e Inteligencia Financiera\", \"T\"], [\"Educaci\\u00f3n, Juventud y Deporte\", \"A\"], [\"Energ\\u00eda y Minas\", \"A\"], [\"Fiscalizaci\\u00f3n y Contralor\\u00eda\", \"A\"], [\"Inclusi\\u00f3n Social y Personas con Discapacidad\", \"A\"], [\"Justicia y Derechos Humanos\", \"A\"], [\"Mujer y Familia\", \"V\"], [\"Presupuesto y Cuenta General de la Rep\\u00fablica\", \"A\"], [\"Producci\\u00f3n, Micro y Peque\\u00f1a Empresa y Cooperativas\", \"A\"], [\"Pueblos Andinos, Amaz\\u00f3nicos y Afroperuanos, Ambiente y Ecolog\\u00eda\", \"A\"], [\"Relaciones Exteriores\", \"A\"], [\"Salud y Poblaci\\u00f3n\", \"A\"], [\"Trabajo y Seguridad Social\", \"A\"], [\"Transportes y Comunicaciones\", \"A\"], [\"Vivienda y Construcci\\u00f3n\", \"A\"]], \"Bancada\": \"FUERZA POPULAR\"}, {\"Congresista\": \"Baz\\u00e1n Calder\\u00f3n Diego Alonso Fernando\", \"Regi\\u00f3n\": \"La Libertad\", \"Comisiones\": [[\"Comercio Exterior y Turismo\", \"T\"], [\"Defensa del Consumidor y Organismos Reguladores de los Servicios P\\u00fablicos\", \"T\"], [\"Energ\\u00eda y Minas\", \"A\"], [\"Fiscalizaci\\u00f3n y Contralor\\u00eda\", \"A\"], [\"Presupuesto y Cuenta General de la Rep\\u00fablica\", \"T\"], [\"Producci\\u00f3n, Micro y Peque\\u00f1a Empresa y Cooperativas\", \"T\"]], \"Bancada\": \"AVANZA PA\\u00cdS - PARTIDO DE INTEGRACI\\u00d3N SOCIAL\"}, {\"Congresista\": \"Baz\\u00e1n Narro Sigrid Tesoro\", \"Regi\\u00f3n\": \"Lima\", \"Comisiones\": [[\"Econom\\u00eda, Banca, Finanzas e Inteligencia Financiera\", \"T\"], [\"Presupuesto y Cuenta General de la Rep\\u00fablica\", \"A\"], [\"Trabajo y Seguridad Social\", \"A\"], [\"Vivienda y Construcci\\u00f3n\", \"T\"]], \"Bancada\": \"JUNTOS POR EL PER\\u00da\"}, {\"Congresista\": \"Bellido Ugarte Guido\", \"Regi\\u00f3n\": \"Cusco\", \"Comisiones\": [[\"Comercio Exterior y Turismo\", \"T\"], [\"Constituci\\u00f3n y Reglamento\", \"T\"], [\"Econom\\u00eda, Banca, Finanzas e Inteligencia Financiera\", \"A\"], [\"Educaci\\u00f3n, Juventud y Deporte\", \"A\"], [\"Fiscalizaci\\u00f3n y Contralor\\u00eda\", \"A\"], [\"Justicia y Derechos Humanos\", \"T\"], [\"Presupuesto y Cuenta General de la Rep\\u00fablica\", \"A\"]], \"Bancada\": \"PER\\u00da LIBRE\"}, {\"Congresista\": \"Bermejo Rojas Guillermo\", \"Regi\\u00f3n\": \"Lima\", \"Comisiones\": [], \"Bancada\": \"PER\\u00da DEMOCR\\u00c1TICO\"}, {\"Congresista\": \"Burgos Oliveros Juan Bartolom\\u00e9\", \"Regi\\u00f3n\": \"La Libertad\", \"Comisiones\": [[\"Energ\\u00eda y Minas\", \"T\"], [\"Fiscalizaci\\u00f3n y Contralor\\u00eda\", \"T\"], [\"Presupuesto y Cuenta General de la Rep\\u00fablica\", \"A\"], [\"Salud y Poblaci\\u00f3n\", \"T\"], [\"Trabajo y Seguridad Social\", \"V\"]], \"Bancada\": \"AVANZA PA\\u00cdS - PARTIDO DE INTEGRACI\\u00d3N SOCIAL\"}, {\"Congresista\": \"Bustamante Donayre Ernesto\", \"Regi\\u00f3n\": \"Lima\", \"Comisiones\": [[\"Agraria\", \"A\"], [\"Ciencia, Innovaci\\u00f3n y Tecnolog\\u00eda\", \"T\"], [\"Comercio Exterior y Turismo\", \"T\"], [\"Defensa Nacional, Orden interno, Desarrollo alternativo y Lucha contra las Drogas\", \"A\"], [\"Educaci\\u00f3n, Juventud y Deporte\", \"A\"], [\"Fiscalizaci\\u00f3n y Contralor\\u00eda\", \"A\"], [\"Producci\\u00f3n, Micro y Peque\\u00f1a Empresa y Cooperativas\", \"A\"], [\"Relaciones Exteriores\", \"P\"], [\"Salud y Poblaci\\u00f3n\", \"A\"]], \"Bancada\": \"FUERZA POPULAR\"}, {\"Congresista\": \"Calle Lobat\\u00f3n Digna\", \"Regi\\u00f3n\": \"Lima\", \"Comisiones\": [[\"Presupuesto y Cuenta General de la Rep\\u00fablica\", \"T\"], [\"Vivienda y Construcci\\u00f3n\", \"T\"]], \"Bancada\": \"PODEMOS PER\\u00da\"}, {\"Congresista\": \"Camones Soriano Lady Mercedes\", \"Regi\\u00f3n\": \"Ancash\", \"Comisiones\": [[\"Defensa del Consumidor y Organismos Reguladores de los Servicios P\\u00fablicos\", \"T\"], [\"Energ\\u00eda y Minas\", \"T\"], [\"Producci\\u00f3n, Micro y Peque\\u00f1a Empresa y Cooperativas\", \"T\"], [\"Salud y Poblaci\\u00f3n\", \"A\"]], \"Bancada\": \"ALIANZA PARA EL PROGRESO\"}, {\"Congresista\": \"Castillo Rivas Eduardo Enrique\", \"Regi\\u00f3n\": \"Piura\", \"Comisiones\": [[\"Agraria\", \"T\"], [\"Ciencia, Innovaci\\u00f3n y Tecnolog\\u00eda\", \"A\"], [\"Comercio Exterior y Turismo\", \"A\"], [\"Constituci\\u00f3n y Reglamento\", \"A\"], [\"Cultura y Patrimonio Cultural\", \"T\"], [\"Defensa del Consumidor y Organismos Reguladores de los Servicios P\\u00fablicos\", \"A\"], [\"Defensa Nacional, Orden interno, Desarrollo alternativo y Lucha contra las Drogas\", \"A\"], [\"Descentralizaci\\u00f3n, Regionalizaci\\u00f3n, Gobiernos Locales y Modernizaci\\u00f3n de la Gesti\\u00f3n del Estado\", \"A\"], [\"Econom\\u00eda, Banca, Finanzas e Inteligencia Financiera\", \"A\"], [\"Educaci\\u00f3n, Juventud y Deporte\", \"T\"], [\"Energ\\u00eda y Minas\", \"A\"], [\"Fiscalizaci\\u00f3n y Contralor\\u00eda\", \"A\"], [\"Inclusi\\u00f3n Social y Personas con Discapacidad\", \"A\"], [\"Mujer y Familia\", \"A\"], [\"Presupuesto y Cuenta General de la Rep\\u00fablica\", \"A\"], [\"Producci\\u00f3n, Micro y Peque\\u00f1a Empresa y Cooperativas\", \"A\"], [\"Pueblos Andinos, Amaz\\u00f3nicos y Afroperuanos, Ambiente y Ecolog\\u00eda\", \"A\"], [\"Relaciones Exteriores\", \"A\"], [\"Salud y Poblaci\\u00f3n\", \"A\"], [\"Trabajo y Seguridad Social\", \"A\"], [\"Transportes y Comunicaciones\", \"A\"], [\"Vivienda y Construcci\\u00f3n\", \"A\"]], \"Bancada\": \"FUERZA POPULAR\"}, {\"Congresista\": \"Cavero Alva Alejandro Enrique\", \"Regi\\u00f3n\": \"Lima\", \"Comisiones\": [[\"Agraria\", \"A\"], [\"Constituci\\u00f3n y Reglamento\", \"T\"], [\"Cultura y Patrimonio Cultural\", \"T\"], [\"Justicia y Derechos Humanos\", \"T\"], [\"Relaciones Exteriores\", \"A\"]], \"Bancada\": \"AVANZA PA\\u00cdS - PARTIDO DE INTEGRACI\\u00d3N SOCIAL\"}, {\"Congresista\": \"Cerr\\u00f3n Rojas Waldemar Jos\\u00e9\", \"Regi\\u00f3n\": \"Jun\\u00edn\", \"Comisiones\": [[\"Constituci\\u00f3n y Reglamento\", \"T\"], [\"Defensa Nacional, Orden interno, Desarrollo alternativo y Lucha contra las Drogas\", \"A\"], [\"Educaci\\u00f3n, Juventud y Deporte\", \"T\"], [\"Justicia y Derechos Humanos\", \"T\"]], \"Bancada\": \"PER\\u00da LIBRE\"}, {\"Congresista\": \"Chac\\u00f3n Trujillo Nilza Merly\", \"Regi\\u00f3n\": \"Ancash\", \"Comisiones\": [[\"Agraria\", \"T\"], [\"Descentralizaci\\u00f3n, Regionalizaci\\u00f3n, Gobiernos Locales y Modernizaci\\u00f3n de la Gesti\\u00f3n del Estado\", \"T\"], [\"Energ\\u00eda y Minas\", \"A\"], [\"Fiscalizaci\\u00f3n y Contralor\\u00eda\", \"A\"], [\"Inclusi\\u00f3n Social y Personas con Discapacidad\", \"A\"], [\"Mujer y Familia\", \"A\"], [\"Presupuesto y Cuenta General de la Rep\\u00fablica\", \"T\"], [\"Producci\\u00f3n, Micro y Peque\\u00f1a Empresa y Cooperativas\", \"A\"], [\"Salud y Poblaci\\u00f3n\", \"A\"], [\"Vivienda y Construcci\\u00f3n\", \"A\"]], \"Bancada\": \"FUERZA POPULAR\"}, {\"Congresista\": \"Ch\\u00e1vez Chino Betssy Betzabet\", \"Regi\\u00f3n\": \"Tacna\", \"Comisiones\": [[\"Mujer y Familia\", \"A\"]], \"Bancada\": \"PER\\u00da DEMOCR\\u00c1TICO\"}, {\"Congresista\": \"Chiabra Le\\u00f3n Roberto Enrique\", \"Regi\\u00f3n\": \"Lima\", \"Comisiones\": [[\"Defensa Nacional, Orden interno, Desarrollo alternativo y Lucha contra las Drogas\", \"T\"], [\"Educaci\\u00f3n, Juventud y Deporte\", \"T\"], [\"Inteligencia\", \"T\"]], \"Bancada\": \"ALIANZA PARA EL PROGRESO\"}, {\"Congresista\": \"Chirinos Venegas Patricia Rosa\", \"Regi\\u00f3n\": \"Callao\", \"Comisiones\": [[\"Presupuesto y Cuenta General de la Rep\\u00fablica\", \"T\"]], \"Bancada\": \"AVANZA PA\\u00cdS - PARTIDO DE INTEGRACI\\u00d3N SOCIAL\"}, {\"Congresista\": \"Ciccia V\\u00e1squez Miguel Angel\", \"Regi\\u00f3n\": \"Piura\", \"Comisiones\": [[\"Agraria\", \"T\"], [\"Cultura y Patrimonio Cultural\", \"A\"], [\"Defensa del Consumidor y Organismos Reguladores de los Servicios P\\u00fablicos\", \"T\"], [\"Descentralizaci\\u00f3n, Regionalizaci\\u00f3n, Gobiernos Locales y Modernizaci\\u00f3n de la Gesti\\u00f3n del Estado\", \"A\"], [\"Inclusi\\u00f3n Social y Personas con Discapacidad\", \"T\"], [\"Presupuesto y Cuenta General de la Rep\\u00fablica\", \"T\"], [\"Salud y Poblaci\\u00f3n\", \"A\"], [\"Trabajo y Seguridad Social\", \"A\"], [\"Vivienda y Construcci\\u00f3n\", \"A\"]], \"Bancada\": \"RENOVACI\\u00d3N POPULAR\"}, {\"Congresista\": \"Coayla Ju\\u00e1rez Jorge Samuel\", \"Regi\\u00f3n\": \"Moquegua\", \"Comisiones\": [[\"Agraria\", \"T\"], [\"Energ\\u00eda y Minas\", \"T\"], [\"Presupuesto y Cuenta General de la Rep\\u00fablica\", \"A\"], [\"Relaciones Exteriores\", \"T\"], [\"Trabajo y Seguridad Social\", \"S\"], [\"Vivienda y Construcci\\u00f3n\", \"T\"]], \"Bancada\": \"PER\\u00da LIBRE\"}, {\"Congresista\": \"Cordero Jon Tay Luis Gustavo\", \"Regi\\u00f3n\": \"Lima Provincias\", \"Comisiones\": [[\"Agraria\", \"A\"], [\"Ciencia, Innovaci\\u00f3n y Tecnolog\\u00eda\", \"A\"], [\"Cultura y Patrimonio Cultural\", \"A\"], [\"Defensa del Consumidor y Organismos Reguladores de los Servicios P\\u00fablicos\", \"T\"], [\"Defensa Nacional, Orden interno, Desarrollo alternativo y Lucha contra las Drogas\", \"T\"], [\"Educaci\\u00f3n, Juventud y Deporte\", \"A\"], [\"Energ\\u00eda y Minas\", \"A\"], [\"Inteligencia\", \"S\"], [\"Presupuesto y Cuenta General de la Rep\\u00fablica\", \"A\"], [\"Relaciones Exteriores\", \"A\"]], \"Bancada\": \"FUERZA POPULAR\"}, {\"Congresista\": \"Cordero Jon Tay Mar\\u00eda del Pilar\", \"Regi\\u00f3n\": \"Tumbes\", \"Comisiones\": [[\"Agraria\", \"A\"], [\"Ciencia, Innovaci\\u00f3n y Tecnolog\\u00eda\", \"A\"], [\"Comercio Exterior y Turismo\", \"A\"], [\"Constituci\\u00f3n y Reglamento\", \"A\"], [\"Cultura y Patrimonio Cultural\", \"T\"], [\"Defensa del Consumidor y Organismos Reguladores de los Servicios P\\u00fablicos\", \"A\"], [\"Defensa Nacional, Orden interno, Desarrollo alternativo y Lucha contra las Drogas\", \"A\"], [\"Descentralizaci\\u00f3n, Regionalizaci\\u00f3n, Gobiernos Locales y Modernizaci\\u00f3n de la Gesti\\u00f3n del Estado\", \"A\"], [\"Econom\\u00eda, Banca, Finanzas e Inteligencia Financiera\", \"A\"], [\"Educaci\\u00f3n, Juventud y Deporte\", \"T\"], [\"Energ\\u00eda y Minas\", \"A\"], [\"Fiscalizaci\\u00f3n y Contralor\\u00eda\", \"A\"], [\"Inclusi\\u00f3n Social y Personas con Discapacidad\", \"A\"], [\"Justicia y Derechos Humanos\", \"T\"], [\"Mujer y Familia\", \"A\"], [\"Presupuesto y Cuenta General de la Rep\\u00fablica\", \"A\"], [\"Producci\\u00f3n, Micro y Peque\\u00f1a Empresa y Cooperativas\", \"T\"], [\"Pueblos Andinos, Amaz\\u00f3nicos y Afroperuanos, Ambiente y Ecolog\\u00eda\", \"A\"], [\"Relaciones Exteriores\", \"T\"], [\"Salud y Poblaci\\u00f3n\", \"T\"], [\"Transportes y Comunicaciones\", \"A\"], [\"Vivienda y Construcci\\u00f3n\", \"A\"]], \"Bancada\": \"FUERZA POPULAR\"}, {\"Congresista\": \"C\\u00f3rdova Lobat\\u00f3n Mar\\u00eda Jessica\", \"Regi\\u00f3n\": \"Lambayeque\", \"Comisiones\": [[\"Agraria\", \"T\"], [\"Ciencia, Innovaci\\u00f3n y Tecnolog\\u00eda\", \"A\"], [\"Descentralizaci\\u00f3n, Regionalizaci\\u00f3n, Gobiernos Locales y Modernizaci\\u00f3n de la Gesti\\u00f3n del Estado\", \"T\"], [\"Mujer y Familia\", \"S\"], [\"Producci\\u00f3n, Micro y Peque\\u00f1a Empresa y Cooperativas\", \"A\"], [\"Salud y Poblaci\\u00f3n\", \"T\"], [\"Trabajo y Seguridad Social\", \"A\"], [\"Vivienda y Construcci\\u00f3n\", \"A\"]], \"Bancada\": \"AVANZA PA\\u00cdS - PARTIDO DE INTEGRACI\\u00d3N SOCIAL\"}, {\"Congresista\": \"Cortez Aguirre Isabel\", \"Regi\\u00f3n\": \"Lima\", \"Comisiones\": [[\"Defensa del Consumidor y Organismos Reguladores de los Servicios P\\u00fablicos\", \"T\"], [\"Fiscalizaci\\u00f3n y Contralor\\u00eda\", \"A\"], [\"Trabajo y Seguridad Social\", \"P\"]], \"Bancada\": \"JUNTOS POR EL PER\\u00da\"}, {\"Congresista\": \"Cruz Mamani Flavio\", \"Regi\\u00f3n\": \"Puno\", \"Comisiones\": [[\"Ciencia, Innovaci\\u00f3n y Tecnolog\\u00eda\", \"P\"], [\"Cultura y Patrimonio Cultural\", \"A\"], [\"Educaci\\u00f3n, Juventud y Deporte\", \"A\"], [\"Energ\\u00eda y Minas\", \"T\"], [\"Vivienda y Construcci\\u00f3n\", \"A\"]], \"Bancada\": \"PER\\u00da LIBRE\"}, {\"Congresista\": \"Cueto Aservi Jos\\u00e9 Ernesto\", \"Regi\\u00f3n\": \"Lima\", \"Comisiones\": [[\"Ciencia, Innovaci\\u00f3n y Tecnolog\\u00eda\", \"T\"], [\"Defensa Nacional, Orden interno, Desarrollo alternativo y Lucha contra las Drogas\", \"T\"], [\"Inteligencia\", \"P\"], [\"Presupuesto y Cuenta General de la Rep\\u00fablica\", \"A\"], [\"Trabajo y Seguridad Social\", \"T\"], [\"Transportes y Comunicaciones\", \"A\"]], \"Bancada\": \"RENOVACI\\u00d3N POPULAR\"}, {\"Congresista\": \"Cutipa Ccama V\\u00edctor Ra\\u00fal\", \"Regi\\u00f3n\": \"Moquegua\", \"Comisiones\": [[\"Constituci\\u00f3n y Reglamento\", \"T\"], [\"Defensa del Consumidor y Organismos Reguladores de los Servicios P\\u00fablicos\", \"T\"], [\"Fiscalizaci\\u00f3n y Contralor\\u00eda\", \"T\"], [\"Justicia y Derechos Humanos\", \"T\"], [\"Transportes y Comunicaciones\", \"A\"]], \"Bancada\": \"PER\\u00da LIBRE\"}, {\"Congresista\": \"D\\u00e1vila Atanacio Pasi\\u00f3n Neomias\", \"Regi\\u00f3n\": \"Pasco\", \"Comisiones\": [[\"Ciencia, Innovaci\\u00f3n y Tecnolog\\u00eda\", \"A\"], [\"Constituci\\u00f3n y Reglamento\", \"A\"], [\"Econom\\u00eda, Banca, Finanzas e Inteligencia Financiera\", \"T\"], [\"Educaci\\u00f3n, Juventud y Deporte\", \"A\"], [\"Energ\\u00eda y Minas\", \"T\"], [\"Fiscalizaci\\u00f3n y Contralor\\u00eda\", \"T\"], [\"Presupuesto y Cuenta General de la Rep\\u00fablica\", \"A\"], [\"Producci\\u00f3n, Micro y Peque\\u00f1a Empresa y Cooperativas\", \"S\"], [\"Vivienda y Construcci\\u00f3n\", \"T\"]], \"Bancada\": \"PER\\u00da LIBRE\"}, {\"Congresista\": \"D\\u00edaz Monago Freddy Ronald\", \"Regi\\u00f3n\": \"Pasco\", \"Comisiones\": [[\"Agraria\", \"S\"], [\"Energ\\u00eda y Minas\", \"A\"], [\"Presupuesto y Cuenta General de la Rep\\u00fablica\", \"A\"], [\"Pueblos Andinos, Amaz\\u00f3nicos y Afroperuanos, Ambiente y Ecolog\\u00eda\", \"T\"], [\"Transportes y Comunicaciones\", \"A\"], [\"Vivienda y Construcci\\u00f3n\", \"T\"]], \"Bancada\": \"ALIANZA PARA EL PROGRESO\"}, {\"Congresista\": \"Doroteo Carbajo Ra\\u00fal Felipe\", \"Regi\\u00f3n\": \"Ica\", \"Comisiones\": [[\"Agraria\", \"V\"], [\"Descentralizaci\\u00f3n, Regionalizaci\\u00f3n, Gobiernos Locales y Modernizaci\\u00f3n de la Gesti\\u00f3n del Estado\", \"T\"], [\"Educaci\\u00f3n, Juventud y Deporte\", \"A\"], [\"Energ\\u00eda y Minas\", \"A\"], [\"Inteligencia\", \"T\"], [\"Presupuesto y Cuenta General de la Rep\\u00fablica\", \"A\"], [\"Vivienda y Construcci\\u00f3n\", \"A\"]], \"Bancada\": \"ACCI\\u00d3N POPULAR\"}, {\"Congresista\": \"Echa\\u00edz de N\\u00fa\\u00f1ez Izaga Gladys Margot\", \"Regi\\u00f3n\": \"Lima\", \"Comisiones\": [[\"Constituci\\u00f3n y Reglamento\", \"V\"], [\"Fiscalizaci\\u00f3n y Contralor\\u00eda\", \"A\"], [\"Justicia y Derechos Humanos\", \"P\"]], \"Bancada\": \"ALIANZA PARA EL PROGRESO\"}, {\"Congresista\": \"Echeverr\\u00eda Rodr\\u00edguez Hamlet\", \"Regi\\u00f3n\": \"Cajamarca\", \"Comisiones\": [], \"Bancada\": \"PER\\u00da DEMOCR\\u00c1TICO\"}, {\"Congresista\": \"Elera Garc\\u00eda Wilmar Alberto\", \"Regi\\u00f3n\": \"Piura\", \"Comisiones\": [[\"Constituci\\u00f3n y Reglamento\", \"T\"], [\"Descentralizaci\\u00f3n, Regionalizaci\\u00f3n, Gobiernos Locales y Modernizaci\\u00f3n de la Gesti\\u00f3n del Estado\", \"T\"], [\"Fiscalizaci\\u00f3n y Contralor\\u00eda\", \"T\"], [\"Transportes y Comunicaciones\", \"V\"], [\"Vivienda y Construcci\\u00f3n\", \"T\"]], \"Bancada\": \"SOMOS PER\\u00da\"}, {\"Congresista\": \"El\\u00edas \\u00c1valos Jos\\u00e9 Luis\", \"Regi\\u00f3n\": \"Ica\", \"Comisiones\": [[\"Constituci\\u00f3n y Reglamento\", \"T\"], [\"Cultura y Patrimonio Cultural\", \"T\"], [\"Educaci\\u00f3n, Juventud y Deporte\", \"T\"]], \"Bancada\": \"PODEMOS PER\\u00da\"}, {\"Congresista\": \"Espinoza Vargas Jhaec Darwin\", \"Regi\\u00f3n\": \"\\u00c1ncash\", \"Comisiones\": [[\"Defensa Nacional, Orden interno, Desarrollo alternativo y Lucha contra las Drogas\", \"T\"], [\"Descentralizaci\\u00f3n, Regionalizaci\\u00f3n, Gobiernos Locales y Modernizaci\\u00f3n de la Gesti\\u00f3n del Estado\", \"A\"], [\"Econom\\u00eda, Banca, Finanzas e Inteligencia Financiera\", \"A\"], [\"Educaci\\u00f3n, Juventud y Deporte\", \"A\"], [\"Energ\\u00eda y Minas\", \"A\"], [\"Inclusi\\u00f3n Social y Personas con Discapacidad\", \"A\"], [\"Presupuesto y Cuenta General de la Rep\\u00fablica\", \"A\"], [\"Producci\\u00f3n, Micro y Peque\\u00f1a Empresa y Cooperativas\", \"T\"], [\"Transportes y Comunicaciones\", \"A\"], [\"Vivienda y Construcci\\u00f3n\", \"P\"]], \"Bancada\": \"ACCION POPULAR\"}, {\"Congresista\": \"Flores Ancachi Jorge Luis\", \"Regi\\u00f3n\": \"Puno\", \"Comisiones\": [[\"Agraria\", \"A\"], [\"Cultura y Patrimonio Cultural\", \"T\"], [\"Descentralizaci\\u00f3n, Regionalizaci\\u00f3n, Gobiernos Locales y Modernizaci\\u00f3n de la Gesti\\u00f3n del Estado\", \"T\"], [\"Energ\\u00eda y Minas\", \"T\"], [\"Presupuesto y Cuenta General de la Rep\\u00fablica\", \"A\"], [\"Salud y Poblaci\\u00f3n\", \"T\"], [\"Transportes y Comunicaciones\", \"A\"], [\"Vivienda y Construcci\\u00f3n\", \"A\"]], \"Bancada\": \"ACCION POPULAR\"}, {\"Congresista\": \"Flores Ram\\u00edrez Alex Randu\", \"Regi\\u00f3n\": \"Ayacucho\", \"Comisiones\": [[\"Constituci\\u00f3n y Reglamento\", \"A\"], [\"Cultura y Patrimonio Cultural\", \"P\"], [\"Defensa Nacional, Orden interno, Desarrollo alternativo y Lucha contra las Drogas\", \"T\"], [\"Mujer y Familia\", \"T\"], [\"Relaciones Exteriores\", \"T\"]], \"Bancada\": \"PER\\u00da LIBRE\"}, {\"Congresista\": \"Flores Ru\\u00edz V\\u00edctor Seferino\", \"Regi\\u00f3n\": \"La Libertad\", \"Comisiones\": [[\"Ciencia, Innovaci\\u00f3n y Tecnolog\\u00eda\", \"T\"], [\"Comercio Exterior y Turismo\", \"A\"], [\"Econom\\u00eda, Banca, Finanzas e Inteligencia Financiera\", \"A\"], [\"Producci\\u00f3n, Micro y Peque\\u00f1a Empresa y Cooperativas\", \"V\"], [\"Relaciones Exteriores\", \"A\"], [\"Vivienda y Construcci\\u00f3n\", \"S\"]], \"Bancada\": \"FUERZA POPULAR\"}, {\"Congresista\": \"Garc\\u00eda Correa Idelso Manuel\", \"Regi\\u00f3n\": \"Piura\", \"Comisiones\": [[\"Agraria\", \"T\"], [\"Descentralizaci\\u00f3n, Regionalizaci\\u00f3n, Gobiernos Locales y Modernizaci\\u00f3n de la Gesti\\u00f3n del Estado\", \"T\"], [\"Producci\\u00f3n, Micro y Peque\\u00f1a Empresa y Cooperativas\", \"T\"], [\"Trabajo y Seguridad Social\", \"A\"], [\"Vivienda y Construcci\\u00f3n\", \"A\"]], \"Bancada\": \"ALIANZA PARA EL PROGRESO\"}, {\"Congresista\": \"Gonza Castillo Americo\", \"Regi\\u00f3n\": \"Cajamarca\", \"Comisiones\": [[\"Constituci\\u00f3n y Reglamento\", \"A\"], [\"Defensa del Consumidor y Organismos Reguladores de los Servicios P\\u00fablicos\", \"S\"], [\"Defensa Nacional, Orden interno, Desarrollo alternativo y Lucha contra las Drogas\", \"T\"], [\"Descentralizaci\\u00f3n, Regionalizaci\\u00f3n, Gobiernos Locales y Modernizaci\\u00f3n de la Gesti\\u00f3n del Estado\", \"T\"], [\"Inteligencia\", \"V\"], [\"Justicia y Derechos Humanos\", \"A\"], [\"Presupuesto y Cuenta General de la Rep\\u00fablica\", \"T\"], [\"Relaciones Exteriores\", \"A\"]], \"Bancada\": \"PER\\u00da LIBRE\"}, {\"Congresista\": \"Gonzales Delgado Diana Carolina\", \"Regi\\u00f3n\": \"Arequipa\", \"Comisiones\": [[\"Comercio Exterior y Turismo\", \"A\"], [\"Cultura y Patrimonio Cultural\", \"A\"], [\"Educaci\\u00f3n, Juventud y Deporte\", \"T\"], [\"Energ\\u00eda y Minas\", \"V\"], [\"Inclusi\\u00f3n Social y Personas con Discapacidad\", \"A\"]], \"Bancada\": \"AVANZA PA\\u00cdS - PARTIDO DE INTEGRACI\\u00d3N SOCIAL\"}, {\"Congresista\": \"Guerra Garc\\u00eda Campos Hernando\", \"Regi\\u00f3n\": \"Lima\", \"Comisiones\": [[\"Agraria\", \"A\"], [\"Ciencia, Innovaci\\u00f3n y Tecnolog\\u00eda\", \"A\"], [\"Comercio Exterior y Turismo\", \"A\"], [\"Constituci\\u00f3n y Reglamento\", \"A\"], [\"Cultura y Patrimonio Cultural\", \"A\"], [\"Defensa del Consumidor y Organismos Reguladores de los Servicios P\\u00fablicos\", \"A\"], [\"Defensa Nacional, Orden interno, Desarrollo alternativo y Lucha contra las Drogas\", \"A\"], [\"Descentralizaci\\u00f3n, Regionalizaci\\u00f3n, Gobiernos Locales y Modernizaci\\u00f3n de la Gesti\\u00f3n del Estado\", \"A\"], [\"Econom\\u00eda, Banca, Finanzas e Inteligencia Financiera\", \"A\"], [\"Educaci\\u00f3n, Juventud y Deporte\", \"A\"], [\"Energ\\u00eda y Minas\", \"A\"], [\"Fiscalizaci\\u00f3n y Contralor\\u00eda\", \"A\"], [\"Inclusi\\u00f3n Social y Personas con Discapacidad\", \"A\"], [\"Justicia y Derechos Humanos\", \"T\"], [\"Mujer y Familia\", \"A\"], [\"Presupuesto y Cuenta General de la Rep\\u00fablica\", \"A\"], [\"Producci\\u00f3n, Micro y Peque\\u00f1a Empresa y Cooperativas\", \"T\"], [\"Pueblos Andinos, Amaz\\u00f3nicos y Afroperuanos, Ambiente y Ecolog\\u00eda\", \"A\"], [\"Relaciones Exteriores\", \"A\"], [\"Salud y Poblaci\\u00f3n\", \"A\"], [\"Trabajo y Seguridad Social\", \"A\"], [\"Transportes y Comunicaciones\", \"A\"], [\"Vivienda y Construcci\\u00f3n\", \"A\"]], \"Bancada\": \"FUERZA POPULAR\"}, {\"Congresista\": \"Guti\\u00e9rrez Ticona Paul Silvio\", \"Regi\\u00f3n\": \"Apur\\u00edmac\", \"Comisiones\": [[\"Agraria\", \"T\"], [\"Comercio Exterior y Turismo\", \"T\"], [\"Educaci\\u00f3n, Juventud y Deporte\", \"T\"], [\"Energ\\u00eda y Minas\", \"A\"], [\"Mujer y Familia\", \"T\"], [\"Transportes y Comunicaciones\", \"A\"], [\"Vivienda y Construcci\\u00f3n\", \"A\"]], \"Bancada\": \"PER\\u00da LIBRE\"}, {\"Congresista\": \"Herrera Medina Noelia Rossvith\", \"Regi\\u00f3n\": \"Callao\", \"Comisiones\": [[\"Comercio Exterior y Turismo\", \"A\"], [\"Defensa del Consumidor y Organismos Reguladores de los Servicios P\\u00fablicos\", \"A\"], [\"Descentralizaci\\u00f3n, Regionalizaci\\u00f3n, Gobiernos Locales y Modernizaci\\u00f3n de la Gesti\\u00f3n del Estado\", \"A\"], [\"Econom\\u00eda, Banca, Finanzas e Inteligencia Financiera\", \"T\"], [\"Educaci\\u00f3n, Juventud y Deporte\", \"A\"], [\"Energ\\u00eda y Minas\", \"A\"], [\"Inclusi\\u00f3n Social y Personas con Discapacidad\", \"A\"], [\"Mujer y Familia\", \"T\"], [\"Presupuesto y Cuenta General de la Rep\\u00fablica\", \"A\"], [\"Producci\\u00f3n, Micro y Peque\\u00f1a Empresa y Cooperativas\", \"A\"], [\"Pueblos Andinos, Amaz\\u00f3nicos y Afroperuanos, Ambiente y Ecolog\\u00eda\", \"A\"], [\"Relaciones Exteriores\", \"A\"], [\"Transportes y Comunicaciones\", \"T\"], [\"Vivienda y Construcci\\u00f3n\", \"T\"]], \"Bancada\": \"RENOVACI\\u00d3N POPULAR\"}, {\"Congresista\": \"Huam\\u00e1n Coronado Ra\\u00fal\", \"Regi\\u00f3n\": \"Ica\", \"Comisiones\": [[\"Comercio Exterior y Turismo\", \"A\"], [\"Descentralizaci\\u00f3n, Regionalizaci\\u00f3n, Gobiernos Locales y Modernizaci\\u00f3n de la Gesti\\u00f3n del Estado\", \"T\"], [\"Educaci\\u00f3n, Juventud y Deporte\", \"T\"], [\"Salud y Poblaci\\u00f3n\", \"T\"], [\"Trabajo y Seguridad Social\", \"A\"]], \"Bancada\": \"FUERZA POPULAR\"}, {\"Congresista\": \"Infantes Casta\\u00f1eda Mery Eliana\", \"Regi\\u00f3n\": \"Amazonas\", \"Comisiones\": [[\"Agraria\", \"A\"], [\"Cultura y Patrimonio Cultural\", \"T\"], [\"Defensa Nacional, Orden interno, Desarrollo alternativo y Lucha contra las Drogas\", \"A\"], [\"Descentralizaci\\u00f3n, Regionalizaci\\u00f3n, Gobiernos Locales y Modernizaci\\u00f3n de la Gesti\\u00f3n del Estado\", \"A\"], [\"Inclusi\\u00f3n Social y Personas con Discapacidad\", \"T\"], [\"Mujer y Familia\", \"A\"], [\"Salud y Poblaci\\u00f3n\", \"A\"], [\"Trabajo y Seguridad Social\", \"A\"]], \"Bancada\": \"FUERZA POPULAR\"}, {\"Congresista\": \"J\\u00e1uregui Mart\\u00ednez de Aguayo Mar\\u00eda de los Milagros Jackeline\", \"Regi\\u00f3n\": \"Lima\", \"Comisiones\": [[\"Constituci\\u00f3n y Reglamento\", \"A\"], [\"Educaci\\u00f3n, Juventud y Deporte\", \"A\"], [\"Inclusi\\u00f3n Social y Personas con Discapacidad\", \"S\"], [\"Justicia y Derechos Humanos\", \"A\"], [\"Mujer y Familia\", \"T\"], [\"Pueblos Andinos, Amaz\\u00f3nicos y Afroperuanos, Ambiente y Ecolog\\u00eda\", \"T\"]], \"Bancada\": \"RENOVACI\\u00d3N POPULAR\"}, {\"Congresista\": \"Jeri Or\\u00e9 Jos\\u00e9 Enrique\", \"Regi\\u00f3n\": \"Lima\", \"Comisiones\": [[\"Agraria\", \"T\"], [\"Comercio Exterior y Turismo\", \"A\"], [\"Econom\\u00eda, Banca, Finanzas e Inteligencia Financiera\", \"A\"], [\"Educaci\\u00f3n, Juventud y Deporte\", \"T\"], [\"Energ\\u00eda y Minas\", \"T\"], [\"Justicia y Derechos Humanos\", \"A\"], [\"Presupuesto y Cuenta General de la Rep\\u00fablica\", \"T\"], [\"Producci\\u00f3n, Micro y Peque\\u00f1a Empresa y Cooperativas\", \"A\"]], \"Bancada\": \"SOMOS PER\\u00da\"}, {\"Congresista\": \"Jim\\u00e9nez Heredia David Julio\", \"Regi\\u00f3n\": \"Jun\\u00edn\", \"Comisiones\": [[\"Ciencia, Innovaci\\u00f3n y Tecnolog\\u00eda\", \"T\"], [\"Constituci\\u00f3n y Reglamento\", \"A\"], [\"Transportes y Comunicaciones\", \"T\"]], \"Bancada\": \"FUERZA POPULAR\"}, {\"Congresista\": \"Ju\\u00e1rez Calle Heidy Lisbeth\", \"Regi\\u00f3n\": \"Piura\", \"Comisiones\": [[\"Constituci\\u00f3n y Reglamento\", \"A\"], [\"Justicia y Derechos Humanos\", \"T\"], [\"Mujer y Familia\", \"A\"], [\"Presupuesto y Cuenta General de la Rep\\u00fablica\", \"T\"], [\"Relaciones Exteriores\", \"T\"]], \"Bancada\": \"ALIANZA PARA EL PROGRESO\"}, {\"Congresista\": \"Ju\\u00e1rez Gallegos Carmen Patricia\", \"Regi\\u00f3n\": \"Lima\", \"Comisiones\": [[\"Constituci\\u00f3n y Reglamento\", \"P\"], [\"Defensa Nacional, Orden interno, Desarrollo alternativo y Lucha contra las Drogas\", \"T\"], [\"Descentralizaci\\u00f3n, Regionalizaci\\u00f3n, Gobiernos Locales y Modernizaci\\u00f3n de la Gesti\\u00f3n del Estado\", \"A\"], [\"Econom\\u00eda, Banca, Finanzas e Inteligencia Financiera\", \"T\"], [\"Fiscalizaci\\u00f3n y Contralor\\u00eda\", \"A\"]], \"Bancada\": \"FUERZA POPULAR\"}, {\"Congresista\": \"Julon Irigoin Elva Edhit\", \"Regi\\u00f3n\": \"Cajamarca\", \"Comisiones\": [[\"Agraria\", \"A\"], [\"Inclusi\\u00f3n Social y Personas con Discapacidad\", \"T\"], [\"Salud y Poblaci\\u00f3n\", \"V\"]], \"Bancada\": \"ALIANZA PARA EL PROGRESO\"}, {\"Congresista\": \"Kamiche Morante Luis Roberto\", \"Regi\\u00f3n\": \"La Libertad\", \"Comisiones\": [], \"Bancada\": \"PER\\u00da DEMOCR\\u00c1TICO\"}, {\"Congresista\": \"Limachi Quispe Nieves Esmeralda\", \"Regi\\u00f3n\": \"Tacna\", \"Comisiones\": [], \"Bancada\": \"PER\\u00da DEMOCR\\u00c1TICO\"}, {\"Congresista\": \"Lizarzaburu Lizarzaburu Juan Carlos Martin\", \"Regi\\u00f3n\": \"Peruanos Residentes en el Extranjero\", \"Comisiones\": [[\"Comercio Exterior y Turismo\", \"T\"], [\"Defensa Nacional, Orden interno, Desarrollo alternativo y Lucha contra las Drogas\", \"T\"], [\"Econom\\u00eda, Banca, Finanzas e Inteligencia Financiera\", \"T\"], [\"Relaciones Exteriores\", \"T\"]], \"Bancada\": \"FUERZA POPULAR\"}, {\"Congresista\": \"L\\u00f3pez Morales Jeny Luz\", \"Regi\\u00f3n\": \"Ucayali\", \"Comisiones\": [[\"Agraria\", \"A\"], [\"Defensa del Consumidor y Organismos Reguladores de los Servicios P\\u00fablicos\", \"A\"], [\"Defensa Nacional, Orden interno, Desarrollo alternativo y Lucha contra las Drogas\", \"V\"], [\"Descentralizaci\\u00f3n, Regionalizaci\\u00f3n, Gobiernos Locales y Modernizaci\\u00f3n de la Gesti\\u00f3n del Estado\", \"A\"], [\"Energ\\u00eda y Minas\", \"T\"], [\"Fiscalizaci\\u00f3n y Contralor\\u00eda\", \"A\"], [\"Mujer y Familia\", \"T\"], [\"Pueblos Andinos, Amaz\\u00f3nicos y Afroperuanos, Ambiente y Ecolog\\u00eda\", \"T\"], [\"Relaciones Exteriores\", \"A\"]], \"Bancada\": \"FUERZA POPULAR\"}, {\"Congresista\": \"L\\u00f3pez Ure\\u00f1a Ilich Fredy\", \"Regi\\u00f3n\": \"Jun\\u00edn\", \"Comisiones\": [[\"Agraria\", \"T\"], [\"Constituci\\u00f3n y Reglamento\", \"A\"], [\"Cultura y Patrimonio Cultural\", \"A\"], [\"Defensa del Consumidor y Organismos Reguladores de los Servicios P\\u00fablicos\", \"T\"], [\"Descentralizaci\\u00f3n, Regionalizaci\\u00f3n, Gobiernos Locales y Modernizaci\\u00f3n de la Gesti\\u00f3n del Estado\", \"A\"], [\"Econom\\u00eda, Banca, Finanzas e Inteligencia Financiera\", \"T\"], [\"Educaci\\u00f3n, Juventud y Deporte\", \"A\"], [\"Energ\\u00eda y Minas\", \"A\"], [\"Fiscalizaci\\u00f3n y Contralor\\u00eda\", \"A\"], [\"Presupuesto y Cuenta General de la Rep\\u00fablica\", \"A\"], [\"Producci\\u00f3n, Micro y Peque\\u00f1a Empresa y Cooperativas\", \"A\"], [\"Relaciones Exteriores\", \"S\"], [\"Trabajo y Seguridad Social\", \"A\"], [\"Transportes y Comunicaciones\", \"A\"], [\"Vivienda y Construcci\\u00f3n\", \"A\"]], \"Bancada\": \"ACCION POPULAR\"}, {\"Congresista\": \"Luna G\\u00e1lvez Jos\\u00e9 Le\\u00f3n\", \"Regi\\u00f3n\": \"Lima\", \"Comisiones\": [[\"Defensa del Consumidor y Organismos Reguladores de los Servicios P\\u00fablicos\", \"P\"], [\"Econom\\u00eda, Banca, Finanzas e Inteligencia Financiera\", \"T\"], [\"Presupuesto y Cuenta General de la Rep\\u00fablica\", \"A\"]], \"Bancada\": \"PODEMOS PER\\u00da\"}, {\"Congresista\": \"Luque Ibarra Ruth\", \"Regi\\u00f3n\": \"Cusco\", \"Comisiones\": [[\"Constituci\\u00f3n y Reglamento\", \"A\"], [\"Econom\\u00eda, Banca, Finanzas e Inteligencia Financiera\", \"A\"], [\"Energ\\u00eda y Minas\", \"T\"], [\"Justicia y Derechos Humanos\", \"T\"], [\"Mujer y Familia\", \"T\"], [\"Presupuesto y Cuenta General de la Rep\\u00fablica\", \"A\"], [\"Pueblos Andinos, Amaz\\u00f3nicos y Afroperuanos, Ambiente y Ecolog\\u00eda\", \"V\"], [\"Salud y Poblaci\\u00f3n\", \"A\"], [\"Trabajo y Seguridad Social\", \"A\"]], \"Bancada\": \"JUNTOS POR EL PER\\u00da\"}, {\"Congresista\": \"M\\u00e1laga Trillo George Edward\", \"Regi\\u00f3n\": \"Lima\", \"Comisiones\": [[\"Ciencia, Innovaci\\u00f3n y Tecnolog\\u00eda\", \"S\"]], \"Bancada\": \"NO AGRUPADO\"}, {\"Congresista\": \"Marticorena Mendoza Jorge Alfonso\", \"Regi\\u00f3n\": \"Ica\", \"Comisiones\": [[\"Ciencia, Innovaci\\u00f3n y Tecnolog\\u00eda\", \"T\"], [\"Descentralizaci\\u00f3n, Regionalizaci\\u00f3n, Gobiernos Locales y Modernizaci\\u00f3n de la Gesti\\u00f3n del Estado\", \"T\"], [\"Educaci\\u00f3n, Juventud y Deporte\", \"A\"], [\"Salud y Poblaci\\u00f3n\", \"T\"], [\"Trabajo y Seguridad Social\", \"T\"]], \"Bancada\": \"PER\\u00da LIBRE\"}, {\"Congresista\": \"Mart\\u00ednez Talavera Pedro Edwin\", \"Regi\\u00f3n\": \"Arequipa\", \"Comisiones\": [[\"Comercio Exterior y Turismo\", \"V\"], [\"Defensa Nacional, Orden interno, Desarrollo alternativo y Lucha contra las Drogas\", \"T\"], [\"Descentralizaci\\u00f3n, Regionalizaci\\u00f3n, Gobiernos Locales y Modernizaci\\u00f3n de la Gesti\\u00f3n del Estado\", \"A\"], [\"Educaci\\u00f3n, Juventud y Deporte\", \"T\"], [\"Mujer y Familia\", \"T\"], [\"Presupuesto y Cuenta General de la Rep\\u00fablica\", \"A\"], [\"Salud y Poblaci\\u00f3n\", \"A\"], [\"Vivienda y Construcci\\u00f3n\", \"A\"]], \"Bancada\": \"ACCI\\u00d3N POPULAR\"}, {\"Congresista\": \"Medina Hermosilla Elizabeth Sara\", \"Regi\\u00f3n\": \"Hu\\u00e1nuco\", \"Comisiones\": [[\"Fiscalizaci\\u00f3n y Contralor\\u00eda\", \"A\"], [\"Mujer y Familia\", \"P\"], [\"Producci\\u00f3n, Micro y Peque\\u00f1a Empresa y Cooperativas\", \"T\"], [\"Pueblos Andinos, Amaz\\u00f3nicos y Afroperuanos, Ambiente y Ecolog\\u00eda\", \"T\"]], \"Bancada\": \"PER\\u00da LIBRE\"}, {\"Congresista\": \"Medina Minaya Esdras Ricardo\", \"Regi\\u00f3n\": \"Arequipa\", \"Comisiones\": [[\"Agraria\", \"A\"], [\"Constituci\\u00f3n y Reglamento\", \"A\"], [\"Defensa del Consumidor y Organismos Reguladores de los Servicios P\\u00fablicos\", \"A\"], [\"Descentralizaci\\u00f3n, Regionalizaci\\u00f3n, Gobiernos Locales y Modernizaci\\u00f3n de la Gesti\\u00f3n del Estado\", \"T\"], [\"Educaci\\u00f3n, Juventud y Deporte\", \"P\"], [\"Energ\\u00eda y Minas\", \"A\"], [\"Fiscalizaci\\u00f3n y Contralor\\u00eda\", \"A\"], [\"Justicia y Derechos Humanos\", \"T\"], [\"Producci\\u00f3n, Micro y Peque\\u00f1a Empresa y Cooperativas\", \"A\"], [\"Relaciones Exteriores\", \"A\"], [\"Salud y Poblaci\\u00f3n\", \"A\"], [\"Transportes y Comunicaciones\", \"T\"], [\"Vivienda y Construcci\\u00f3n\", \"A\"]], \"Bancada\": \"RENOVACI\\u00d3N POPULAR\"}, {\"Congresista\": \"Montalvo Cubas Segundo Toribio\", \"Regi\\u00f3n\": \"Amazonas\", \"Comisiones\": [[\"Agraria\", \"A\"], [\"Ciencia, Innovaci\\u00f3n y Tecnolog\\u00eda\", \"V\"], [\"Defensa Nacional, Orden interno, Desarrollo alternativo y Lucha contra las Drogas\", \"T\"], [\"Econom\\u00eda, Banca, Finanzas e Inteligencia Financiera\", \"A\"], [\"Educaci\\u00f3n, Juventud y Deporte\", \"A\"], [\"Fiscalizaci\\u00f3n y Contralor\\u00eda\", \"T\"], [\"Presupuesto y Cuenta General de la Rep\\u00fablica\", \"A\"], [\"Transportes y Comunicaciones\", \"T\"]], \"Bancada\": \"PER\\u00da LIBRE\"}, {\"Congresista\": \"Monteza Facho Silvia Mar\\u00eda\", \"Regi\\u00f3n\": \"Cajamarca\", \"Comisiones\": [[\"Agraria\", \"A\"], [\"Defensa del Consumidor y Organismos Reguladores de los Servicios P\\u00fablicos\", \"T\"], [\"Descentralizaci\\u00f3n, Regionalizaci\\u00f3n, Gobiernos Locales y Modernizaci\\u00f3n de la Gesti\\u00f3n del Estado\", \"A\"], [\"Econom\\u00eda, Banca, Finanzas e Inteligencia Financiera\", \"P\"], [\"Fiscalizaci\\u00f3n y Contralor\\u00eda\", \"T\"], [\"Presupuesto y Cuenta General de la Rep\\u00fablica\", \"A\"], [\"Pueblos Andinos, Amaz\\u00f3nicos y Afroperuanos, Ambiente y Ecolog\\u00eda\", \"T\"], [\"Vivienda y Construcci\\u00f3n\", \"A\"]], \"Bancada\": \"ACCION POPULAR\"}, {\"Congresista\": \"Montoya Manrique Jorge Carlos\", \"Regi\\u00f3n\": \"Lima\", \"Comisiones\": [[\"Ciencia, Innovaci\\u00f3n y Tecnolog\\u00eda\", \"A\"], [\"Defensa Nacional, Orden interno, Desarrollo alternativo y Lucha contra las Drogas\", \"S\"], [\"Econom\\u00eda, Banca, Finanzas e Inteligencia Financiera\", \"T\"]], \"Bancada\": \"RENOVACI\\u00d3N POPULAR\"}, {\"Congresista\": \"Morante Figari Jorge Alberto\", \"Regi\\u00f3n\": \"Loreto\", \"Comisiones\": [[\"Agraria\", \"A\"], [\"Constituci\\u00f3n y Reglamento\", \"A\"], [\"Defensa del Consumidor y Organismos Reguladores de los Servicios P\\u00fablicos\", \"T\"], [\"Econom\\u00eda, Banca, Finanzas e Inteligencia Financiera\", \"T\"], [\"Energ\\u00eda y Minas\", \"T\"], [\"Fiscalizaci\\u00f3n y Contralor\\u00eda\", \"T\"], [\"Inclusi\\u00f3n Social y Personas con Discapacidad\", \"A\"], [\"Presupuesto y Cuenta General de la Rep\\u00fablica\", \"A\"], [\"Pueblos Andinos, Amaz\\u00f3nicos y Afroperuanos, Ambiente y Ecolog\\u00eda\", \"A\"], [\"Relaciones Exteriores\", \"T\"], [\"Trabajo y Seguridad Social\", \"A\"]], \"Bancada\": \"FUERZA POPULAR\"}, {\"Congresista\": \"Mori Celis Juan Carlos\", \"Regi\\u00f3n\": \"Loreto\", \"Comisiones\": [[\"Energ\\u00eda y Minas\", \"A\"], [\"Presupuesto y Cuenta General de la Rep\\u00fablica\", \"T\"], [\"Salud y Poblaci\\u00f3n\", \"T\"], [\"Trabajo y Seguridad Social\", \"T\"], [\"Transportes y Comunicaciones\", \"A\"], [\"Vivienda y Construcci\\u00f3n\", \"A\"]], \"Bancada\": \"ACCI\\u00d3N POPULAR\"}, {\"Congresista\": \"Moyano Delgado Martha Lupe\", \"Regi\\u00f3n\": \"Lima\", \"Comisiones\": [[\"Constituci\\u00f3n y Reglamento\", \"T\"], [\"Cultura y Patrimonio Cultural\", \"A\"], [\"Descentralizaci\\u00f3n, Regionalizaci\\u00f3n, Gobiernos Locales y Modernizaci\\u00f3n de la Gesti\\u00f3n del Estado\", \"T\"], [\"Fiscalizaci\\u00f3n y Contralor\\u00eda\", \"T\"], [\"Pueblos Andinos, Amaz\\u00f3nicos y Afroperuanos, Ambiente y Ecolog\\u00eda\", \"T\"], [\"Vivienda y Construcci\\u00f3n\", \"T\"]], \"Bancada\": \"FUERZA POPULAR\"}, {\"Congresista\": \"Mu\\u00f1ante Barrios Alejandro\", \"Regi\\u00f3n\": \"Lima\", \"Comisiones\": [[\"Ciencia, Innovaci\\u00f3n y Tecnolog\\u00eda\", \"A\"], [\"Comercio Exterior y Turismo\", \"A\"], [\"Constituci\\u00f3n y Reglamento\", \"T\"], [\"Cultura y Patrimonio Cultural\", \"A\"], [\"Defensa Nacional, Orden interno, Desarrollo alternativo y Lucha contra las Drogas\", \"A\"], [\"Econom\\u00eda, Banca, Finanzas e Inteligencia Financiera\", \"A\"], [\"Educaci\\u00f3n, Juventud y Deporte\", \"A\"], [\"Energ\\u00eda y Minas\", \"A\"], [\"Fiscalizaci\\u00f3n y Contralor\\u00eda\", \"A\"], [\"Justicia y Derechos Humanos\", \"T\"], [\"Mujer y Familia\", \"A\"], [\"Salud y Poblaci\\u00f3n\", \"T\"]], \"Bancada\": \"RENOVACI\\u00d3N POPULAR\"}, {\"Congresista\": \"Obando Morgan Auristela Ana\", \"Regi\\u00f3n\": \"Callao\", \"Comisiones\": [[\"Constituci\\u00f3n y Reglamento\", \"A\"], [\"Defensa del Consumidor y Organismos Reguladores de los Servicios P\\u00fablicos\", \"T\"], [\"Descentralizaci\\u00f3n, Regionalizaci\\u00f3n, Gobiernos Locales y Modernizaci\\u00f3n de la Gesti\\u00f3n del Estado\", \"V\"], [\"Transportes y Comunicaciones\", \"T\"]], \"Bancada\": \"FUERZA POPULAR\"}, {\"Congresista\": \"Olivos Mart\\u00ednez Vivian\", \"Regi\\u00f3n\": \"Lima Provincias\", \"Comisiones\": [[\"Agraria\", \"P\"], [\"Defensa del Consumidor y Organismos Reguladores de los Servicios P\\u00fablicos\", \"A\"], [\"Inclusi\\u00f3n Social y Personas con Discapacidad\", \"T\"], [\"Producci\\u00f3n, Micro y Peque\\u00f1a Empresa y Cooperativas\", \"A\"], [\"Transportes y Comunicaciones\", \"T\"]], \"Bancada\": \"FUERZA POPULAR\"}, {\"Congresista\": \"Pablo Medina Flor Aidee\", \"Regi\\u00f3n\": \"Lima\", \"Comisiones\": [], \"Bancada\": \"NO AGRUPADO\"}, {\"Congresista\": \"Padilla Romero Javier Rommel\", \"Regi\\u00f3n\": \"Lima Provincias\", \"Comisiones\": [[\"Cultura y Patrimonio Cultural\", \"V\"], [\"Defensa del Consumidor y Organismos Reguladores de los Servicios P\\u00fablicos\", \"A\"], [\"Econom\\u00eda, Banca, Finanzas e Inteligencia Financiera\", \"A\"], [\"Educaci\\u00f3n, Juventud y Deporte\", \"A\"], [\"Energ\\u00eda y Minas\", \"T\"], [\"Fiscalizaci\\u00f3n y Contralor\\u00eda\", \"T\"], [\"Inclusi\\u00f3n Social y Personas con Discapacidad\", \"A\"], [\"Producci\\u00f3n, Micro y Peque\\u00f1a Empresa y Cooperativas\", \"T\"], [\"Pueblos Andinos, Amaz\\u00f3nicos y Afroperuanos, Ambiente y Ecolog\\u00eda\", \"A\"]], \"Bancada\": \"RENOVACI\\u00d3N POPULAR\"}, {\"Congresista\": \"Palacios Huam\\u00e1n Margot\", \"Regi\\u00f3n\": \"Ayacucho\", \"Comisiones\": [[\"Agraria\", \"T\"], [\"Constituci\\u00f3n y Reglamento\", \"A\"], [\"Energ\\u00eda y Minas\", \"T\"], [\"Fiscalizaci\\u00f3n y Contralor\\u00eda\", \"A\"], [\"Inclusi\\u00f3n Social y Personas con Discapacidad\", \"T\"], [\"Presupuesto y Cuenta General de la Rep\\u00fablica\", \"A\"], [\"Pueblos Andinos, Amaz\\u00f3nicos y Afroperuanos, Ambiente y Ecolog\\u00eda\", \"P\"]], \"Bancada\": \"PER\\u00da LIBRE\"}, {\"Congresista\": \"Paredes Castro Francis Jhasmina\", \"Regi\\u00f3n\": \"Ucayali\", \"Comisiones\": [[\"Agraria\", \"A\"], [\"Descentralizaci\\u00f3n, Regionalizaci\\u00f3n, Gobiernos Locales y Modernizaci\\u00f3n de la Gesti\\u00f3n del Estado\", \"T\"], [\"Educaci\\u00f3n, Juventud y Deporte\", \"A\"], [\"Energ\\u00eda y Minas\", \"T\"], [\"Inclusi\\u00f3n Social y Personas con Discapacidad\", \"T\"], [\"Presupuesto y Cuenta General de la Rep\\u00fablica\", \"T\"], [\"Salud y Poblaci\\u00f3n\", \"T\"], [\"Transportes y Comunicaciones\", \"T\"]], \"Bancada\": \"PER\\u00da LIBRE\"}, {\"Congresista\": \"Paredes Fonseca Karol Ivett\", \"Regi\\u00f3n\": \"San Mart\\u00edn\", \"Comisiones\": [[\"Agraria\", \"A\"], [\"Descentralizaci\\u00f3n, Regionalizaci\\u00f3n, Gobiernos Locales y Modernizaci\\u00f3n de la Gesti\\u00f3n del Estado\", \"T\"], [\"Educaci\\u00f3n, Juventud y Deporte\", \"S\"], [\"Presupuesto y Cuenta General de la Rep\\u00fablica\", \"A\"], [\"Relaciones Exteriores\", \"T\"], [\"Vivienda y Construcci\\u00f3n\", \"A\"]], \"Bancada\": \"ACCI\\u00d3N POPULAR\"}, {\"Congresista\": \"Paredes Gonzales Alex Antonio\", \"Regi\\u00f3n\": \"Arequipa\", \"Comisiones\": [[\"Constituci\\u00f3n y Reglamento\", \"A\"], [\"Educaci\\u00f3n, Juventud y Deporte\", \"V\"], [\"Justicia y Derechos Humanos\", \"T\"], [\"Producci\\u00f3n, Micro y Peque\\u00f1a Empresa y Cooperativas\", \"T\"], [\"Trabajo y Seguridad Social\", \"A\"]], \"Bancada\": \"PER\\u00da LIBRE\"}, {\"Congresista\": \"Paredes Piqu\\u00e9 Susel Ana Mar\\u00eda\", \"Regi\\u00f3n\": \"Lima\", \"Comisiones\": [[\"Cultura y Patrimonio Cultural\", \"T\"], [\"Transportes y Comunicaciones\", \"T\"]], \"Bancada\": \"NO AGRUPADO\"}, {\"Congresista\": \"Pariona Sinche Alfredo\", \"Regi\\u00f3n\": \"Huancavelica\", \"Comisiones\": [[\"Defensa del Consumidor y Organismos Reguladores de los Servicios P\\u00fablicos\", \"V\"], [\"Descentralizaci\\u00f3n, Regionalizaci\\u00f3n, Gobiernos Locales y Modernizaci\\u00f3n de la Gesti\\u00f3n del Estado\", \"T\"], [\"Transportes y Comunicaciones\", \"T\"]], \"Bancada\": \"PER\\u00da LIBRE\"}, {\"Congresista\": \"Pic\\u00f3n Quedo Luis Ra\\u00fal\", \"Regi\\u00f3n\": \"Hu\\u00e1nuco\", \"Comisiones\": [[\"Agraria\", \"A\"], [\"Ciencia, Innovaci\\u00f3n y Tecnolog\\u00eda\", \"A\"], [\"Comercio Exterior y Turismo\", \"T\"], [\"Constituci\\u00f3n y Reglamento\", \"A\"], [\"Defensa del Consumidor y Organismos Reguladores de los Servicios P\\u00fablicos\", \"A\"], [\"Descentralizaci\\u00f3n, Regionalizaci\\u00f3n, Gobiernos Locales y Modernizaci\\u00f3n de la Gesti\\u00f3n del Estado\", \"A\"], [\"Econom\\u00eda, Banca, Finanzas e Inteligencia Financiera\", \"A\"], [\"Educaci\\u00f3n, Juventud y Deporte\", \"T\"], [\"Energ\\u00eda y Minas\", \"A\"], [\"Fiscalizaci\\u00f3n y Contralor\\u00eda\", \"T\"], [\"Inclusi\\u00f3n Social y Personas con Discapacidad\", \"A\"], [\"Presupuesto y Cuenta General de la Rep\\u00fablica\", \"A\"], [\"Producci\\u00f3n, Micro y Peque\\u00f1a Empresa y Cooperativas\", \"A\"], [\"Relaciones Exteriores\", \"T\"], [\"Salud y Poblaci\\u00f3n\", \"T\"], [\"Transportes y Comunicaciones\", \"A\"], [\"Vivienda y Construcci\\u00f3n\", \"A\"]], \"Bancada\": \"ALIANZA PARA EL PROGRESO\"}, {\"Congresista\": \"Portalatino \\u00c1valos Kelly Roxana\", \"Regi\\u00f3n\": \"Ancash\", \"Comisiones\": [[\"Inclusi\\u00f3n Social y Personas con Discapacidad\", \"T\"], [\"Producci\\u00f3n, Micro y Peque\\u00f1a Empresa y Cooperativas\", \"T\"], [\"Pueblos Andinos, Amaz\\u00f3nicos y Afroperuanos, Ambiente y Ecolog\\u00eda\", \"T\"], [\"Salud y Poblaci\\u00f3n\", \"S\"]], \"Bancada\": \"PER\\u00da LIBRE\"}, {\"Congresista\": \"Portero L\\u00f3pez Hilda Marleny\", \"Regi\\u00f3n\": \"Lambayeque\", \"Comisiones\": [[\"Agraria\", \"A\"], [\"Cultura y Patrimonio Cultural\", \"T\"], [\"Inclusi\\u00f3n Social y Personas con Discapacidad\", \"V\"], [\"Mujer y Familia\", \"T\"], [\"Relaciones Exteriores\", \"A\"]], \"Bancada\": \"ACCION POPULAR\"}, {\"Congresista\": \"Quiroz Barboza Segundo Teodomiro\", \"Regi\\u00f3n\": \"Cajamarca\", \"Comisiones\": [[\"Energ\\u00eda y Minas\", \"A\"], [\"Presupuesto y Cuenta General de la Rep\\u00fablica\", \"T\"], [\"Relaciones Exteriores\", \"T\"], [\"Trabajo y Seguridad Social\", \"T\"], [\"Vivienda y Construcci\\u00f3n\", \"T\"]], \"Bancada\": \"PER\\u00da LIBRE\"}, {\"Congresista\": \"Quispe Mamani Wilson Rusbel\", \"Regi\\u00f3n\": \"Puno\", \"Comisiones\": [[\"Cultura y Patrimonio Cultural\", \"T\"], [\"Educaci\\u00f3n, Juventud y Deporte\", \"A\"], [\"Presupuesto y Cuenta General de la Rep\\u00fablica\", \"V\"], [\"Trabajo y Seguridad Social\", \"A\"], [\"Transportes y Comunicaciones\", \"T\"], [\"Vivienda y Construcci\\u00f3n\", \"A\"]], \"Bancada\": \"PER\\u00da LIBRE\"}, {\"Congresista\": \"Quito Sarmiento Bernardo Jaime\", \"Regi\\u00f3n\": \"Arequipa\", \"Comisiones\": [[\"Constituci\\u00f3n y Reglamento\", \"T\"], [\"Presupuesto y Cuenta General de la Rep\\u00fablica\", \"T\"], [\"Producci\\u00f3n, Micro y Peque\\u00f1a Empresa y Cooperativas\", \"P\"], [\"Trabajo y Seguridad Social\", \"T\"]], \"Bancada\": \"PER\\u00da LIBRE\"}, {\"Congresista\": \"Ram\\u00edrez Garc\\u00eda Tania Estefany\", \"Regi\\u00f3n\": \"Cajamarca\", \"Comisiones\": [[\"Agraria\", \"A\"], [\"Educaci\\u00f3n, Juventud y Deporte\", \"T\"], [\"Inclusi\\u00f3n Social y Personas con Discapacidad\", \"T\"], [\"Mujer y Familia\", \"A\"], [\"Presupuesto y Cuenta General de la Rep\\u00fablica\", \"T\"], [\"Trabajo y Seguridad Social\", \"T\"]], \"Bancada\": \"FUERZA POPULAR\"}, {\"Congresista\": \"Revilla Villanueva C\\u00e9sar Manuel\", \"Regi\\u00f3n\": \"Piura\", \"Comisiones\": [[\"Agraria\", \"A\"], [\"Comercio Exterior y Turismo\", \"T\"], [\"Energ\\u00eda y Minas\", \"T\"], [\"Fiscalizaci\\u00f3n y Contralor\\u00eda\", \"A\"], [\"Salud y Poblaci\\u00f3n\", \"T\"], [\"Trabajo y Seguridad Social\", \"T\"], [\"Transportes y Comunicaciones\", \"A\"]], \"Bancada\": \"FUERZA POPULAR\"}, {\"Congresista\": \"Reyes Cam Abel Augusto\", \"Regi\\u00f3n\": \"Hu\\u00e1nuco\", \"Comisiones\": [[\"Ciencia, Innovaci\\u00f3n y Tecnolog\\u00eda\", \"A\"], [\"Defensa Nacional, Orden interno, Desarrollo alternativo y Lucha contra las Drogas\", \"T\"], [\"Econom\\u00eda, Banca, Finanzas e Inteligencia Financiera\", \"T\"], [\"Inclusi\\u00f3n Social y Personas con Discapacidad\", \"P\"]], \"Bancada\": \"PER\\u00da LIBRE\"}, {\"Congresista\": \"Reymundo Mercado Edgard Cornelio\", \"Regi\\u00f3n\": \"Jun\\u00edn\", \"Comisiones\": [[\"Constituci\\u00f3n y Reglamento\", \"T\"], [\"Defensa Nacional, Orden interno, Desarrollo alternativo y Lucha contra las Drogas\", \"A\"], [\"Fiscalizaci\\u00f3n y Contralor\\u00eda\", \"S\"], [\"Presupuesto y Cuenta General de la Rep\\u00fablica\", \"T\"]], \"Bancada\": \"JUNTOS POR EL PER\\u00da\"}, {\"Congresista\": \"Rivas Chacara Janet Milagros\", \"Regi\\u00f3n\": \"Lima Provincias\", \"Comisiones\": [[\"Defensa del Consumidor y Organismos Reguladores de los Servicios P\\u00fablicos\", \"T\"], [\"Inteligencia\", \"T\"], [\"Mujer y Familia\", \"T\"], [\"Pueblos Andinos, Amaz\\u00f3nicos y Afroperuanos, Ambiente y Ecolog\\u00eda\", \"S\"], [\"Relaciones Exteriores\", \"T\"]], \"Bancada\": \"PER\\u00da LIBRE\"}, {\"Congresista\": \"Robles Araujo Silvana Emperatriz\", \"Regi\\u00f3n\": \"Jun\\u00edn\", \"Comisiones\": [[\"Cultura y Patrimonio Cultural\", \"A\"], [\"Descentralizaci\\u00f3n, Regionalizaci\\u00f3n, Gobiernos Locales y Modernizaci\\u00f3n de la Gesti\\u00f3n del Estado\", \"T\"], [\"Relaciones Exteriores\", \"T\"], [\"Salud y Poblaci\\u00f3n\", \"T\"]], \"Bancada\": \"PER\\u00da LIBRE\"}, {\"Congresista\": \"Ru\\u00edz Rodr\\u00edguez Magaly Rosmery\", \"Regi\\u00f3n\": \"La Libertad\", \"Comisiones\": [[\"Econom\\u00eda, Banca, Finanzas e Inteligencia Financiera\", \"A\"], [\"Fiscalizaci\\u00f3n y Contralor\\u00eda\", \"T\"], [\"Mujer y Familia\", \"T\"]], \"Bancada\": \"ALIANZA PARA EL PROGRESO\"}, {\"Congresista\": \"Saavedra Casternoque Hitler\", \"Regi\\u00f3n\": \"Loreto\", \"Comisiones\": [[\"Ciencia, Innovaci\\u00f3n y Tecnolog\\u00eda\", \"T\"], [\"Descentralizaci\\u00f3n, Regionalizaci\\u00f3n, Gobiernos Locales y Modernizaci\\u00f3n de la Gesti\\u00f3n del Estado\", \"A\"], [\"Pueblos Andinos, Amaz\\u00f3nicos y Afroperuanos, Ambiente y Ecolog\\u00eda\", \"T\"], [\"Salud y Poblaci\\u00f3n\", \"P\"], [\"Vivienda y Construcci\\u00f3n\", \"A\"]], \"Bancada\": \"SOMOS PER\\u00da\"}, {\"Congresista\": \"Salhuana Cavides Eduardo\", \"Regi\\u00f3n\": \"Madre de Dios\", \"Comisiones\": [[\"Constituci\\u00f3n y Reglamento\", \"T\"], [\"Energ\\u00eda y Minas\", \"S\"], [\"Transportes y Comunicaciones\", \"A\"]], \"Bancada\": \"ALIANZA PARA EL PROGRESO\"}, {\"Congresista\": \"S\\u00e1nchez Palomino Roberto Helbert\", \"Regi\\u00f3n\": \"Lima\", \"Comisiones\": [[\"Defensa Nacional, Orden interno, Desarrollo alternativo y Lucha contra las Drogas\", \"T\"], [\"Educaci\\u00f3n, Juventud y Deporte\", \"T\"], [\"Inclusi\\u00f3n Social y Personas con Discapacidad\", \"T\"], [\"Presupuesto y Cuenta General de la Rep\\u00fablica\", \"A\"], [\"Salud y Poblaci\\u00f3n\", \"T\"]], \"Bancada\": \"JUNTOS POR EL PER\\u00da\"}, {\"Congresista\": \"Soto Palacios Wilson\", \"Regi\\u00f3n\": \"Huancavelica\", \"Comisiones\": [[\"Agraria\", \"A\"], [\"Constituci\\u00f3n y Reglamento\", \"T\"], [\"Educaci\\u00f3n, Juventud y Deporte\", \"A\"], [\"Energ\\u00eda y Minas\", \"A\"], [\"Presupuesto y Cuenta General de la Rep\\u00fablica\", \"T\"], [\"Transportes y Comunicaciones\", \"T\"], [\"Vivienda y Construcci\\u00f3n\", \"A\"]], \"Bancada\": \"ACCION POPULAR\"}, {\"Congresista\": \"Soto Reyes Alejandro\", \"Regi\\u00f3n\": \"Cusco\", \"Comisiones\": [[\"Fiscalizaci\\u00f3n y Contralor\\u00eda\", \"A\"], [\"Trabajo y Seguridad Social\", \"A\"], [\"Transportes y Comunicaciones\", \"P\"]], \"Bancada\": \"ALIANZA PARA EL PROGRESO\"}, {\"Congresista\": \"Tacuri Valdivia Germ\\u00e1n Adolfo\", \"Regi\\u00f3n\": \"Ayacucho\", \"Comisiones\": [[\"Ciencia, Innovaci\\u00f3n y Tecnolog\\u00eda\", \"T\"], [\"Comercio Exterior y Turismo\", \"P\"], [\"Defensa del Consumidor y Organismos Reguladores de los Servicios P\\u00fablicos\", \"T\"], [\"Econom\\u00eda, Banca, Finanzas e Inteligencia Financiera\", \"T\"]], \"Bancada\": \"PER\\u00da LIBRE\"}, {\"Congresista\": \"Taipe Coronado Mar\\u00eda Elizabeth\", \"Regi\\u00f3n\": \"Apur\\u00edmac\", \"Comisiones\": [[\"Agraria\", \"T\"], [\"Cultura y Patrimonio Cultural\", \"T\"], [\"Inclusi\\u00f3n Social y Personas con Discapacidad\", \"T\"], [\"Pueblos Andinos, Amaz\\u00f3nicos y Afroperuanos, Ambiente y Ecolog\\u00eda\", \"T\"], [\"Relaciones Exteriores\", \"A\"]], \"Bancada\": \"PER\\u00da LIBRE\"}, {\"Congresista\": \"Tello Montes Nivardo Edgar\", \"Regi\\u00f3n\": \"Lima\", \"Comisiones\": [[\"Ciencia, Innovaci\\u00f3n y Tecnolog\\u00eda\", \"T\"], [\"Comercio Exterior y Turismo\", \"A\"], [\"Econom\\u00eda, Banca, Finanzas e Inteligencia Financiera\", \"T\"], [\"Educaci\\u00f3n, Juventud y Deporte\", \"T\"], [\"Transportes y Comunicaciones\", \"T\"], [\"Vivienda y Construcci\\u00f3n\", \"A\"]], \"Bancada\": \"PER\\u00da LIBRE\"}, {\"Congresista\": \"Torres Salinas Rosio\", \"Regi\\u00f3n\": \"Loreto\", \"Comisiones\": [[\"Descentralizaci\\u00f3n, Regionalizaci\\u00f3n, Gobiernos Locales y Modernizaci\\u00f3n de la Gesti\\u00f3n del Estado\", \"S\"], [\"Econom\\u00eda, Banca, Finanzas e Inteligencia Financiera\", \"T\"]], \"Bancada\": \"ALIANZA PARA EL PROGRESO\"}, {\"Congresista\": \"Trigozo Re\\u00e1tegui Cheryl\", \"Regi\\u00f3n\": \"San Mart\\u00edn\", \"Comisiones\": [[\"Comercio Exterior y Turismo\", \"T\"], [\"Cultura y Patrimonio Cultural\", \"T\"], [\"Transportes y Comunicaciones\", \"T\"]], \"Bancada\": \"ALIANZA PARA EL PROGRESO\"}, {\"Congresista\": \"Tudela Guti\\u00e9rrez Adriana Josefina\", \"Regi\\u00f3n\": \"Lima\", \"Comisiones\": [[\"Constituci\\u00f3n y Reglamento\", \"S\"], [\"Defensa del Consumidor y Organismos Reguladores de los Servicios P\\u00fablicos\", \"A\"], [\"Defensa Nacional, Orden interno, Desarrollo alternativo y Lucha contra las Drogas\", \"A\"], [\"Econom\\u00eda, Banca, Finanzas e Inteligencia Financiera\", \"T\"], [\"Pueblos Andinos, Amaz\\u00f3nicos y Afroperuanos, Ambiente y Ecolog\\u00eda\", \"T\"], [\"Relaciones Exteriores\", \"T\"], [\"Trabajo y Seguridad Social\", \"T\"]], \"Bancada\": \"AVANZA PA\\u00cdS - PARTIDO DE INTEGRACI\\u00d3N SOCIAL\"}, {\"Congresista\": \"Ugarte Mamani Jhakeline Katy\", \"Regi\\u00f3n\": \"Cusco\", \"Comisiones\": [[\"Comercio Exterior y Turismo\", \"T\"], [\"Cultura y Patrimonio Cultural\", \"S\"], [\"Mujer y Familia\", \"T\"]], \"Bancada\": \"PER\\u00da LIBRE\"}, {\"Congresista\": \"Valer Pinto H\\u00e9ctor\", \"Regi\\u00f3n\": \"Lima\", \"Comisiones\": [], \"Bancada\": \"PER\\u00da DEMOCR\\u00c1TICO\"}, {\"Congresista\": \"Varas Mel\\u00e9ndez El\\u00edas Marcial\", \"Regi\\u00f3n\": \"\\u00c1ncash\", \"Comisiones\": [[\"Fiscalizaci\\u00f3n y Contralor\\u00eda\", \"T\"], [\"Presupuesto y Cuenta General de la Rep\\u00fablica\", \"A\"], [\"Salud y Poblaci\\u00f3n\", \"T\"], [\"Vivienda y Construcci\\u00f3n\", \"T\"]], \"Bancada\": \"PER\\u00da LIBRE\"}, {\"Congresista\": \"V\\u00e1squez Vela Lucinda\", \"Regi\\u00f3n\": \"San Mart\\u00edn\", \"Comisiones\": [[\"Defensa Nacional, Orden interno, Desarrollo alternativo y Lucha contra las Drogas\", \"T\"], [\"Descentralizaci\\u00f3n, Regionalizaci\\u00f3n, Gobiernos Locales y Modernizaci\\u00f3n de la Gesti\\u00f3n del Estado\", \"T\"], [\"Fiscalizaci\\u00f3n y Contralor\\u00eda\", \"T\"]], \"Bancada\": \"PER\\u00da LIBRE\"}, {\"Congresista\": \"Ventura Angel H\\u00e9ctor Jos\\u00e9\", \"Regi\\u00f3n\": \"Tumbes\", \"Comisiones\": [[\"Agraria\", \"T\"], [\"Constituci\\u00f3n y Reglamento\", \"T\"], [\"Energ\\u00eda y Minas\", \"A\"], [\"Fiscalizaci\\u00f3n y Contralor\\u00eda\", \"P\"], [\"Justicia y Derechos Humanos\", \"S\"], [\"Presupuesto y Cuenta General de la Rep\\u00fablica\", \"A\"]], \"Bancada\": \"FUERZA POPULAR\"}, {\"Congresista\": \"Vergara Mendoza Elvis Hern\\u00e1n\", \"Regi\\u00f3n\": \"Ucayali\", \"Comisiones\": [[\"Agraria\", \"A\"], [\"Comercio Exterior y Turismo\", \"A\"], [\"Constituci\\u00f3n y Reglamento\", \"A\"], [\"Defensa del Consumidor y Organismos Reguladores de los Servicios P\\u00fablicos\", \"A\"], [\"Descentralizaci\\u00f3n, Regionalizaci\\u00f3n, Gobiernos Locales y Modernizaci\\u00f3n de la Gesti\\u00f3n del Estado\", \"A\"], [\"Econom\\u00eda, Banca, Finanzas e Inteligencia Financiera\", \"A\"], [\"Fiscalizaci\\u00f3n y Contralor\\u00eda\", \"T\"], [\"Justicia y Derechos Humanos\", \"T\"], [\"Presupuesto y Cuenta General de la Rep\\u00fablica\", \"T\"], [\"Producci\\u00f3n, Micro y Peque\\u00f1a Empresa y Cooperativas\", \"A\"], [\"Pueblos Andinos, Amaz\\u00f3nicos y Afroperuanos, Ambiente y Ecolog\\u00eda\", \"A\"]], \"Bancada\": \"ACCION POPULAR\"}, {\"Congresista\": \"Williams Zapata Jos\\u00e9 Daniel\", \"Regi\\u00f3n\": \"Lima\", \"Comisiones\": [[\"Defensa Nacional, Orden interno, Desarrollo alternativo y Lucha contra las Drogas\", \"P\"], [\"Educaci\\u00f3n, Juventud y Deporte\", \"A\"], [\"Inteligencia\", \"T\"], [\"Producci\\u00f3n, Micro y Peque\\u00f1a Empresa y Cooperativas\", \"T\"], [\"Vivienda y Construcci\\u00f3n\", \"A\"]], \"Bancada\": \"AVANZA PA\\u00cdS - PARTIDO DE INTEGRACI\\u00d3N SOCIAL\"}, {\"Congresista\": \"Wong Pujada Enrique\", \"Regi\\u00f3n\": \"Callao\", \"Comisiones\": [[\"Educaci\\u00f3n, Juventud y Deporte\", \"A\"], [\"Fiscalizaci\\u00f3n y Contralor\\u00eda\", \"V\"]], \"Bancada\": \"PODEMOS PER\\u00da\"}, {\"Congresista\": \"Yarrow Lumbreras Norma Martina\", \"Regi\\u00f3n\": \"Lima\", \"Comisiones\": [[\"Descentralizaci\\u00f3n, Regionalizaci\\u00f3n, Gobiernos Locales y Modernizaci\\u00f3n de la Gesti\\u00f3n del Estado\", \"P\"], [\"Inclusi\\u00f3n Social y Personas con Discapacidad\", \"T\"], [\"Pueblos Andinos, Amaz\\u00f3nicos y Afroperuanos, Ambiente y Ecolog\\u00eda\", \"A\"], [\"Salud y Poblaci\\u00f3n\", \"A\"], [\"Transportes y Comunicaciones\", \"A\"]], \"Bancada\": \"AVANZA PA\\u00cdS - PARTIDO DE INTEGRACI\\u00d3N SOCIAL\"}, {\"Congresista\": \"Zea Choquechambi Oscar\", \"Regi\\u00f3n\": \"Puno\", \"Comisiones\": [[\"Agraria\", \"T\"], [\"Defensa Nacional, Orden interno, Desarrollo alternativo y Lucha contra las Drogas\", \"A\"], [\"Econom\\u00eda, Banca, Finanzas e Inteligencia Financiera\", \"T\"], [\"Energ\\u00eda y Minas\", \"A\"], [\"Fiscalizaci\\u00f3n y Contralor\\u00eda\", \"A\"], [\"Presupuesto y Cuenta General de la Rep\\u00fablica\", \"A\"]], \"Bancada\": \"PER\\u00da LIBRE\"}, {\"Congresista\": \"Zeballos Aponte Jorge Arturo\", \"Regi\\u00f3n\": \"Lima Peruanos en el exterior\", \"Comisiones\": [[\"Comercio Exterior y Turismo\", \"T\"], [\"Defensa Nacional, Orden interno, Desarrollo alternativo y Lucha contra las Drogas\", \"A\"], [\"Relaciones Exteriores\", \"V\"]], \"Bancada\": \"RENOVACI\\u00d3N POPULAR\"}, {\"Congresista\": \"Zeballos Madariaga Carlos Javier\", \"Regi\\u00f3n\": \"Puno\", \"Comisiones\": [[\"Educaci\\u00f3n, Juventud y Deporte\", \"A\"], [\"Energ\\u00eda y Minas\", \"T\"]], \"Bancada\": \"PER\\u00da DEMOCR\\u00c1TICO\"}, {\"Congresista\": \"Zeta Chunga Cruz Mar\\u00eda\", \"Regi\\u00f3n\": \"Piura\", \"Comisiones\": [[\"Agraria\", \"A\"], [\"Educaci\\u00f3n, Juventud y Deporte\", \"A\"], [\"Energ\\u00eda y Minas\", \"T\"], [\"Justicia y Derechos Humanos\", \"T\"], [\"Mujer y Familia\", \"T\"], [\"Producci\\u00f3n, Micro y Peque\\u00f1a Empresa y Cooperativas\", \"A\"], [\"Relaciones Exteriores\", \"A\"], [\"Trabajo y Seguridad Social\", \"T\"], [\"Transportes y Comunicaciones\", \"A\"], [\"Vivienda y Construcci\\u00f3n\", \"A\"]], \"Bancada\": \"FUERZA POPULAR\"}]}}, {\"actions\": false, \"mode\": \"vega-lite\"});\n</script>",
      "text/plain": "alt.Chart(...)"
     },
     "metadata": {}
    }
   ]
  },
  {
   "cell_type": "code",
   "metadata": {
    "tags": [],
    "deepnote_to_be_reexecuted": true,
    "source_hash": "d2c7693",
    "execution_start": 1645209275158,
    "execution_millis": 189,
    "deepnote_output_heights": [
     611
    ],
    "cell_id": "00017-50818776-2097-435b-abbd-c9a33ef22258",
    "deepnote_cell_type": "code"
   },
   "source": "#remember that response is the variable that contains URLCONGRESSMEN\nsoup_partido = BeautifulSoup(response.text, 'lxml')\npartidos = [i.get_text() for i in soup_partido.find_all('span', attrs={'class':'partidolist'})]\n",
   "execution_count": null,
   "outputs": []
  },
  {
   "cell_type": "code",
   "metadata": {
    "tags": [],
    "deepnote_to_be_reexecuted": true,
    "source_hash": "3df661e6",
    "execution_start": 1645209275401,
    "execution_millis": 1,
    "cell_id": "00018-2024a8d7-1b29-424a-8737-b43000b53ca5",
    "deepnote_cell_type": "code"
   },
   "source": "newCongress['Bancada'] = partidos",
   "execution_count": null,
   "outputs": []
  },
  {
   "cell_type": "code",
   "metadata": {
    "tags": [],
    "deepnote_to_be_reexecuted": true,
    "source_hash": "a1fc34d6",
    "execution_start": 1645209275402,
    "execution_millis": 227,
    "cell_id": "00019-401afca3-0347-48bc-80b4-e6191c3cbe32",
    "deepnote_cell_type": "code"
   },
   "source": "newCongress",
   "execution_count": null,
   "outputs": [
    {
     "output_type": "execute_result",
     "execution_count": 18,
     "data": {
      "application/vnd.deepnote.dataframe.v3+json": {
       "column_count": 4,
       "row_count": 130,
       "columns": [
        {
         "name": "Congresista",
         "dtype": "object",
         "stats": {
          "unique_count": 130,
          "nan_count": 0,
          "categories": [
           {
            "name": "Acuña Peralta María Grimaneza",
            "count": 1
           },
           {
            "name": "Acuña Peralta Segundo Héctor",
            "count": 1
           },
           {
            "name": "128 others",
            "count": 128
           }
          ]
         }
        },
        {
         "name": "Región",
         "dtype": "object",
         "stats": {
          "unique_count": 29,
          "nan_count": 0,
          "categories": [
           {
            "name": "Lima",
            "count": 33
           },
           {
            "name": "La Libertad",
            "count": 7
           },
           {
            "name": "27 others",
            "count": 90
           }
          ]
         }
        },
        {
         "name": "Comisiones",
         "dtype": "object",
         "stats": {
          "unique_count": 130,
          "nan_count": 0,
          "categories": [
           {
            "name": "[]",
            "count": 7
           },
           {
            "name": "[['Agraria', 'A'], ['Economía, Banca, Finanzas e Inteligencia Financiera', 'T'], ['Presupuesto y Cuenta General de la República', 'A'], ['Vivienda y Construcción', 'V']]",
            "count": 1
           },
           {
            "name": "122 others",
            "count": 122
           }
          ]
         }
        },
        {
         "name": "Bancada",
         "dtype": "object",
         "stats": {
          "unique_count": 12,
          "nan_count": 0,
          "categories": [
           {
            "name": "PERÚ LIBRE",
            "count": 32
           },
           {
            "name": "FUERZA POPULAR",
            "count": 24
           },
           {
            "name": "10 others",
            "count": 74
           }
          ]
         }
        },
        {
         "name": "_deepnote_index_column",
         "dtype": "int64"
        }
       ],
       "rows": [
        {
         "Congresista": "Acuña Peralta María Grimaneza",
         "Región": "Lambayeque",
         "Comisiones": "[['Agraria', 'A'], ['Economía, Banca, Finanzas e Inteligencia Financiera', 'T'], ['Presupuesto y Cu…",
         "Bancada": "ALIANZA PARA EL PROGRESO",
         "_deepnote_index_column": 0
        },
        {
         "Congresista": "Acuña Peralta Segundo Héctor",
         "Región": "La Libertad",
         "Comisiones": "[['Ciencia, Innovación y Tecnología', 'T'], ['Presupuesto y Cuenta General de la República', 'P']]",
         "Bancada": "ALIANZA PARA EL PROGRESO",
         "_deepnote_index_column": 1
        },
        {
         "Congresista": "Agüero Gutiérrez María Antonieta",
         "Región": "Arequipa",
         "Comisiones": "[['Comercio Exterior y Turismo', 'S'], ['Inclusión Social y Personas con Discapacidad', 'A'], ['Tra…",
         "Bancada": "PERÚ LIBRE",
         "_deepnote_index_column": 2
        },
        {
         "Congresista": "Aguinaga Recuenco Alejandro Aurelio",
         "Región": "Lambayeque",
         "Comisiones": "[['Ciencia, Innovación y Tecnología', 'A'], ['Constitución y Reglamento', 'T'], ['Presupuesto y Cue…",
         "Bancada": "FUERZA POPULAR",
         "_deepnote_index_column": 3
        },
        {
         "Congresista": "Alcarraz Aguero Yorel Kira",
         "Región": "Lima",
         "Comisiones": "[['Defensa del Consumidor y Organismos Reguladores de los Servicios Públicos', 'A'], ['Descentraliz…",
         "Bancada": "SOMOS PERÚ",
         "_deepnote_index_column": 4
        },
        {
         "Congresista": "Alegría García Arturo",
         "Región": "San Martín",
         "Comisiones": "[['Comercio Exterior y Turismo', 'A'], ['Economía, Banca, Finanzas e Inteligencia Financiera', 'A']…",
         "Bancada": "FUERZA POPULAR",
         "_deepnote_index_column": 5
        },
        {
         "Congresista": "Alva Prieto María del Carmen",
         "Región": "Lima",
         "Comisiones": "[]",
         "Bancada": "ACCIÓN POPULAR",
         "_deepnote_index_column": 6
        },
        {
         "Congresista": "Alva Rojas Carlos Enrique",
         "Región": "La Libertad",
         "Comisiones": "[['Ciencia, Innovación y Tecnología', 'T'], ['Educación, Juventud y Deporte', 'A'], ['Energía y Min…",
         "Bancada": "ACCIÓN POPULAR",
         "_deepnote_index_column": 7
        },
        {
         "Congresista": "Amuruz Dulanto Yessica Rosselli",
         "Región": "Lima",
         "Comisiones": "[['Constitución y Reglamento', 'A'], ['Descentralización, Regionalización, Gobiernos Locales y Mode…",
         "Bancada": "AVANZA PAÍS - PARTIDO DE INTEGRACIÓN SOCIAL",
         "_deepnote_index_column": 8
        },
        {
         "Congresista": "Anderson Ramírez Carlos Antonio",
         "Región": "Lima",
         "Comisiones": "[['Constitución y Reglamento', 'A'], ['Economía, Banca, Finanzas e Inteligencia Financiera', 'S'], …",
         "Bancada": "PODEMOS PERÚ",
         "_deepnote_index_column": 9
        }
       ]
      },
      "text/plain": "                             Congresista                        Región  \\\n0          Acuña Peralta María Grimaneza                    Lambayeque   \n1           Acuña Peralta Segundo Héctor                   La Libertad   \n2       Agüero Gutiérrez María Antonieta                      Arequipa   \n3    Aguinaga Recuenco Alejandro Aurelio                    Lambayeque   \n4             Alcarraz Aguero Yorel Kira                          Lima   \n..                                   ...                           ...   \n125       Yarrow Lumbreras Norma Martina                          Lima   \n126               Zea Choquechambi Oscar                          Puno   \n127         Zeballos Aponte Jorge Arturo  Lima Peruanos en el exterior   \n128     Zeballos Madariaga Carlos Javier                          Puno   \n129               Zeta Chunga Cruz María                         Piura   \n\n                                            Comisiones  \\\n0    [[Agraria, A], [Economía, Banca, Finanzas e In...   \n1    [[Ciencia, Innovación y Tecnología, T], [Presu...   \n2    [[Comercio Exterior y Turismo, S], [Inclusión ...   \n3    [[Ciencia, Innovación y Tecnología, A], [Const...   \n4    [[Defensa del Consumidor y Organismos Regulado...   \n..                                                 ...   \n125  [[Descentralización, Regionalización, Gobierno...   \n126  [[Agraria, T], [Defensa Nacional, Orden intern...   \n127  [[Comercio Exterior y Turismo, T], [Defensa Na...   \n128  [[Educación, Juventud y Deporte, A], [Energía ...   \n129  [[Agraria, A], [Educación, Juventud y Deporte,...   \n\n                                         Bancada  \n0                       ALIANZA PARA EL PROGRESO  \n1                       ALIANZA PARA EL PROGRESO  \n2                                     PERÚ LIBRE  \n3                                 FUERZA POPULAR  \n4                                     SOMOS PERÚ  \n..                                           ...  \n125  AVANZA PAÍS - PARTIDO DE INTEGRACIÓN SOCIAL  \n126                                   PERÚ LIBRE  \n127                           RENOVACIÓN POPULAR  \n128                             PERÚ DEMOCRÁTICO  \n129                               FUERZA POPULAR  \n\n[130 rows x 4 columns]",
      "text/html": "<div>\n<style scoped>\n    .dataframe tbody tr th:only-of-type {\n        vertical-align: middle;\n    }\n\n    .dataframe tbody tr th {\n        vertical-align: top;\n    }\n\n    .dataframe thead th {\n        text-align: right;\n    }\n</style>\n<table border=\"1\" class=\"dataframe\">\n  <thead>\n    <tr style=\"text-align: right;\">\n      <th></th>\n      <th>Congresista</th>\n      <th>Región</th>\n      <th>Comisiones</th>\n      <th>Bancada</th>\n    </tr>\n  </thead>\n  <tbody>\n    <tr>\n      <th>0</th>\n      <td>Acuña Peralta María Grimaneza</td>\n      <td>Lambayeque</td>\n      <td>[[Agraria, A], [Economía, Banca, Finanzas e In...</td>\n      <td>ALIANZA PARA EL PROGRESO</td>\n    </tr>\n    <tr>\n      <th>1</th>\n      <td>Acuña Peralta Segundo Héctor</td>\n      <td>La Libertad</td>\n      <td>[[Ciencia, Innovación y Tecnología, T], [Presu...</td>\n      <td>ALIANZA PARA EL PROGRESO</td>\n    </tr>\n    <tr>\n      <th>2</th>\n      <td>Agüero Gutiérrez María Antonieta</td>\n      <td>Arequipa</td>\n      <td>[[Comercio Exterior y Turismo, S], [Inclusión ...</td>\n      <td>PERÚ LIBRE</td>\n    </tr>\n    <tr>\n      <th>3</th>\n      <td>Aguinaga Recuenco Alejandro Aurelio</td>\n      <td>Lambayeque</td>\n      <td>[[Ciencia, Innovación y Tecnología, A], [Const...</td>\n      <td>FUERZA POPULAR</td>\n    </tr>\n    <tr>\n      <th>4</th>\n      <td>Alcarraz Aguero Yorel Kira</td>\n      <td>Lima</td>\n      <td>[[Defensa del Consumidor y Organismos Regulado...</td>\n      <td>SOMOS PERÚ</td>\n    </tr>\n    <tr>\n      <th>...</th>\n      <td>...</td>\n      <td>...</td>\n      <td>...</td>\n      <td>...</td>\n    </tr>\n    <tr>\n      <th>125</th>\n      <td>Yarrow Lumbreras Norma Martina</td>\n      <td>Lima</td>\n      <td>[[Descentralización, Regionalización, Gobierno...</td>\n      <td>AVANZA PAÍS - PARTIDO DE INTEGRACIÓN SOCIAL</td>\n    </tr>\n    <tr>\n      <th>126</th>\n      <td>Zea Choquechambi Oscar</td>\n      <td>Puno</td>\n      <td>[[Agraria, T], [Defensa Nacional, Orden intern...</td>\n      <td>PERÚ LIBRE</td>\n    </tr>\n    <tr>\n      <th>127</th>\n      <td>Zeballos Aponte Jorge Arturo</td>\n      <td>Lima Peruanos en el exterior</td>\n      <td>[[Comercio Exterior y Turismo, T], [Defensa Na...</td>\n      <td>RENOVACIÓN POPULAR</td>\n    </tr>\n    <tr>\n      <th>128</th>\n      <td>Zeballos Madariaga Carlos Javier</td>\n      <td>Puno</td>\n      <td>[[Educación, Juventud y Deporte, A], [Energía ...</td>\n      <td>PERÚ DEMOCRÁTICO</td>\n    </tr>\n    <tr>\n      <th>129</th>\n      <td>Zeta Chunga Cruz María</td>\n      <td>Piura</td>\n      <td>[[Agraria, A], [Educación, Juventud y Deporte,...</td>\n      <td>FUERZA POPULAR</td>\n    </tr>\n  </tbody>\n</table>\n<p>130 rows × 4 columns</p>\n</div>"
     },
     "metadata": {}
    }
   ]
  },
  {
   "cell_type": "code",
   "metadata": {
    "tags": [],
    "deepnote_to_be_reexecuted": true,
    "source_hash": "bd5be079",
    "execution_start": 1645209275504,
    "execution_millis": 0,
    "cell_id": "00020-eb2c1afa-18ba-4840-b1d4-edf5c18b82dc",
    "deepnote_cell_type": "code"
   },
   "source": "newCongress.to_csv('Congress.csv', index=False)",
   "execution_count": null,
   "outputs": []
  },
  {
   "cell_type": "code",
   "metadata": {
    "tags": [],
    "deepnote_to_be_reexecuted": true,
    "source_hash": "dcde3580",
    "execution_start": 1645209275505,
    "execution_millis": 340,
    "deepnote_output_heights": [
     40.375
    ],
    "cell_id": "00021-66aa02c3-a47d-4be7-ab73-d3b76e8f0c2c",
    "deepnote_cell_type": "code"
   },
   "source": "newCongress[newCongress['Congresista']=='Barbarán Reyes Rosangella Andrea']['Comisiones'].values\n",
   "execution_count": null,
   "outputs": [
    {
     "output_type": "execute_result",
     "execution_count": 20,
     "data": {
      "text/plain": "array([list([['Agraria', 'A'], ['Ciencia, Innovación y Tecnología', 'A'], ['Comercio Exterior y Turismo', 'A'], ['Constitución y Reglamento', 'A'], ['Cultura y Patrimonio Cultural', 'A'], ['Defensa del Consumidor y Organismos Reguladores de los Servicios Públicos', 'A'], ['Defensa Nacional, Orden interno, Desarrollo alternativo y Lucha contra las Drogas', 'A'], ['Descentralización, Regionalización, Gobiernos Locales y Modernización de la Gestión del Estado', 'A'], ['Economía, Banca, Finanzas e Inteligencia Financiera', 'T'], ['Educación, Juventud y Deporte', 'A'], ['Energía y Minas', 'A'], ['Fiscalización y Contraloría', 'A'], ['Inclusión Social y Personas con Discapacidad', 'A'], ['Justicia y Derechos Humanos', 'A'], ['Mujer y Familia', 'V'], ['Presupuesto y Cuenta General de la República', 'A'], ['Producción, Micro y Pequeña Empresa y Cooperativas', 'A'], ['Pueblos Andinos, Amazónicos y Afroperuanos, Ambiente y Ecología', 'A'], ['Relaciones Exteriores', 'A'], ['Salud y Población', 'A'], ['Trabajo y Seguridad Social', 'A'], ['Transportes y Comunicaciones', 'A'], ['Vivienda y Construcción', 'A']])],\n      dtype=object)"
     },
     "metadata": {}
    }
   ]
  },
  {
   "cell_type": "code",
   "metadata": {
    "tags": [],
    "deepnote_to_be_reexecuted": true,
    "source_hash": "9cbc9a23",
    "execution_start": 1645209275548,
    "execution_millis": 2012,
    "cell_id": "00022-4ddd7f0c-5ee0-4b68-a53d-236cb1ea7834",
    "deepnote_cell_type": "code"
   },
   "source": "!jupyter nbconvert --to script webscrapping.ipynb",
   "execution_count": null,
   "outputs": [
    {
     "name": "stdout",
     "text": "[NbConvertApp] Converting notebook webscrapping.ipynb to script\n[NbConvertApp] ERROR | Notebook JSON is invalid: Additional properties are not allowed ('data' was unexpected)\n\nFailed validating 'additionalProperties' in stream:\n\nOn instance['cells'][22]['outputs'][0]:\n{'data': {},\n 'name': 'stdout',\n 'output_type': 'stream',\n 'text': '[NbConvertApp] Converting notebook webscrapping.ipynb to script\\n'\n         '...'}\n[NbConvertApp] Writing 4319 bytes to webscrapping.txt\n",
     "output_type": "stream"
    }
   ]
  },
  {
   "cell_type": "markdown",
   "source": "<a style='text-decoration:none;line-height:16px;display:flex;color:#5B5B62;padding:10px;justify-content:end;' href='https://deepnote.com?utm_source=created-in-deepnote-cell&projectId=496b7f65-72e8-4f99-acc9-201d5fae973f' target=\"_blank\">\n<img alt='Created in deepnote.com' style='display:inline;max-height:16px;margin:0px;margin-right:7.5px;' src='data:image/svg+xml;base64,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' > </img>\nCreated in <span style='font-weight:600;margin-left:4px;'>Deepnote</span></a>",
   "metadata": {
    "tags": [],
    "created_in_deepnote_cell": true,
    "deepnote_cell_type": "markdown"
   }
  }
 ],
 "nbformat": 4,
 "nbformat_minor": 0,
 "metadata": {
  "colab": {
   "name": "webscrapping.ipynb",
   "provenance": [],
   "collapsed_sections": [],
   "authorship_tag": "ABX9TyMKCTfnBKZyZB2ERte8fspR"
  },
  "kernelspec": {
   "name": "python3",
   "display_name": "Python 3"
  },
  "language_info": {
   "name": "python"
  },
  "deepnote_notebook_id": "dc304f0f-d29c-4037-ae0d-613db6b655b9",
  "deepnote": {},
  "deepnote_execution_queue": []
 }
}