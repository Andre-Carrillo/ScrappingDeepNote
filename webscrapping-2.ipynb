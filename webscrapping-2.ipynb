{
 "cells": [
  {
   "cell_type": "code",
   "metadata": {
    "id": "sWw8yEy-h0g5",
    "executionInfo": {
     "status": "ok",
     "timestamp": 1632342992967,
     "user_tz": 300,
     "elapsed": 16,
     "user": {
      "displayName": "André Carrillo Montero",
      "photoUrl": "https://lh3.googleusercontent.com/a/default-user=s64",
      "userId": "11606357353285771722"
     }
    },
    "deepnote_to_be_reexecuted": false,
    "source_hash": "75ba4e3",
    "execution_start": 1645230649508,
    "execution_millis": 9970,
    "cell_id": "d2f2b34f-2bf1-48df-b85d-765ae7d5af94",
    "deepnote_cell_type": "code"
   },
   "source": "!pip install BeautifulSoup4\nimport requests \nfrom bs4 import BeautifulSoup",
   "execution_count": 1,
   "outputs": [
    {
     "name": "stdout",
     "text": "Collecting BeautifulSoup4\n  Downloading beautifulsoup4-4.10.0-py3-none-any.whl (97 kB)\n\u001b[K     |████████████████████████████████| 97 kB 7.7 MB/s \n\u001b[?25hCollecting soupsieve>1.2\n  Downloading soupsieve-2.3.1-py3-none-any.whl (37 kB)\nInstalling collected packages: soupsieve, BeautifulSoup4\nSuccessfully installed BeautifulSoup4-4.10.0 soupsieve-2.3.1\n\u001b[33mWARNING: You are using pip version 20.1.1; however, version 22.0.3 is available.\nYou should consider upgrading via the '/root/venv/bin/python -m pip install --upgrade pip' command.\u001b[0m\n",
     "output_type": "stream"
    }
   ]
  },
  {
   "cell_type": "code",
   "metadata": {
    "id": "NAdrllb_iTSG",
    "executionInfo": {
     "status": "ok",
     "timestamp": 1632342992969,
     "user_tz": 300,
     "elapsed": 15,
     "user": {
      "displayName": "André Carrillo Montero",
      "photoUrl": "https://lh3.googleusercontent.com/a/default-user=s64",
      "userId": "11606357353285771722"
     }
    },
    "deepnote_to_be_reexecuted": false,
    "source_hash": "a7f2e704",
    "execution_start": 1645230659495,
    "execution_millis": 9,
    "cell_id": "00001-fb3f79a3-eccb-4d6f-a2ed-4b877ee69f85",
    "deepnote_cell_type": "code"
   },
   "source": "# XPATH_LIST_CONGRESSMEN = '//a[@class=\"conginfo\"]/text()'\n# XPATH_LIST_URLCONGINFO = '//a[@class=\"conginfo\"]/@href'\n# #in previous url\n# XPATH_REPRESENT = '//p[@class=\"representa\"]/span[@class=\"value\"]/text()'\nURLCONGRESSMEN = 'https://www.congreso.gob.pe/pleno/congresistas/'",
   "execution_count": 2,
   "outputs": []
  },
  {
   "cell_type": "code",
   "metadata": {
    "id": "aDTj7PxkivXX",
    "executionInfo": {
     "status": "ok",
     "timestamp": 1632342995960,
     "user_tz": 300,
     "elapsed": 3004,
     "user": {
      "displayName": "André Carrillo Montero",
      "photoUrl": "https://lh3.googleusercontent.com/a/default-user=s64",
      "userId": "11606357353285771722"
     }
    },
    "deepnote_to_be_reexecuted": false,
    "source_hash": "dd7cca23",
    "execution_start": 1645230659523,
    "execution_millis": 1929,
    "cell_id": "00002-33e30122-fb11-44ea-9c61-f121ea9a6074",
    "deepnote_cell_type": "code"
   },
   "source": "#GET ALL NAMES AND URL'S\nPLENO_PAGE = requests.get(URLCONGRESSMEN).text\nPLENO_SOUP = BeautifulSoup(PLENO_PAGE, 'lxml')\nLIST_PLENO = PLENO_SOUP.find_all(class_='conginfo')\nLIST_CONGRESSMEN_NAMES = [i.text for i in LIST_PLENO]\nLIST_URLCONGINFO = [i['href'] for i in LIST_PLENO]",
   "execution_count": 3,
   "outputs": []
  },
  {
   "cell_type": "code",
   "metadata": {
    "id": "UIuwoWEhlzQy",
    "deepnote_to_be_reexecuted": false,
    "source_hash": "d5666583",
    "execution_start": 1645230661461,
    "execution_millis": 113713,
    "cell_id": "00005-e859e888-983b-4fd9-afa2-02cbcd3eff5b",
    "deepnote_cell_type": "code"
   },
   "source": "#GETTING REGIONS\nLIST_REGIONES = []\nLIST_VOTACION = []\nfor url in LIST_URLCONGINFO:\n  CONG_PAGE = requests.get(URLCONGRESSMEN+url).text\n  CONG_SOUP = BeautifulSoup(CONG_PAGE, 'lxml')\n  LIST_REGIONES.append(CONG_SOUP.find('p', class_='representa').find(class_='value').text)\n  LIST_VOTACION.append(CONG_SOUP.find('p', class_='votacion').find(class_='value').text)\n",
   "execution_count": null,
   "outputs": []
  },
  {
   "cell_type": "code",
   "metadata": {
    "id": "kMZtfVnW3efW",
    "deepnote_to_be_reexecuted": true,
    "source_hash": "7bdb4b5d",
    "execution_start": 1645211988777,
    "execution_millis": 20,
    "cell_id": "00006-9d172122-204f-4791-b2b9-268b6a94773d",
    "deepnote_cell_type": "code"
   },
   "source": "import pandas as pd\nCongress = pd.DataFrame({\"Congresista\":LIST_CONGRESSMEN_NAMES, \"Región\":LIST_REGIONES, \"Votación\":LIST_VOTACION})\nCongress['Comisiones'] = [[] for i in range(len(Congress['Congresista']))]",
   "execution_count": null,
   "outputs": []
  },
  {
   "cell_type": "markdown",
   "source": "Primero se getea la pagina, después se convierte en sopa con BeautifulSoup (usando el atributo text y el atributo 'lxml') y después se usa el método find_all para buscar las cosas, después se usa el metodo get en cada elemento de la lista obtenida para obtener atributos, se puede usar el metodo get_text para obtener el texto",
   "metadata": {
    "id": "pY38fy56G7se",
    "cell_id": "00009-7b661d76-a8df-4a2b-ba32-33c8f99f4abd",
    "deepnote_cell_type": "markdown"
   }
  },
  {
   "cell_type": "code",
   "metadata": {
    "colab": {
     "base_uri": "https://localhost:8080/"
    },
    "id": "jcd36jMgGoUm",
    "executionInfo": {
     "status": "ok",
     "timestamp": 1632343202553,
     "user_tz": 300,
     "elapsed": 1649,
     "user": {
      "displayName": "André Carrillo Montero",
      "photoUrl": "https://lh3.googleusercontent.com/a/default-user=s64",
      "userId": "11606357353285771722"
     }
    },
    "outputId": "6db0abfb-0ff9-42ca-c377-87f345dc878d",
    "deepnote_to_be_reexecuted": true,
    "source_hash": "1a33d367",
    "execution_start": 1645212564729,
    "execution_millis": 1100,
    "deepnote_output_heights": [
     21.1875
    ],
    "cell_id": "00010-ddb0c968-8410-4c93-aa14-346ee5bf4096",
    "deepnote_cell_type": "code"
   },
   "source": "urlcomisiones = 'https://www.congreso.gob.pe/CuadrodeComisiones/'\nP_comisiones = requests.get(urlcomisiones)\nP_comisiones.status_code\n",
   "execution_count": null,
   "outputs": [
    {
     "output_type": "execute_result",
     "execution_count": 29,
     "data": {
      "text/plain": "200"
     },
     "metadata": {}
    }
   ]
  },
  {
   "cell_type": "code",
   "metadata": {
    "id": "tON24b2CHVRc",
    "deepnote_to_be_reexecuted": true,
    "source_hash": "b5d73573",
    "execution_start": 1645212578066,
    "execution_millis": 145,
    "cell_id": "00011-15f15f99-c8a2-4e4f-9391-9ba8909340a6",
    "deepnote_cell_type": "code"
   },
   "source": "soup_comisiones = BeautifulSoup(P_comisiones.text, 'lxml')\ntags_comisiones = soup_comisiones.find_all('a', target='_blank')\ncomisiones = tags_comisiones[:24]",
   "execution_count": null,
   "outputs": []
  },
  {
   "cell_type": "code",
   "metadata": {
    "id": "4LXPJDj1IBck",
    "deepnote_to_be_reexecuted": true,
    "source_hash": "e8793e18",
    "execution_start": 1645212606015,
    "execution_millis": 10,
    "cell_id": "00012-be51d604-b262-4f59-a347-b335aa5b9876",
    "deepnote_cell_type": "code"
   },
   "source": "links_comisiones = [i.get('href') for i in comisiones]\nnombre_comisiones = [i.text for i in comisiones]\n",
   "execution_count": null,
   "outputs": []
  },
  {
   "cell_type": "code",
   "metadata": {
    "id": "vKxrZsBEI4zD",
    "deepnote_to_be_reexecuted": true,
    "source_hash": "74077de9",
    "execution_start": 1645212645036,
    "execution_millis": 53829,
    "deepnote_output_heights": [
     null,
     611
    ],
    "cell_id": "00014-0c66de38-5d45-418f-b9a1-806ec36c598c",
    "deepnote_cell_type": "code"
   },
   "source": "n=0\nCOMISIONES_MIEMBROS_CARGOS = []\nfor URL_COMISION in links_comisiones:\n  nonrawpage = requests.get(URL_COMISION+'/sobrelacomision/integrantes/')\n  rawsoup = BeautifulSoup(nonrawpage.text, 'lxml')\n  try:\n    URL_COMISIONreal = rawsoup.find('iframe', attrs={'name':'ventana02'}).get('src')\n  except:\n    print(\"la interfaz no tiene los integrantes. Comision: \"+nombre_comisiones[links_comisiones.index(URL_COMISION)])\n  PaginaComision = requests.get(URL_COMISIONreal)\n  SoupComision = BeautifulSoup(PaginaComision.text, 'lxml')\n  Miembros = [i.get_text() for i in SoupComision.find_all('a', attrs={'class':'conginfo'})]\n  Cargos = [ i.get_text() for i in SoupComision.find_all('span', attrs={'class':'partidolist'})][1::2]\n  COMISIONES_MIEMBROS_CARGOS.append({Miembros[i]:[i[0] for i in Cargos][i] for i in range(len(Miembros))})\n  print(COMISIONES_MIEMBROS_CARGOS[n])\n  n+=1\n",
   "execution_count": null,
   "outputs": [
    {
     "name": "stdout",
     "text": "https://www.congreso.gob.pe/?K=492&m23_idP=1094&TPL=if0\n{'Olivos Martínez Vivian': 'P', 'Doroteo Carbajo Raúl Felipe': 'V', 'Díaz Monago Freddy Ronald': 'S', 'Castillo Rivas Eduardo Enrique': 'T', 'Chacón Trujillo Nilza Merly': 'T', 'Ciccia Vásquez Miguel Angel': 'T', 'Coayla Juárez Jorge Samuel': 'T', 'Córdova Lobatón María Jessica': 'T', 'García Correa Idelso Manuel': 'T', 'Gutiérrez Ticona Paul Silvio': 'T', 'Jeri Oré José Enrique': 'T', 'López Ureña Ilich Fredy': 'T', 'Palacios Huamán Margot': 'T', 'Taipe Coronado María Elizabeth': 'T', 'Ventura Angel Héctor José': 'T', 'Zea Choquechambi Oscar': 'T', 'Bustamante Donayre Ernesto': 'A', 'Cavero Alva Alejandro Enrique': 'A', 'Cordero Jon Tay Luis Gustavo': 'A', 'Flores Ancachi Jorge Luis': 'A', 'Guerra García Campos Hernando': 'A', 'Medina Minaya Esdras Ricardo': 'A', 'Montalvo Cubas Segundo Toribio': 'A', 'Morante Figari Jorge Alberto': 'A', 'Picón Quedo Luis Raúl': 'A', 'Revilla Villanueva César Manuel': 'A', 'Soto Palacios Wilson': 'A', 'Vergara Mendoza Elvis Hernán': 'A', 'Acuña Peralta María Grimaneza': 'A', 'Barbarán Reyes Rosangella Andrea': 'A', 'Cordero Jon Tay María del Pilar': 'A', 'Infantes Castañeda Mery Eliana': 'A', 'Julon Irigoin Elva Edhit': 'A', 'López Morales Jeny Luz': 'A', 'Monteza Facho Silvia María': 'A', 'Paredes Castro Francis Jhasmina': 'A', 'Paredes Fonseca Karol Ivett': 'A', 'Portero López Hilda Marleny': 'A', 'Ramírez García Tania Estefany': 'A', 'Zeta Chunga Cruz María': 'A'}\n==========\nhttps://www.congreso.gob.pe/?K=492&m23_idP=1095&TPL=if0\n{'Cruz Mamani Flavio': 'P', 'Montalvo Cubas Segundo Toribio': 'V', 'Málaga Trillo George Edward': 'S', 'Acuña Peralta Segundo Héctor': 'T', 'Alva Rojas Carlos Enrique': 'T', 'Bustamante Donayre Ernesto': 'T', 'Cueto Aservi José Ernesto': 'T', 'Flores Ruíz Víctor Seferino': 'T', 'Jiménez Heredia David Julio': 'T', 'Marticorena Mendoza Jorge Alfonso': 'T', 'Saavedra Casternoque Hitler': 'T', 'Tacuri Valdivia Germán Adolfo': 'T', 'Tello Montes Nivardo Edgar': 'T', 'Aguinaga Recuenco Alejandro Aurelio': 'A', 'Castillo Rivas Eduardo Enrique': 'A', 'Cordero Jon Tay Luis Gustavo': 'A', 'Dávila Atanacio Pasión Neomias': 'A', 'Guerra García Campos Hernando': 'A', 'Montoya Manrique Jorge Carlos': 'A', 'Muñante Barrios Alejandro': 'A', 'Picón Quedo Luis Raúl': 'A', 'Reyes Cam Abel Augusto': 'A', 'Barbarán Reyes Rosangella Andrea': 'A', 'Cordero Jon Tay María del Pilar': 'A', 'Córdova Lobatón María Jessica': 'A'}\n==========\nhttps://www.congreso.gob.pe/?K=492&m23_idP=1096&TPL=if0\n{'Tacuri Valdivia Germán Adolfo': 'P', 'Martínez Talavera Pedro Edwin': 'V', 'Agüero Gutiérrez María Antonieta': 'S', 'Aragón Carreño Luis Ángel': 'T', 'Bazán Calderón Diego Alonso Fernando': 'T', 'Bellido Ugarte Guido': 'T', 'Bustamante Donayre Ernesto': 'T', 'Gutiérrez Ticona Paul Silvio': 'T', 'Lizarzaburu Lizarzaburu Juan Carlos Martin': 'T', 'Picón Quedo Luis Raúl': 'T', 'Revilla Villanueva César Manuel': 'T', 'Trigozo Reátegui Cheryl': 'T', 'Ugarte Mamani Jhakeline Katy': 'T', 'Zeballos Aponte Jorge Arturo': 'T', 'Alegría García Arturo': 'A', 'Azurín Loayza Alfredo': 'A', 'Castillo Rivas Eduardo Enrique': 'A', 'Flores Ruíz Víctor Seferino': 'A', 'Guerra García Campos Hernando': 'A', 'Huamán Coronado Raúl': 'A', 'Jeri Oré José Enrique': 'A', 'Muñante Barrios Alejandro': 'A', 'Tello Montes Nivardo Edgar': 'A', 'Vergara Mendoza Elvis Hernán': 'A', 'Barbarán Reyes Rosangella Andrea': 'A', 'Cordero Jon Tay María del Pilar': 'A', 'Gonzales Delgado Diana Carolina': 'A', 'Herrera Medina Noelia Rossvith': 'A'}\n==========\nhttps://www.congreso.gob.pe/?K=492&m23_idP=1097&TPL=if0\n{'Juárez Gallegos Carmen Patricia': 'P', 'Echaíz de Núñez Izaga Gladys Margot': 'V', 'Tudela Gutiérrez Adriana Josefina': 'S', 'Aguinaga Recuenco Alejandro Aurelio': 'T', 'Aragón Carreño Luis Ángel': 'T', 'Balcázar Zelada José María': 'T', 'Bellido Ugarte Guido': 'T', 'Cavero Alva Alejandro Enrique': 'T', 'Cerrón Rojas Waldemar José': 'T', 'Cutipa Ccama Víctor Raúl': 'T', 'Elera García Wilmar Alberto': 'T', 'Elías Ávalos José Luis': 'T', 'Moyano Delgado Martha Lupe': 'T', 'Muñante Barrios Alejandro': 'T', 'Quito Sarmiento Bernardo Jaime': 'T', 'Reymundo Mercado Edgard Cornelio': 'T', 'Salhuana Cavides Eduardo': 'T', 'Soto Palacios Wilson': 'T', 'Ventura Angel Héctor José': 'T', 'Anderson Ramírez Carlos Antonio': 'A', 'Castillo Rivas Eduardo Enrique': 'A', 'Dávila Atanacio Pasión Neomias': 'A', 'Flores Ramírez Alex Randu': 'A', 'Gonza Castillo Americo': 'A', 'Guerra García Campos Hernando': 'A', 'Jiménez Heredia David Julio': 'A', 'López Ureña Ilich Fredy': 'A', 'Medina Minaya Esdras Ricardo': 'A', 'Morante Figari Jorge Alberto': 'A', 'Paredes Gonzales Alex Antonio': 'A', 'Picón Quedo Luis Raúl': 'A', 'Vergara Mendoza Elvis Hernán': 'A', 'Amuruz Dulanto Yessica Rosselli': 'A', 'Barbarán Reyes Rosangella Andrea': 'A', 'Cordero Jon Tay María del Pilar': 'A', 'Juárez Calle Heidy Lisbeth': 'A', 'Jáuregui Martínez de Aguayo María de los Milagros Jackeline': 'A', 'Luque Ibarra Ruth': 'A', 'Obando Morgan Auristela Ana': 'A', 'Palacios Huamán Margot': 'A'}\n==========\nhttps://www.congreso.gob.pe/?K=492&m23_idP=1098&TPL=if0\n{'Flores Ramírez Alex Randu': 'P', 'Padilla Romero Javier Rommel': 'V', 'Ugarte Mamani Jhakeline Katy': 'S', 'Castillo Rivas Eduardo Enrique': 'T', 'Cavero Alva Alejandro Enrique': 'T', 'Cordero Jon Tay María del Pilar': 'T', 'Elías Ávalos José Luis': 'T', 'Flores Ancachi Jorge Luis': 'T', 'Infantes Castañeda Mery Eliana': 'T', 'Paredes Piqué Susel Ana María': 'T', 'Portero López Hilda Marleny': 'T', 'Quispe Mamani Wilson Rusbel': 'T', 'Taipe Coronado María Elizabeth': 'T', 'Trigozo Reátegui Cheryl': 'T', 'Ciccia Vásquez Miguel Angel': 'A', 'Cordero Jon Tay Luis Gustavo': 'A', 'Cruz Mamani Flavio': 'A', 'Guerra García Campos Hernando': 'A', 'López Ureña Ilich Fredy': 'A', 'Muñante Barrios Alejandro': 'A', 'Barbarán Reyes Rosangella Andrea': 'A', 'Gonzales Delgado Diana Carolina': 'A', 'Moyano Delgado Martha Lupe': 'A', 'Robles Araujo Silvana Emperatriz': 'A'}\n==========\nhttps://www.congreso.gob.pe/?K=492&m23_idP=1099&TPL=if0\n{'Luna Gálvez José León': 'P', 'Pariona Sinche Alfredo': 'V', 'Gonza Castillo Americo': 'S', 'Bazán Calderón Diego Alonso Fernando': 'T', 'Camones Soriano Lady Mercedes': 'T', 'Ciccia Vásquez Miguel Angel': 'T', 'Cordero Jon Tay Luis Gustavo': 'T', 'Cortez Aguirre Isabel': 'T', 'Cutipa Ccama Víctor Raúl': 'T', 'López Ureña Ilich Fredy': 'T', 'Monteza Facho Silvia María': 'T', 'Morante Figari Jorge Alberto': 'T', 'Obando Morgan Auristela Ana': 'T', 'Rivas Chacara Janet Milagros': 'T', 'Tacuri Valdivia Germán Adolfo': 'T', 'Castillo Rivas Eduardo Enrique': 'A', 'Guerra García Campos Hernando': 'A', 'Medina Minaya Esdras Ricardo': 'A', 'Padilla Romero Javier Rommel': 'A', 'Picón Quedo Luis Raúl': 'A', 'Vergara Mendoza Elvis Hernán': 'A', 'Alcarraz Aguero Yorel Kira': 'A', 'Barbarán Reyes Rosangella Andrea': 'A', 'Cordero Jon Tay María del Pilar': 'A', 'Herrera Medina Noelia Rossvith': 'A', 'López Morales Jeny Luz': 'A', 'Olivos Martínez Vivian': 'A', 'Tudela Gutiérrez Adriana Josefina': 'A'}\n==========\nhttps://www.congreso.gob.pe/?K=492&m23_idP=1100&TPL=if0\n{'Williams Zapata José Daniel': 'P', 'López Morales Jeny Luz': 'V', 'Montoya Manrique Jorge Carlos': 'S', 'Azurín Loayza Alfredo': 'T', 'Chiabra León Roberto Enrique': 'T', 'Cordero Jon Tay Luis Gustavo': 'T', 'Cueto Aservi José Ernesto': 'T', 'Espinoza Vargas Jhaec Darwin': 'T', 'Flores Ramírez Alex Randu': 'T', 'Gonza Castillo Americo': 'T', 'Juárez Gallegos Carmen Patricia': 'T', 'Lizarzaburu Lizarzaburu Juan Carlos Martin': 'T', 'Martínez Talavera Pedro Edwin': 'T', 'Montalvo Cubas Segundo Toribio': 'T', 'Reyes Cam Abel Augusto': 'T', 'Sánchez Palomino Roberto Helbert': 'T', 'Vásquez Vela Lucinda': 'T', 'Bustamante Donayre Ernesto': 'A', 'Castillo Rivas Eduardo Enrique': 'A', 'Cerrón Rojas Waldemar José': 'A', 'Guerra García Campos Hernando': 'A', 'Muñante Barrios Alejandro': 'A', 'Reymundo Mercado Edgard Cornelio': 'A', 'Zea Choquechambi Oscar': 'A', 'Zeballos Aponte Jorge Arturo': 'A', 'Barbarán Reyes Rosangella Andrea': 'A', 'Cordero Jon Tay María del Pilar': 'A', 'Infantes Castañeda Mery Eliana': 'A', 'Tudela Gutiérrez Adriana Josefina': 'A'}\n==========\nhttps://www.congreso.gob.pe/?K=492&m23_idP=1101&TPL=if0\n{'Yarrow Lumbreras Norma Martina': 'P', 'Obando Morgan Auristela Ana': 'V', 'Torres Salinas Rosio': 'S', 'Chacón Trujillo Nilza Merly': 'T', 'Córdova Lobatón María Jessica': 'T', 'Doroteo Carbajo Raúl Felipe': 'T', 'Elera García Wilmar Alberto': 'T', 'Flores Ancachi Jorge Luis': 'T', 'García Correa Idelso Manuel': 'T', 'Gonza Castillo Americo': 'T', 'Huamán Coronado Raúl': 'T', 'Marticorena Mendoza Jorge Alfonso': 'T', 'Medina Minaya Esdras Ricardo': 'T', 'Moyano Delgado Martha Lupe': 'T', 'Paredes Castro Francis Jhasmina': 'T', 'Paredes Fonseca Karol Ivett': 'T', 'Pariona Sinche Alfredo': 'T', 'Robles Araujo Silvana Emperatriz': 'T', 'Vásquez Vela Lucinda': 'T', 'Aragón Carreño Luis Ángel': 'A', 'Arriola Tueros José Alberto': 'A', 'Castillo Rivas Eduardo Enrique': 'A', 'Ciccia Vásquez Miguel Angel': 'A', 'Espinoza Vargas Jhaec Darwin': 'A', 'Guerra García Campos Hernando': 'A', 'López Ureña Ilich Fredy': 'A', 'Martínez Talavera Pedro Edwin': 'A', 'Picón Quedo Luis Raúl': 'A', 'Saavedra Casternoque Hitler': 'A', 'Vergara Mendoza Elvis Hernán': 'A', 'Alcarraz Aguero Yorel Kira': 'A', 'Amuruz Dulanto Yessica Rosselli': 'A', 'Barbarán Reyes Rosangella Andrea': 'A', 'Cordero Jon Tay María del Pilar': 'A', 'Herrera Medina Noelia Rossvith': 'A', 'Infantes Castañeda Mery Eliana': 'A', 'Juárez Gallegos Carmen Patricia': 'A', 'López Morales Jeny Luz': 'A', 'Monteza Facho Silvia María': 'A'}\n==========\nhttps://www.congreso.gob.pe/?K=492&m23_idP=1102&TPL=if0\n{'Monteza Facho Silvia María': 'P', 'Anderson Ramírez Carlos Antonio': 'S', 'Acuña Peralta María Grimaneza': 'T', 'Barbarán Reyes Rosangella Andrea': 'T', 'Bazán Narro Sigrid Tesoro': 'T', 'Dávila Atanacio Pasión Neomias': 'T', 'Herrera Medina Noelia Rossvith': 'T', 'Juárez Gallegos Carmen Patricia': 'T', 'Lizarzaburu Lizarzaburu Juan Carlos Martin': 'T', 'Luna Gálvez José León': 'T', 'López Ureña Ilich Fredy': 'T', 'Montoya Manrique Jorge Carlos': 'T', 'Morante Figari Jorge Alberto': 'T', 'Reyes Cam Abel Augusto': 'T', 'Tacuri Valdivia Germán Adolfo': 'T', 'Tello Montes Nivardo Edgar': 'T', 'Torres Salinas Rosio': 'T', 'Tudela Gutiérrez Adriana Josefina': 'T', 'Zea Choquechambi Oscar': 'T', 'Alegría García Arturo': 'A', 'Bellido Ugarte Guido': 'A', 'Castillo Rivas Eduardo Enrique': 'A', 'Espinoza Vargas Jhaec Darwin': 'A', 'Flores Ruíz Víctor Seferino': 'A', 'Guerra García Campos Hernando': 'A', 'Jeri Oré José Enrique': 'A', 'Montalvo Cubas Segundo Toribio': 'A', 'Muñante Barrios Alejandro': 'A', 'Padilla Romero Javier Rommel': 'A', 'Picón Quedo Luis Raúl': 'A', 'Vergara Mendoza Elvis Hernán': 'A', 'Cordero Jon Tay María del Pilar': 'A', 'Luque Ibarra Ruth': 'A', 'Ruíz Rodríguez Magaly Rosmery': 'A'}\n==========\nhttps://www.congreso.gob.pe/?K=492&m23_idP=1103&TPL=if0\n{'Medina Minaya Esdras Ricardo': 'P', 'Paredes Gonzales Alex Antonio': 'V', 'Paredes Fonseca Karol Ivett': 'S', 'Balcázar Zelada José María': 'T', 'Castillo Rivas Eduardo Enrique': 'T', 'Cerrón Rojas Waldemar José': 'T', 'Chiabra León Roberto Enrique': 'T', 'Cordero Jon Tay María del Pilar': 'T', 'Elías Ávalos José Luis': 'T', 'Gonzales Delgado Diana Carolina': 'T', 'Gutiérrez Ticona Paul Silvio': 'T', 'Huamán Coronado Raúl': 'T', 'Jeri Oré José Enrique': 'T', 'Martínez Talavera Pedro Edwin': 'T', 'Picón Quedo Luis Raúl': 'T', 'Ramírez García Tania Estefany': 'T', 'Sánchez Palomino Roberto Helbert': 'T', 'Tello Montes Nivardo Edgar': 'T', 'Alva Rojas Carlos Enrique': 'A', 'Azurín Loayza Alfredo': 'A', 'Bellido Ugarte Guido': 'A', 'Bustamante Donayre Ernesto': 'A', 'Cordero Jon Tay Luis Gustavo': 'A', 'Cruz Mamani Flavio': 'A', 'Doroteo Carbajo Raúl Felipe': 'A', 'Dávila Atanacio Pasión Neomias': 'A', 'Espinoza Vargas Jhaec Darwin': 'A', 'Guerra García Campos Hernando': 'A', 'López Ureña Ilich Fredy': 'A', 'Marticorena Mendoza Jorge Alfonso': 'A', 'Montalvo Cubas Segundo Toribio': 'A', 'Muñante Barrios Alejandro': 'A', 'Padilla Romero Javier Rommel': 'A', 'Quispe Mamani Wilson Rusbel': 'A', 'Soto Palacios Wilson': 'A', 'Williams Zapata José Daniel': 'A', 'Wong Pujada Enrique': 'A', 'Zeballos Madariaga Carlos Javier': 'A', 'Barbarán Reyes Rosangella Andrea': 'A', 'Herrera Medina Noelia Rossvith': 'A', 'Jáuregui Martínez de Aguayo María de los Milagros Jackeline': 'A', 'Paredes Castro Francis Jhasmina': 'A', 'Zeta Chunga Cruz María': 'A'}\n==========\nhttps://www.congreso.gob.pe/?K=492&m23_idP=1104&TPL=if0\n{'Alva Rojas Carlos Enrique': 'P', 'Gonzales Delgado Diana Carolina': 'V', 'Salhuana Cavides Eduardo': 'S', 'Burgos Oliveros Juan Bartolomé': 'T', 'Camones Soriano Lady Mercedes': 'T', 'Coayla Juárez Jorge Samuel': 'T', 'Cruz Mamani Flavio': 'T', 'Dávila Atanacio Pasión Neomias': 'T', 'Flores Ancachi Jorge Luis': 'T', 'Jeri Oré José Enrique': 'T', 'Luque Ibarra Ruth': 'T', 'López Morales Jeny Luz': 'T', 'Morante Figari Jorge Alberto': 'T', 'Padilla Romero Javier Rommel': 'T', 'Palacios Huamán Margot': 'T', 'Paredes Castro Francis Jhasmina': 'T', 'Revilla Villanueva César Manuel': 'T', 'Zeballos Madariaga Carlos Javier': 'T', 'Zeta Chunga Cruz María': 'T', 'Alegría García Arturo': 'A', 'Bazán Calderón Diego Alonso Fernando': 'A', 'Castillo Rivas Eduardo Enrique': 'A', 'Cordero Jon Tay Luis Gustavo': 'A', 'Doroteo Carbajo Raúl Felipe': 'A', 'Díaz Monago Freddy Ronald': 'A', 'Espinoza Vargas Jhaec Darwin': 'A', 'Guerra García Campos Hernando': 'A', 'Gutiérrez Ticona Paul Silvio': 'A', 'López Ureña Ilich Fredy': 'A', 'Medina Minaya Esdras Ricardo': 'A', 'Mori Celis Juan Carlos': 'A', 'Muñante Barrios Alejandro': 'A', 'Picón Quedo Luis Raúl': 'A', 'Quiroz Barboza Segundo Teodomiro': 'A', 'Soto Palacios Wilson': 'A', 'Ventura Angel Héctor José': 'A', 'Zea Choquechambi Oscar': 'A', 'Barbarán Reyes Rosangella Andrea': 'A', 'Chacón Trujillo Nilza Merly': 'A', 'Cordero Jon Tay María del Pilar': 'A', 'Herrera Medina Noelia Rossvith': 'A'}\n==========\nhttps://www.congreso.gob.pe/?K=492&m23_idP=1105&TPL=if0\n{'Ventura Angel Héctor José': 'P', 'Wong Pujada Enrique': 'V', 'Reymundo Mercado Edgard Cornelio': 'S', 'Alegría García Arturo': 'T', 'Burgos Oliveros Juan Bartolomé': 'T', 'Cutipa Ccama Víctor Raúl': 'T', 'Dávila Atanacio Pasión Neomias': 'T', 'Elera García Wilmar Alberto': 'T', 'Montalvo Cubas Segundo Toribio': 'T', 'Monteza Facho Silvia María': 'T', 'Morante Figari Jorge Alberto': 'T', 'Moyano Delgado Martha Lupe': 'T', 'Padilla Romero Javier Rommel': 'T', 'Picón Quedo Luis Raúl': 'T', 'Ruíz Rodríguez Magaly Rosmery': 'T', 'Varas Meléndez Elías Marcial': 'T', 'Vergara Mendoza Elvis Hernán': 'T', 'Vásquez Vela Lucinda': 'T', 'Azurín Loayza Alfredo': 'A', 'Bazán Calderón Diego Alonso Fernando': 'A', 'Bellido Ugarte Guido': 'A', 'Bustamante Donayre Ernesto': 'A', 'Castillo Rivas Eduardo Enrique': 'A', 'Guerra García Campos Hernando': 'A', 'López Ureña Ilich Fredy': 'A', 'Medina Minaya Esdras Ricardo': 'A', 'Muñante Barrios Alejandro': 'A', 'Revilla Villanueva César Manuel': 'A', 'Soto Reyes Alejandro': 'A', 'Zea Choquechambi Oscar': 'A', 'Alcarraz Aguero Yorel Kira': 'A', 'Barbarán Reyes Rosangella Andrea': 'A', 'Chacón Trujillo Nilza Merly': 'A', 'Cordero Jon Tay María del Pilar': 'A', 'Cortez Aguirre Isabel': 'A', 'Echaíz de Núñez Izaga Gladys Margot': 'A', 'Juárez Gallegos Carmen Patricia': 'A', 'López Morales Jeny Luz': 'A', 'Medina Hermosilla Elizabeth Sara': 'A', 'Palacios Huamán Margot': 'A'}\n==========\nhttps://www.congreso.gob.pe/?K=492&m23_idP=1106&TPL=if0\n{'Reyes Cam Abel Augusto': 'P', 'Portero López Hilda Marleny': 'V', 'Jáuregui Martínez de Aguayo María de los Milagros Jackeline': 'S', 'Alcarraz Aguero Yorel Kira': 'T', 'Arriola Tueros José Alberto': 'T', 'Ciccia Vásquez Miguel Angel': 'T', 'Infantes Castañeda Mery Eliana': 'T', 'Julon Irigoin Elva Edhit': 'T', 'Olivos Martínez Vivian': 'T', 'Palacios Huamán Margot': 'T', 'Paredes Castro Francis Jhasmina': 'T', 'Portalatino Ávalos Kelly Roxana': 'T', 'Ramírez García Tania Estefany': 'T', 'Sánchez Palomino Roberto Helbert': 'T', 'Taipe Coronado María Elizabeth': 'T', 'Yarrow Lumbreras Norma Martina': 'T', 'Castillo Rivas Eduardo Enrique': 'A', 'Espinoza Vargas Jhaec Darwin': 'A', 'Guerra García Campos Hernando': 'A', 'Morante Figari Jorge Alberto': 'A', 'Padilla Romero Javier Rommel': 'A', 'Picón Quedo Luis Raúl': 'A', 'Agüero Gutiérrez María Antonieta': 'A', 'Barbarán Reyes Rosangella Andrea': 'A', 'Chacón Trujillo Nilza Merly': 'A', 'Cordero Jon Tay María del Pilar': 'A', 'Gonzales Delgado Diana Carolina': 'A', 'Herrera Medina Noelia Rossvith': 'A'}\n==========\nhttps://www.congreso.gob.pe/?K=492&m23_idP=1107&TPL=if0\n{'Cueto Aservi José Ernesto': 'P', 'Gonza Castillo Americo': 'V', 'Cordero Jon Tay Luis Gustavo': 'S', 'Chiabra León Roberto Enrique': 'T', 'Doroteo Carbajo Raúl Felipe': 'T', 'Rivas Chacara Janet Milagros': 'T', 'Williams Zapata José Daniel': 'T'}\n==========\nhttps://www.congreso.gob.pe/?K=492&m23_idP=1108&TPL=if0\n{'Echaíz de Núñez Izaga Gladys Margot': 'P', 'Balcázar Zelada José María': 'V', 'Ventura Angel Héctor José': 'S', 'Arriola Tueros José Alberto': 'T', 'Bellido Ugarte Guido': 'T', 'Cavero Alva Alejandro Enrique': 'T', 'Cerrón Rojas Waldemar José': 'T', 'Cordero Jon Tay María del Pilar': 'T', 'Cutipa Ccama Víctor Raúl': 'T', 'Guerra García Campos Hernando': 'T', 'Juárez Calle Heidy Lisbeth': 'T', 'Luque Ibarra Ruth': 'T', 'Medina Minaya Esdras Ricardo': 'T', 'Muñante Barrios Alejandro': 'T', 'Paredes Gonzales Alex Antonio': 'T', 'Vergara Mendoza Elvis Hernán': 'T', 'Zeta Chunga Cruz María': 'T', 'Gonza Castillo Americo': 'A', 'Jeri Oré José Enrique': 'A', 'Amuruz Dulanto Yessica Rosselli': 'A', 'Barbarán Reyes Rosangella Andrea': 'A', 'Jáuregui Martínez de Aguayo María de los Milagros Jackeline': 'A'}\n==========\nhttps://www.congreso.gob.pe/?K=492&m23_idP=1109&TPL=if0\n{'Medina Hermosilla Elizabeth Sara': 'P', 'Barbarán Reyes Rosangella Andrea': 'V', 'Córdova Lobatón María Jessica': 'S', 'Alcarraz Aguero Yorel Kira': 'T', 'Flores Ramírez Alex Randu': 'T', 'Gutiérrez Ticona Paul Silvio': 'T', 'Herrera Medina Noelia Rossvith': 'T', 'Jáuregui Martínez de Aguayo María de los Milagros Jackeline': 'T', 'Luque Ibarra Ruth': 'T', 'López Morales Jeny Luz': 'T', 'Martínez Talavera Pedro Edwin': 'T', 'Portero López Hilda Marleny': 'T', 'Rivas Chacara Janet Milagros': 'T', 'Ruíz Rodríguez Magaly Rosmery': 'T', 'Ugarte Mamani Jhakeline Katy': 'T', 'Zeta Chunga Cruz María': 'T', 'Castillo Rivas Eduardo Enrique': 'A', 'Guerra García Campos Hernando': 'A', 'Muñante Barrios Alejandro': 'A', 'Amuruz Dulanto Yessica Rosselli': 'A', 'Chacón Trujillo Nilza Merly': 'A', 'Chávez Chino Betssy Betzabet': 'A', 'Cordero Jon Tay María del Pilar': 'A', 'Infantes Castañeda Mery Eliana': 'A', 'Juárez Calle Heidy Lisbeth': 'A', 'Ramírez García Tania Estefany': 'A'}\n==========\nhttps://www.congreso.gob.pe/?K=492&m23_idP=1110&TPL=if0\n{'Acuña Peralta Segundo Héctor': 'P', 'Quispe Mamani Wilson Rusbel': 'V', 'Alegría García Arturo': 'S', 'Aguinaga Recuenco Alejandro Aurelio': 'T', 'Bazán Calderón Diego Alonso Fernando': 'T', 'Calle Lobatón Digna': 'T', 'Chacón Trujillo Nilza Merly': 'T', 'Chirinos Venegas Patricia Rosa': 'T', 'Ciccia Vásquez Miguel Angel': 'T', 'Gonza Castillo Americo': 'T', 'Jeri Oré José Enrique': 'T', 'Juárez Calle Heidy Lisbeth': 'T', 'Mori Celis Juan Carlos': 'T', 'Paredes Castro Francis Jhasmina': 'T', 'Quiroz Barboza Segundo Teodomiro': 'T', 'Quito Sarmiento Bernardo Jaime': 'T', 'Ramírez García Tania Estefany': 'T', 'Reymundo Mercado Edgard Cornelio': 'T', 'Soto Palacios Wilson': 'T', 'Vergara Mendoza Elvis Hernán': 'T', 'Alva Rojas Carlos Enrique': 'A', 'Anderson Ramírez Carlos Antonio': 'A', 'Aragón Carreño Luis Ángel': 'A', 'Arriola Tueros José Alberto': 'A', 'Bellido Ugarte Guido': 'A', 'Burgos Oliveros Juan Bartolomé': 'A', 'Castillo Rivas Eduardo Enrique': 'A', 'Coayla Juárez Jorge Samuel': 'A', 'Cordero Jon Tay Luis Gustavo': 'A', 'Cueto Aservi José Ernesto': 'A', 'Doroteo Carbajo Raúl Felipe': 'A', 'Dávila Atanacio Pasión Neomias': 'A', 'Díaz Monago Freddy Ronald': 'A', 'Espinoza Vargas Jhaec Darwin': 'A', 'Flores Ancachi Jorge Luis': 'A', 'Guerra García Campos Hernando': 'A', 'Luna Gálvez José León': 'A', 'López Ureña Ilich Fredy': 'A', 'Martínez Talavera Pedro Edwin': 'A', 'Montalvo Cubas Segundo Toribio': 'A', 'Morante Figari Jorge Alberto': 'A', 'Picón Quedo Luis Raúl': 'A', 'Sánchez Palomino Roberto Helbert': 'A', 'Varas Meléndez Elías Marcial': 'A', 'Ventura Angel Héctor José': 'A', 'Zea Choquechambi Oscar': 'A', 'Acuña Peralta María Grimaneza': 'A', 'Barbarán Reyes Rosangella Andrea': 'A', 'Bazán Narro Sigrid Tesoro': 'A', 'Cordero Jon Tay María del Pilar': 'A', 'Herrera Medina Noelia Rossvith': 'A', 'Luque Ibarra Ruth': 'A', 'Monteza Facho Silvia María': 'A', 'Palacios Huamán Margot': 'A', 'Paredes Fonseca Karol Ivett': 'A'}\n==========\nhttps://www.congreso.gob.pe/?K=492&m23_idP=1111&TPL=if0\n{'Quito Sarmiento Bernardo Jaime': 'P', 'Flores Ruíz Víctor Seferino': 'V', 'Dávila Atanacio Pasión Neomias': 'S', 'Alva Rojas Carlos Enrique': 'T', 'Bazán Calderón Diego Alonso Fernando': 'T', 'Camones Soriano Lady Mercedes': 'T', 'Cordero Jon Tay María del Pilar': 'T', 'Espinoza Vargas Jhaec Darwin': 'T', 'García Correa Idelso Manuel': 'T', 'Guerra García Campos Hernando': 'T', 'Medina Hermosilla Elizabeth Sara': 'T', 'Padilla Romero Javier Rommel': 'T', 'Paredes Gonzales Alex Antonio': 'T', 'Portalatino Ávalos Kelly Roxana': 'T', 'Williams Zapata José Daniel': 'T', 'Bustamante Donayre Ernesto': 'A', 'Castillo Rivas Eduardo Enrique': 'A', 'Jeri Oré José Enrique': 'A', 'López Ureña Ilich Fredy': 'A', 'Medina Minaya Esdras Ricardo': 'A', 'Picón Quedo Luis Raúl': 'A', 'Vergara Mendoza Elvis Hernán': 'A', 'Barbarán Reyes Rosangella Andrea': 'A', 'Chacón Trujillo Nilza Merly': 'A', 'Córdova Lobatón María Jessica': 'A', 'Herrera Medina Noelia Rossvith': 'A', 'Olivos Martínez Vivian': 'A', 'Zeta Chunga Cruz María': 'A'}\n==========\nhttps://www.congreso.gob.pe/?K=492&m23_idP=1112&TPL=if0\n{'Palacios Huamán Margot': 'P', 'Luque Ibarra Ruth': 'V', 'Rivas Chacara Janet Milagros': 'S', 'Alegría García Arturo': 'T', 'Arriola Tueros José Alberto': 'T', 'Díaz Monago Freddy Ronald': 'T', 'Jáuregui Martínez de Aguayo María de los Milagros Jackeline': 'T', 'López Morales Jeny Luz': 'T', 'Medina Hermosilla Elizabeth Sara': 'T', 'Monteza Facho Silvia María': 'T', 'Moyano Delgado Martha Lupe': 'T', 'Portalatino Ávalos Kelly Roxana': 'T', 'Saavedra Casternoque Hitler': 'T', 'Taipe Coronado María Elizabeth': 'T', 'Tudela Gutiérrez Adriana Josefina': 'T', 'Castillo Rivas Eduardo Enrique': 'A', 'Guerra García Campos Hernando': 'A', 'Morante Figari Jorge Alberto': 'A', 'Padilla Romero Javier Rommel': 'A', 'Vergara Mendoza Elvis Hernán': 'A', 'Barbarán Reyes Rosangella Andrea': 'A', 'Cordero Jon Tay María del Pilar': 'A', 'Herrera Medina Noelia Rossvith': 'A', 'Yarrow Lumbreras Norma Martina': 'A'}\n==========\nhttps://www.congreso.gob.pe/?K=492&m23_idP=1113&TPL=if0\n{'Bustamante Donayre Ernesto': 'P', 'Zeballos Aponte Jorge Arturo': 'V', 'López Ureña Ilich Fredy': 'S', 'Alegría García Arturo': 'T', 'Amuruz Dulanto Yessica Rosselli': 'T', 'Coayla Juárez Jorge Samuel': 'T', 'Cordero Jon Tay María del Pilar': 'T', 'Flores Ramírez Alex Randu': 'T', 'Juárez Calle Heidy Lisbeth': 'T', 'Lizarzaburu Lizarzaburu Juan Carlos Martin': 'T', 'Morante Figari Jorge Alberto': 'T', 'Paredes Fonseca Karol Ivett': 'T', 'Picón Quedo Luis Raúl': 'T', 'Quiroz Barboza Segundo Teodomiro': 'T', 'Rivas Chacara Janet Milagros': 'T', 'Robles Araujo Silvana Emperatriz': 'T', 'Tudela Gutiérrez Adriana Josefina': 'T', 'Aguinaga Recuenco Alejandro Aurelio': 'A', 'Alva Rojas Carlos Enrique': 'A', 'Azurín Loayza Alfredo': 'A', 'Castillo Rivas Eduardo Enrique': 'A', 'Cavero Alva Alejandro Enrique': 'A', 'Cordero Jon Tay Luis Gustavo': 'A', 'Flores Ruíz Víctor Seferino': 'A', 'Gonza Castillo Americo': 'A', 'Guerra García Campos Hernando': 'A', 'López Morales Jeny Luz': 'A', 'Medina Minaya Esdras Ricardo': 'A', 'Portero López Hilda Marleny': 'A', 'Barbarán Reyes Rosangella Andrea': 'A', 'Herrera Medina Noelia Rossvith': 'A', 'Taipe Coronado María Elizabeth': 'A', 'Zeta Chunga Cruz María': 'A'}\n==========\nhttps://www.congreso.gob.pe/?K=492&m23_idP=1114&TPL=if0\n{'Saavedra Casternoque Hitler': 'P', 'Julon Irigoin Elva Edhit': 'V', 'Portalatino Ávalos Kelly Roxana': 'S', 'Burgos Oliveros Juan Bartolomé': 'T', 'Cordero Jon Tay María del Pilar': 'T', 'Córdova Lobatón María Jessica': 'T', 'Flores Ancachi Jorge Luis': 'T', 'Huamán Coronado Raúl': 'T', 'Marticorena Mendoza Jorge Alfonso': 'T', 'Mori Celis Juan Carlos': 'T', 'Muñante Barrios Alejandro': 'T', 'Paredes Castro Francis Jhasmina': 'T', 'Picón Quedo Luis Raúl': 'T', 'Revilla Villanueva César Manuel': 'T', 'Robles Araujo Silvana Emperatriz': 'T', 'Sánchez Palomino Roberto Helbert': 'T', 'Varas Meléndez Elías Marcial': 'T', 'Aguinaga Recuenco Alejandro Aurelio': 'A', 'Bustamante Donayre Ernesto': 'A', 'Camones Soriano Lady Mercedes': 'A', 'Castillo Rivas Eduardo Enrique': 'A', 'Ciccia Vásquez Miguel Angel': 'A', 'Guerra García Campos Hernando': 'A', 'Martínez Talavera Pedro Edwin': 'A', 'Medina Minaya Esdras Ricardo': 'A', 'Alcarraz Aguero Yorel Kira': 'A', 'Barbarán Reyes Rosangella Andrea': 'A', 'Chacón Trujillo Nilza Merly': 'A', 'Infantes Castañeda Mery Eliana': 'A', 'Luque Ibarra Ruth': 'A', 'Yarrow Lumbreras Norma Martina': 'A'}\n==========\nhttps://www.congreso.gob.pe/?K=492&m23_idP=1115&TPL=if0\n{'Cortez Aguirre Isabel': 'P', 'Burgos Oliveros Juan Bartolomé': 'V', 'Coayla Juárez Jorge Samuel': 'S', 'Agüero Gutiérrez María Antonieta': 'T', 'Aragón Carreño Luis Ángel': 'T', 'Cueto Aservi José Ernesto': 'T', 'Marticorena Mendoza Jorge Alfonso': 'T', 'Mori Celis Juan Carlos': 'T', 'Quiroz Barboza Segundo Teodomiro': 'T', 'Quito Sarmiento Bernardo Jaime': 'T', 'Ramírez García Tania Estefany': 'T', 'Revilla Villanueva César Manuel': 'T', 'Tudela Gutiérrez Adriana Josefina': 'T', 'Zeta Chunga Cruz María': 'T', 'Castillo Rivas Eduardo Enrique': 'A', 'Ciccia Vásquez Miguel Angel': 'A', 'García Correa Idelso Manuel': 'A', 'Guerra García Campos Hernando': 'A', 'Huamán Coronado Raúl': 'A', 'Infantes Castañeda Mery Eliana': 'A', 'López Ureña Ilich Fredy': 'A', 'Morante Figari Jorge Alberto': 'A', 'Paredes Gonzales Alex Antonio': 'A', 'Quispe Mamani Wilson Rusbel': 'A', 'Soto Reyes Alejandro': 'A', 'Barbarán Reyes Rosangella Andrea': 'A', 'Bazán Narro Sigrid Tesoro': 'A', 'Córdova Lobatón María Jessica': 'A', 'Luque Ibarra Ruth': 'A'}\n==========\nhttps://www.congreso.gob.pe/?K=492&m23_idP=1116&TPL=if0\n{'Soto Reyes Alejandro': 'P', 'Elera García Wilmar Alberto': 'V', 'Aragón Carreño Luis Ángel': 'S', 'Amuruz Dulanto Yessica Rosselli': 'T', 'Herrera Medina Noelia Rossvith': 'T', 'Jiménez Heredia David Julio': 'T', 'Medina Minaya Esdras Ricardo': 'T', 'Montalvo Cubas Segundo Toribio': 'T', 'Obando Morgan Auristela Ana': 'T', 'Olivos Martínez Vivian': 'T', 'Paredes Castro Francis Jhasmina': 'T', 'Paredes Piqué Susel Ana María': 'T', 'Pariona Sinche Alfredo': 'T', 'Quispe Mamani Wilson Rusbel': 'T', 'Soto Palacios Wilson': 'T', 'Tello Montes Nivardo Edgar': 'T', 'Trigozo Reátegui Cheryl': 'T', 'Alegría García Arturo': 'A', 'Alva Rojas Carlos Enrique': 'A', 'Castillo Rivas Eduardo Enrique': 'A', 'Cueto Aservi José Ernesto': 'A', 'Cutipa Ccama Víctor Raúl': 'A', 'Díaz Monago Freddy Ronald': 'A', 'Espinoza Vargas Jhaec Darwin': 'A', 'Flores Ancachi Jorge Luis': 'A', 'Guerra García Campos Hernando': 'A', 'Gutiérrez Ticona Paul Silvio': 'A', 'López Ureña Ilich Fredy': 'A', 'Mori Celis Juan Carlos': 'A', 'Picón Quedo Luis Raúl': 'A', 'Revilla Villanueva César Manuel': 'A', 'Salhuana Cavides Eduardo': 'A', 'Barbarán Reyes Rosangella Andrea': 'A', 'Cordero Jon Tay María del Pilar': 'A', 'Yarrow Lumbreras Norma Martina': 'A', 'Zeta Chunga Cruz María': 'A'}\n==========\nhttps://www.congreso.gob.pe/?K=492&m23_idP=1117&TPL=if0\n{'Espinoza Vargas Jhaec Darwin': 'P', 'Acuña Peralta María Grimaneza': 'V', 'Flores Ruíz Víctor Seferino': 'S', 'Alcarraz Aguero Yorel Kira': 'T', 'Alegría García Arturo': 'T', 'Amuruz Dulanto Yessica Rosselli': 'T', 'Arriola Tueros José Alberto': 'T', 'Bazán Narro Sigrid Tesoro': 'T', 'Calle Lobatón Digna': 'T', 'Coayla Juárez Jorge Samuel': 'T', 'Dávila Atanacio Pasión Neomias': 'T', 'Díaz Monago Freddy Ronald': 'T', 'Elera García Wilmar Alberto': 'T', 'Herrera Medina Noelia Rossvith': 'T', 'Moyano Delgado Martha Lupe': 'T', 'Quiroz Barboza Segundo Teodomiro': 'T', 'Varas Meléndez Elías Marcial': 'T', 'Alva Rojas Carlos Enrique': 'A', 'Aragón Carreño Luis Ángel': 'A', 'Castillo Rivas Eduardo Enrique': 'A', 'Ciccia Vásquez Miguel Angel': 'A', 'Cruz Mamani Flavio': 'A', 'Doroteo Carbajo Raúl Felipe': 'A', 'Flores Ancachi Jorge Luis': 'A', 'García Correa Idelso Manuel': 'A', 'Guerra García Campos Hernando': 'A', 'Gutiérrez Ticona Paul Silvio': 'A', 'López Ureña Ilich Fredy': 'A', 'Martínez Talavera Pedro Edwin': 'A', 'Medina Minaya Esdras Ricardo': 'A', 'Mori Celis Juan Carlos': 'A', 'Picón Quedo Luis Raúl': 'A', 'Quispe Mamani Wilson Rusbel': 'A', 'Saavedra Casternoque Hitler': 'A', 'Soto Palacios Wilson': 'A', 'Tello Montes Nivardo Edgar': 'A', 'Williams Zapata José Daniel': 'A', 'Agüero Gutiérrez María Antonieta': 'A', 'Barbarán Reyes Rosangella Andrea': 'A', 'Chacón Trujillo Nilza Merly': 'A', 'Cordero Jon Tay María del Pilar': 'A', 'Córdova Lobatón María Jessica': 'A', 'Monteza Facho Silvia María': 'A', 'Paredes Fonseca Karol Ivett': 'A', 'Zeta Chunga Cruz María': 'A'}\n==========\n",
     "output_type": "stream"
    }
   ]
  },
  {
   "cell_type": "code",
   "metadata": {
    "id": "BUY4DylfRDN6",
    "deepnote_to_be_reexecuted": true,
    "source_hash": "3bf95f3",
    "execution_start": 1645212750771,
    "execution_millis": 225,
    "cell_id": "00015-c958c80e-4fdc-465d-a843-c84bfa3b60f0",
    "deepnote_cell_type": "code"
   },
   "source": "for zip in COMISIONES_MIEMBROS_CARGOS:\n  for (name, cargo) in zip.items():\n        listindex=([nombre_comisiones[COMISIONES_MIEMBROS_CARGOS.index(zip)], cargo])\n        Congress['Comisiones'][Congress.index[Congress['Congresista']==name].tolist()[0]].append(listindex)\n",
   "execution_count": null,
   "outputs": []
  },
  {
   "cell_type": "code",
   "metadata": {
    "tags": [],
    "deepnote_to_be_reexecuted": true,
    "source_hash": "e7699e3b",
    "execution_start": 1645212817346,
    "execution_millis": 185,
    "deepnote_output_heights": [
     611
    ],
    "cell_id": "00017-50818776-2097-435b-abbd-c9a33ef22258",
    "deepnote_cell_type": "code"
   },
   "source": "#remember that response is the variable that contains URLCONGRESSMEN\nsoup_partido = BeautifulSoup(response.text, 'lxml')\npartidos = [i.get_text() for i in soup_partido.find_all('span', attrs={'class':'partidolist'})]\nCongress['Bancada'] = partidos\nCongress.to_csv('Congress.csv', index=False)",
   "execution_count": null,
   "outputs": []
  },
  {
   "cell_type": "code",
   "source": "Congress['Votación'].hist()",
   "metadata": {
    "cell_id": "7f8cb1c6-4777-49ee-89a1-6832102fbea0",
    "tags": [],
    "deepnote_to_be_reexecuted": true,
    "source_hash": "db20efe9",
    "deepnote_cell_type": "code"
   },
   "outputs": [],
   "execution_count": null
  },
  {
   "cell_type": "markdown",
   "source": "<a style='text-decoration:none;line-height:16px;display:flex;color:#5B5B62;padding:10px;justify-content:end;' href='https://deepnote.com?utm_source=created-in-deepnote-cell&projectId=496b7f65-72e8-4f99-acc9-201d5fae973f' target=\"_blank\">\n<img alt='Created in deepnote.com' style='display:inline;max-height:16px;margin:0px;margin-right:7.5px;' src='data:image/svg+xml;base64,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' > </img>\nCreated in <span style='font-weight:600;margin-left:4px;'>Deepnote</span></a>",
   "metadata": {
    "tags": [],
    "created_in_deepnote_cell": true,
    "deepnote_cell_type": "markdown"
   }
  }
 ],
 "nbformat": 4,
 "nbformat_minor": 0,
 "metadata": {
  "colab": {
   "name": "webscrapping.ipynb",
   "provenance": [],
   "collapsed_sections": [],
   "authorship_tag": "ABX9TyMKCTfnBKZyZB2ERte8fspR"
  },
  "kernelspec": {
   "name": "python3",
   "display_name": "Python 3"
  },
  "language_info": {
   "name": "python"
  },
  "deepnote_notebook_id": "dc304f0f-d29c-4037-ae0d-613db6b655b9",
  "deepnote": {},
  "deepnote_execution_queue": [
   {
    "cellId": "00005-e859e888-983b-4fd9-afa2-02cbcd3eff5b",
    "sessionId": "2ad25070-5a9f-4e5e-8235-7ed465eb4d34",
    "msgId": "2c5805e3-dc4b-41a5-83da-d44c1fa73bdb"
   },
   {
    "cellId": "00006-9d172122-204f-4791-b2b9-268b6a94773d",
    "sessionId": "2ad25070-5a9f-4e5e-8235-7ed465eb4d34",
    "msgId": "c2c8faff-487e-4960-8a8b-74243e1ef9c9"
   },
   {
    "cellId": "00010-ddb0c968-8410-4c93-aa14-346ee5bf4096",
    "sessionId": "2ad25070-5a9f-4e5e-8235-7ed465eb4d34",
    "msgId": "640e8ada-8538-4234-b119-d335a8cbbba0"
   },
   {
    "cellId": "00011-15f15f99-c8a2-4e4f-9391-9ba8909340a6",
    "sessionId": "2ad25070-5a9f-4e5e-8235-7ed465eb4d34",
    "msgId": "810c5ef1-6022-4190-a720-e5b39c163681"
   },
   {
    "cellId": "00012-be51d604-b262-4f59-a347-b335aa5b9876",
    "sessionId": "2ad25070-5a9f-4e5e-8235-7ed465eb4d34",
    "msgId": "a176d254-0bb1-4f1c-8816-5bf81c7b3d65"
   },
   {
    "cellId": "00014-0c66de38-5d45-418f-b9a1-806ec36c598c",
    "sessionId": "2ad25070-5a9f-4e5e-8235-7ed465eb4d34",
    "msgId": "7314dc97-3ad4-420f-99f1-84e5f0db6ba3"
   },
   {
    "cellId": "00015-c958c80e-4fdc-465d-a843-c84bfa3b60f0",
    "sessionId": "2ad25070-5a9f-4e5e-8235-7ed465eb4d34",
    "msgId": "ff8bec74-17de-47b6-9cd2-ae576bef7af8"
   },
   {
    "cellId": "00017-50818776-2097-435b-abbd-c9a33ef22258",
    "sessionId": "2ad25070-5a9f-4e5e-8235-7ed465eb4d34",
    "msgId": "1a44863e-2ea3-4961-b053-6aeb73b68bbb"
   },
   {
    "cellId": "7f8cb1c6-4777-49ee-89a1-6832102fbea0",
    "sessionId": "2ad25070-5a9f-4e5e-8235-7ed465eb4d34",
    "msgId": "deac05c5-00f5-42a1-bbe5-937bc7b43aee"
   }
  ]
 }
}