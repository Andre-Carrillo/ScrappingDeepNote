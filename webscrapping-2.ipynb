{
 "cells": [
  {
   "cell_type": "code",
   "metadata": {
    "id": "sWw8yEy-h0g5",
    "executionInfo": {
     "status": "ok",
     "timestamp": 1632342992967,
     "user_tz": 300,
     "elapsed": 16,
     "user": {
      "displayName": "André Carrillo Montero",
      "photoUrl": "https://lh3.googleusercontent.com/a/default-user=s64",
      "userId": "11606357353285771722"
     }
    },
    "deepnote_to_be_reexecuted": false,
    "source_hash": "75ba4e3",
    "execution_start": 1645237709274,
    "execution_millis": 4961,
    "cell_id": "d2f2b34f-2bf1-48df-b85d-765ae7d5af94",
    "deepnote_cell_type": "code"
   },
   "source": "!pip install BeautifulSoup4\nimport requests \nfrom bs4 import BeautifulSoup",
   "outputs": [
    {
     "name": "stdout",
     "text": "Requirement already satisfied: BeautifulSoup4 in /root/venv/lib/python3.7/site-packages (4.10.0)\nRequirement already satisfied: soupsieve>1.2 in /root/venv/lib/python3.7/site-packages (from BeautifulSoup4) (2.3.1)\n\u001b[33mWARNING: You are using pip version 20.1.1; however, version 22.0.3 is available.\nYou should consider upgrading via the '/root/venv/bin/python -m pip install --upgrade pip' command.\u001b[0m\n",
     "output_type": "stream"
    }
   ],
   "execution_count": null
  },
  {
   "cell_type": "code",
   "metadata": {
    "id": "NAdrllb_iTSG",
    "executionInfo": {
     "status": "ok",
     "timestamp": 1632342992969,
     "user_tz": 300,
     "elapsed": 15,
     "user": {
      "displayName": "André Carrillo Montero",
      "photoUrl": "https://lh3.googleusercontent.com/a/default-user=s64",
      "userId": "11606357353285771722"
     }
    },
    "deepnote_to_be_reexecuted": false,
    "source_hash": "a7f2e704",
    "execution_start": 1645237714242,
    "execution_millis": 5,
    "cell_id": "00001-fb3f79a3-eccb-4d6f-a2ed-4b877ee69f85",
    "deepnote_cell_type": "code"
   },
   "source": "# XPATH_LIST_CONGRESSMEN = '//a[@class=\"conginfo\"]/text()'\n# XPATH_LIST_URLCONGINFO = '//a[@class=\"conginfo\"]/@href'\n# #in previous url\n# XPATH_REPRESENT = '//p[@class=\"representa\"]/span[@class=\"value\"]/text()'\nURLCONGRESSMEN = 'https://www.congreso.gob.pe/pleno/congresistas/'",
   "outputs": [],
   "execution_count": null
  },
  {
   "cell_type": "code",
   "metadata": {
    "id": "aDTj7PxkivXX",
    "executionInfo": {
     "status": "ok",
     "timestamp": 1632342995960,
     "user_tz": 300,
     "elapsed": 3004,
     "user": {
      "displayName": "André Carrillo Montero",
      "photoUrl": "https://lh3.googleusercontent.com/a/default-user=s64",
      "userId": "11606357353285771722"
     }
    },
    "deepnote_to_be_reexecuted": false,
    "source_hash": "dd7cca23",
    "execution_start": 1645237714253,
    "execution_millis": 1512,
    "cell_id": "00002-33e30122-fb11-44ea-9c61-f121ea9a6074",
    "deepnote_cell_type": "code"
   },
   "source": "#GET ALL NAMES AND URL'S\nPLENO_PAGE = requests.get(URLCONGRESSMEN).text\nPLENO_SOUP = BeautifulSoup(PLENO_PAGE, 'lxml')\nLIST_PLENO = PLENO_SOUP.find_all(class_='conginfo')\nLIST_CONGRESSMEN_NAMES = [i.text for i in LIST_PLENO]\nLIST_URLCONGINFO = [i['href'] for i in LIST_PLENO]",
   "outputs": [],
   "execution_count": null
  },
  {
   "cell_type": "code",
   "metadata": {
    "id": "UIuwoWEhlzQy",
    "deepnote_to_be_reexecuted": false,
    "source_hash": "d5666583",
    "execution_start": 1645237715778,
    "execution_millis": 104516,
    "cell_id": "00005-e859e888-983b-4fd9-afa2-02cbcd3eff5b",
    "deepnote_cell_type": "code"
   },
   "source": "#GETTING REGIONS\nLIST_REGIONES = []\nLIST_VOTACION = []\nfor url in LIST_URLCONGINFO:\n  CONG_PAGE = requests.get(URLCONGRESSMEN+url).text\n  CONG_SOUP = BeautifulSoup(CONG_PAGE, 'lxml')\n  LIST_REGIONES.append(CONG_SOUP.find('p', class_='representa').find(class_='value').text)\n  LIST_VOTACION.append(CONG_SOUP.find('p', class_='votacion').find(class_='value').text)\n",
   "outputs": [],
   "execution_count": null
  },
  {
   "cell_type": "code",
   "metadata": {
    "id": "kMZtfVnW3efW",
    "deepnote_to_be_reexecuted": false,
    "source_hash": "7bdb4b5d",
    "execution_start": 1645237820337,
    "execution_millis": 0,
    "cell_id": "00006-9d172122-204f-4791-b2b9-268b6a94773d",
    "deepnote_cell_type": "code"
   },
   "source": "import pandas as pd\nCongress = pd.DataFrame({\"Congresista\":LIST_CONGRESSMEN_NAMES, \"Región\":LIST_REGIONES, \"Votación\":LIST_VOTACION})\nCongress['Comisiones'] = [[] for i in range(len(Congress['Congresista']))]",
   "outputs": [],
   "execution_count": null
  },
  {
   "cell_type": "markdown",
   "source": "Primero se getea la pagina, después se convierte en sopa con BeautifulSoup (usando el atributo text y el atributo 'lxml') y después se usa el método find_all para buscar las cosas, después se usa el metodo get en cada elemento de la lista obtenida para obtener atributos, se puede usar el metodo get_text para obtener el texto",
   "metadata": {
    "id": "pY38fy56G7se",
    "cell_id": "00009-7b661d76-a8df-4a2b-ba32-33c8f99f4abd",
    "deepnote_cell_type": "markdown"
   }
  },
  {
   "cell_type": "code",
   "metadata": {
    "colab": {
     "base_uri": "https://localhost:8080/"
    },
    "id": "jcd36jMgGoUm",
    "executionInfo": {
     "status": "ok",
     "timestamp": 1632343202553,
     "user_tz": 300,
     "elapsed": 1649,
     "user": {
      "displayName": "André Carrillo Montero",
      "photoUrl": "https://lh3.googleusercontent.com/a/default-user=s64",
      "userId": "11606357353285771722"
     }
    },
    "outputId": "6db0abfb-0ff9-42ca-c377-87f345dc878d",
    "deepnote_to_be_reexecuted": false,
    "source_hash": "1a33d367",
    "execution_start": 1645237820338,
    "execution_millis": 943,
    "deepnote_output_heights": [
     21.1875
    ],
    "cell_id": "00010-ddb0c968-8410-4c93-aa14-346ee5bf4096",
    "deepnote_cell_type": "code"
   },
   "source": "urlcomisiones = 'https://www.congreso.gob.pe/CuadrodeComisiones/'\nP_comisiones = requests.get(urlcomisiones)\nP_comisiones.status_code\n",
   "outputs": [
    {
     "output_type": "execute_result",
     "execution_count": 6,
     "data": {
      "text/plain": "200"
     },
     "metadata": {}
    }
   ],
   "execution_count": null
  },
  {
   "cell_type": "code",
   "metadata": {
    "id": "tON24b2CHVRc",
    "deepnote_to_be_reexecuted": false,
    "source_hash": "b5d73573",
    "execution_start": 1645237821296,
    "execution_millis": 98,
    "cell_id": "00011-15f15f99-c8a2-4e4f-9391-9ba8909340a6",
    "deepnote_cell_type": "code"
   },
   "source": "soup_comisiones = BeautifulSoup(P_comisiones.text, 'lxml')\ntags_comisiones = soup_comisiones.find_all('a', target='_blank')\ncomisiones = tags_comisiones[:24]",
   "outputs": [],
   "execution_count": null
  },
  {
   "cell_type": "code",
   "metadata": {
    "id": "4LXPJDj1IBck",
    "deepnote_to_be_reexecuted": false,
    "source_hash": "e8793e18",
    "execution_start": 1645237821402,
    "execution_millis": 5,
    "cell_id": "00012-be51d604-b262-4f59-a347-b335aa5b9876",
    "deepnote_cell_type": "code"
   },
   "source": "links_comisiones = [i.get('href') for i in comisiones]\nnombre_comisiones = [i.text for i in comisiones]\n",
   "outputs": [],
   "execution_count": null
  },
  {
   "cell_type": "code",
   "metadata": {
    "id": "vKxrZsBEI4zD",
    "deepnote_to_be_reexecuted": false,
    "source_hash": "dc3a06ed",
    "execution_start": 1645237821412,
    "execution_millis": 45448,
    "deepnote_output_heights": [
     null,
     611
    ],
    "cell_id": "00014-0c66de38-5d45-418f-b9a1-806ec36c598c",
    "deepnote_cell_type": "code"
   },
   "source": "n=0\nCOMISIONES_MIEMBROS_CARGOS = []\nfor URL_COMISION in links_comisiones:\n  nonrawpage = requests.get(URL_COMISION+'/sobrelacomision/integrantes/')\n  rawsoup = BeautifulSoup(nonrawpage.text, 'lxml')\n  try:\n    URL_COMISIONreal = rawsoup.find('iframe', attrs={'name':'ventana02'}).get('src')\n  except:\n    print(\"la interfaz no tiene los integrantes. Comision: \"+nombre_comisiones[links_comisiones.index(URL_COMISION)])\n  PaginaComision = requests.get(URL_COMISIONreal)\n  SoupComision = BeautifulSoup(PaginaComision.text, 'lxml')\n  Miembros = [i.get_text() for i in SoupComision.find_all('a', attrs={'class':'conginfo'})]\n  Cargos = [ i.get_text() for i in SoupComision.find_all('span', attrs={'class':'partidolist'})][1::2]\n  COMISIONES_MIEMBROS_CARGOS.append({Miembros[i]:[i[0] for i in Cargos][i] for i in range(len(Miembros))})\n  n+=1\n",
   "outputs": [],
   "execution_count": null
  },
  {
   "cell_type": "code",
   "metadata": {
    "id": "BUY4DylfRDN6",
    "deepnote_to_be_reexecuted": false,
    "source_hash": "3bf95f3",
    "execution_start": 1645237866876,
    "execution_millis": 221,
    "cell_id": "00015-c958c80e-4fdc-465d-a843-c84bfa3b60f0",
    "deepnote_cell_type": "code"
   },
   "source": "for zip in COMISIONES_MIEMBROS_CARGOS:\n  for (name, cargo) in zip.items():\n        listindex=([nombre_comisiones[COMISIONES_MIEMBROS_CARGOS.index(zip)], cargo])\n        Congress['Comisiones'][Congress.index[Congress['Congresista']==name].tolist()[0]].append(listindex)\n",
   "outputs": [],
   "execution_count": null
  },
  {
   "cell_type": "code",
   "metadata": {
    "tags": [],
    "deepnote_to_be_reexecuted": false,
    "source_hash": "85905271",
    "execution_start": 1645237867110,
    "execution_millis": 186,
    "deepnote_output_heights": [
     611
    ],
    "cell_id": "00017-50818776-2097-435b-abbd-c9a33ef22258",
    "deepnote_cell_type": "code"
   },
   "source": "#remember that response is the variable that contains URLCONGRESSMEN\nsoup_partido = BeautifulSoup(PLENO_PAGE, 'lxml')\npartidos = [i.get_text() for i in soup_partido.find_all('span', attrs={'class':'partidolist'})]\nCongress['Bancada'] = partidos\n",
   "outputs": [],
   "execution_count": null
  },
  {
   "cell_type": "code",
   "source": "WIKI_POP_URL = 'https://es.wikipedia.org/wiki/Anexo:Departamentos_del_Per%C3%BA_por_poblaci%C3%B3n'\nwiki_page = requests.get(WIKI_POP_URL).text\nwiki_soup = BeautifulSoup(wiki_page, 'lxml')",
   "metadata": {
    "cell_id": "9fd7cdcc-acf4-4217-b299-39aaddad92ca",
    "tags": [],
    "deepnote_to_be_reexecuted": false,
    "source_hash": "c0a17e24",
    "execution_start": 1645237867305,
    "execution_millis": 142,
    "deepnote_cell_type": "code"
   },
   "outputs": [],
   "execution_count": null
  },
  {
   "cell_type": "code",
   "source": "list(wiki_soup.tbody.children)[10].find_all('a')[0].text",
   "metadata": {
    "cell_id": "2d33b49e-f6c9-4d13-ad45-a9a1d3c9a138",
    "tags": [],
    "deepnote_to_be_reexecuted": false,
    "source_hash": "9048e4b3",
    "execution_start": 1645237867459,
    "execution_millis": 13,
    "deepnote_cell_type": "code"
   },
   "outputs": [
    {
     "output_type": "execute_result",
     "execution_count": 13,
     "data": {
      "text/plain": "'Arequipa'"
     },
     "metadata": {}
    }
   ],
   "execution_count": null
  },
  {
   "cell_type": "code",
   "source": "POP = {'Región':[], 'Población':[]}\nfor i in range(4,54,2):\n    row = list(wiki_soup.tbody.children)[i]\n    raw_number = row.find_all(align='right')[1].text\n    number = int(raw_number.replace('\\xa0', ''))\n    region = row.find_all('a')[0].text\n    POP['Región'].append(region)\n    POP['Población'].append(number)\nPOP_DF =  pd.DataFrame(POP)\nPOP_DF = pd.concat([POP_DF, pd.DataFrame([['Lima Provincias', 594613], ['PEX', 457891]], \n                                        columns=['Región', 'Población'])]).reset_index(drop=True)\nPOP_DF",
   "metadata": {
    "cell_id": "12e4ca1e-a329-437e-bc9f-441003328a2c",
    "tags": [],
    "deepnote_to_be_reexecuted": false,
    "source_hash": "bb7582f6",
    "execution_start": 1645237867486,
    "execution_millis": 158,
    "deepnote_table_state": {
     "pageSize": 10,
     "pageIndex": 2,
     "filters": [],
     "sortBy": []
    },
    "deepnote_table_loading": false,
    "deepnote_cell_type": "code"
   },
   "outputs": [
    {
     "output_type": "execute_result",
     "execution_count": 14,
     "data": {
      "application/vnd.deepnote.dataframe.v3+json": {
       "column_count": 2,
       "row_count": 27,
       "columns": [
        {
         "name": "Región",
         "dtype": "object",
         "stats": {
          "unique_count": 27,
          "nan_count": 0,
          "categories": [
           {
            "name": "Amazonas",
            "count": 1
           },
           {
            "name": "Áncash",
            "count": 1
           },
           {
            "name": "25 others",
            "count": 25
           }
          ]
         }
        },
        {
         "name": "Población",
         "dtype": "int64",
         "stats": {
          "unique_count": 27,
          "nan_count": 0,
          "min": "141070",
          "max": "9485405",
          "histogram": [
           {
            "bin_start": 141070,
            "bin_end": 1075503.5,
            "count": 17
           },
           {
            "bin_start": 1075503.5,
            "bin_end": 2009937,
            "count": 9
           },
           {
            "bin_start": 2009937,
            "bin_end": 2944370.5,
            "count": 0
           },
           {
            "bin_start": 2944370.5,
            "bin_end": 3878804,
            "count": 0
           },
           {
            "bin_start": 3878804,
            "bin_end": 4813237.5,
            "count": 0
           },
           {
            "bin_start": 4813237.5,
            "bin_end": 5747671,
            "count": 0
           },
           {
            "bin_start": 5747671,
            "bin_end": 6682104.5,
            "count": 0
           },
           {
            "bin_start": 6682104.5,
            "bin_end": 7616538,
            "count": 0
           },
           {
            "bin_start": 7616538,
            "bin_end": 8550971.5,
            "count": 0
           },
           {
            "bin_start": 8550971.5,
            "bin_end": 9485405,
            "count": 1
           }
          ]
         }
        },
        {
         "name": "_deepnote_index_column",
         "dtype": "int64"
        }
       ],
       "rows": [
        {
         "Región": "Puno",
         "Población": 1172697,
         "_deepnote_index_column": 20
        },
        {
         "Región": "San Martín",
         "Población": 813381,
         "_deepnote_index_column": 21
        },
        {
         "Región": "Tacna",
         "Población": 329332,
         "_deepnote_index_column": 22
        },
        {
         "Región": "Tumbes",
         "Población": 224863,
         "_deepnote_index_column": 23
        },
        {
         "Región": "Ucayali",
         "Población": 496459,
         "_deepnote_index_column": 24
        },
        {
         "Región": "Lima Provincias",
         "Población": 594613,
         "_deepnote_index_column": 25
        },
        {
         "Región": "PEX",
         "Población": 457891,
         "_deepnote_index_column": 26
        }
       ]
      },
      "text/plain": "             Región  Población\n0          Amazonas     379384\n1            Áncash    1083519\n2          Apurímac     405759\n3          Arequipa    1382730\n4          Ayacucho     616176\n5         Cajamarca    1341012\n6            Callao     994494\n7             Cusco    1205527\n8      Huancavelica     347639\n9           Huánuco     721047\n10              Ica     850765\n11            Junín    1246038\n12      La Libertad    1778080\n13       Lambayeque    1197260\n14             Lima    9485405\n15           Loreto     883510\n16    Madre de Dios     141070\n17         Moquegua     174863\n18            Pasco     254065\n19            Piura    1856809\n20             Puno    1172697\n21       San Martín     813381\n22            Tacna     329332\n23           Tumbes     224863\n24          Ucayali     496459\n25  Lima Provincias     594613\n26              PEX     457891",
      "text/html": "<div>\n<style scoped>\n    .dataframe tbody tr th:only-of-type {\n        vertical-align: middle;\n    }\n\n    .dataframe tbody tr th {\n        vertical-align: top;\n    }\n\n    .dataframe thead th {\n        text-align: right;\n    }\n</style>\n<table border=\"1\" class=\"dataframe\">\n  <thead>\n    <tr style=\"text-align: right;\">\n      <th></th>\n      <th>Región</th>\n      <th>Población</th>\n    </tr>\n  </thead>\n  <tbody>\n    <tr>\n      <th>0</th>\n      <td>Amazonas</td>\n      <td>379384</td>\n    </tr>\n    <tr>\n      <th>1</th>\n      <td>Áncash</td>\n      <td>1083519</td>\n    </tr>\n    <tr>\n      <th>2</th>\n      <td>Apurímac</td>\n      <td>405759</td>\n    </tr>\n    <tr>\n      <th>3</th>\n      <td>Arequipa</td>\n      <td>1382730</td>\n    </tr>\n    <tr>\n      <th>4</th>\n      <td>Ayacucho</td>\n      <td>616176</td>\n    </tr>\n    <tr>\n      <th>5</th>\n      <td>Cajamarca</td>\n      <td>1341012</td>\n    </tr>\n    <tr>\n      <th>6</th>\n      <td>Callao</td>\n      <td>994494</td>\n    </tr>\n    <tr>\n      <th>7</th>\n      <td>Cusco</td>\n      <td>1205527</td>\n    </tr>\n    <tr>\n      <th>8</th>\n      <td>Huancavelica</td>\n      <td>347639</td>\n    </tr>\n    <tr>\n      <th>9</th>\n      <td>Huánuco</td>\n      <td>721047</td>\n    </tr>\n    <tr>\n      <th>10</th>\n      <td>Ica</td>\n      <td>850765</td>\n    </tr>\n    <tr>\n      <th>11</th>\n      <td>Junín</td>\n      <td>1246038</td>\n    </tr>\n    <tr>\n      <th>12</th>\n      <td>La Libertad</td>\n      <td>1778080</td>\n    </tr>\n    <tr>\n      <th>13</th>\n      <td>Lambayeque</td>\n      <td>1197260</td>\n    </tr>\n    <tr>\n      <th>14</th>\n      <td>Lima</td>\n      <td>9485405</td>\n    </tr>\n    <tr>\n      <th>15</th>\n      <td>Loreto</td>\n      <td>883510</td>\n    </tr>\n    <tr>\n      <th>16</th>\n      <td>Madre de Dios</td>\n      <td>141070</td>\n    </tr>\n    <tr>\n      <th>17</th>\n      <td>Moquegua</td>\n      <td>174863</td>\n    </tr>\n    <tr>\n      <th>18</th>\n      <td>Pasco</td>\n      <td>254065</td>\n    </tr>\n    <tr>\n      <th>19</th>\n      <td>Piura</td>\n      <td>1856809</td>\n    </tr>\n    <tr>\n      <th>20</th>\n      <td>Puno</td>\n      <td>1172697</td>\n    </tr>\n    <tr>\n      <th>21</th>\n      <td>San Martín</td>\n      <td>813381</td>\n    </tr>\n    <tr>\n      <th>22</th>\n      <td>Tacna</td>\n      <td>329332</td>\n    </tr>\n    <tr>\n      <th>23</th>\n      <td>Tumbes</td>\n      <td>224863</td>\n    </tr>\n    <tr>\n      <th>24</th>\n      <td>Ucayali</td>\n      <td>496459</td>\n    </tr>\n    <tr>\n      <th>25</th>\n      <td>Lima Provincias</td>\n      <td>594613</td>\n    </tr>\n    <tr>\n      <th>26</th>\n      <td>PEX</td>\n      <td>457891</td>\n    </tr>\n  </tbody>\n</table>\n</div>"
     },
     "metadata": {}
    }
   ],
   "execution_count": null
  },
  {
   "cell_type": "code",
   "source": "Congress = Congress.replace('Ancash', 'Áncash')\nCongress = Congress.replace(['Peruanos Residentes en el Extranjero', 'Lima Peruanos en el exterior'], 'PEX')\nPOB_CONG = Congress.merge(POP_DF, on='Región', how='left')\nPOB_CONG['Votación'] = POB_CONG['Votación'].apply(lambda x:int(x.replace(',', '')))",
   "metadata": {
    "cell_id": "12b30552-2335-414b-9157-abed9e36110a",
    "tags": [],
    "deepnote_to_be_reexecuted": false,
    "source_hash": "d0f728fd",
    "execution_start": 1645237867641,
    "execution_millis": 1,
    "deepnote_table_state": {
     "pageSize": 10,
     "pageIndex": 2,
     "filters": [],
     "sortBy": []
    },
    "deepnote_table_loading": false,
    "deepnote_cell_type": "code"
   },
   "outputs": [],
   "execution_count": null
  },
  {
   "cell_type": "code",
   "source": "POB_CONG['Representatividad'] = POB_CONG['Votación']/POB_CONG['Población']\n\nCONG = POB_CONG.drop(['Población'], axis=1)",
   "metadata": {
    "cell_id": "3817b7d9-56c6-4c64-9674-cd6a63382ed5",
    "tags": [],
    "deepnote_to_be_reexecuted": false,
    "source_hash": "6071ee14",
    "execution_start": 1645237867643,
    "execution_millis": 18,
    "deepnote_table_state": {
     "pageSize": 10,
     "pageIndex": 0,
     "filters": [],
     "sortBy": [
      {
       "id": "Representatividad",
       "type": "desc"
      }
     ]
    },
    "deepnote_table_loading": false,
    "deepnote_cell_type": "code"
   },
   "outputs": [],
   "execution_count": null
  },
  {
   "cell_type": "code",
   "source": "# Congress.to_csv('Congress.csv', index=False)",
   "metadata": {
    "cell_id": "0111415d-1ecd-4cb9-b9d6-cf449d4404f7",
    "tags": [],
    "deepnote_to_be_reexecuted": false,
    "source_hash": "e9d2d4f2",
    "execution_start": 1645237867665,
    "execution_millis": 8,
    "deepnote_cell_type": "code"
   },
   "outputs": [],
   "execution_count": null
  },
  {
   "cell_type": "code",
   "source": "CONG.to_csv('CONG.csv', index=False)",
   "metadata": {
    "cell_id": "950660f5-f74d-4b63-b996-29779cfdafc3",
    "tags": [],
    "deepnote_to_be_reexecuted": false,
    "source_hash": "734a8497",
    "execution_start": 1645237867680,
    "execution_millis": 9,
    "deepnote_cell_type": "code"
   },
   "outputs": [],
   "execution_count": null
  },
  {
   "cell_type": "markdown",
   "source": "<a style='text-decoration:none;line-height:16px;display:flex;color:#5B5B62;padding:10px;justify-content:end;' href='https://deepnote.com?utm_source=created-in-deepnote-cell&projectId=496b7f65-72e8-4f99-acc9-201d5fae973f' target=\"_blank\">\n<img alt='Created in deepnote.com' style='display:inline;max-height:16px;margin:0px;margin-right:7.5px;' src='data:image/svg+xml;base64,PD94bWwgdmVyc2lvbj0iMS4wIiBlbmNvZGluZz0iVVRGLTgiPz4KPHN2ZyB3aWR0aD0iODBweCIgaGVpZ2h0PSI4MHB4IiB2aWV3Qm94PSIwIDAgODAgODAiIHZlcnNpb249IjEuMSIgeG1sbnM9Imh0dHA6Ly93d3cudzMub3JnLzIwMDAvc3ZnIiB4bWxuczp4bGluaz0iaHR0cDovL3d3dy53My5vcmcvMTk5OS94bGluayI+CiAgICA8IS0tIEdlbmVyYXRvcjogU2tldGNoIDU0LjEgKDc2NDkwKSAtIGh0dHBzOi8vc2tldGNoYXBwLmNvbSAtLT4KICAgIDx0aXRsZT5Hcm91cCAzPC90aXRsZT4KICAgIDxkZXNjPkNyZWF0ZWQgd2l0aCBTa2V0Y2guPC9kZXNjPgogICAgPGcgaWQ9IkxhbmRpbmciIHN0cm9rZT0ibm9uZSIgc3Ryb2tlLXdpZHRoPSIxIiBmaWxsPSJub25lIiBmaWxsLXJ1bGU9ImV2ZW5vZGQiPgogICAgICAgIDxnIGlkPSJBcnRib2FyZCIgdHJhbnNmb3JtPSJ0cmFuc2xhdGUoLTEyMzUuMDAwMDAwLCAtNzkuMDAwMDAwKSI+CiAgICAgICAgICAgIDxnIGlkPSJHcm91cC0zIiB0cmFuc2Zvcm09InRyYW5zbGF0ZSgxMjM1LjAwMDAwMCwgNzkuMDAwMDAwKSI+CiAgICAgICAgICAgICAgICA8cG9seWdvbiBpZD0iUGF0aC0yMCIgZmlsbD0iIzAyNjVCNCIgcG9pbnRzPSIyLjM3NjIzNzYyIDgwIDM4LjA0NzY2NjcgODAgNTcuODIxNzgyMiA3My44MDU3NTkyIDU3LjgyMTc4MjIgMzIuNzU5MjczOSAzOS4xNDAyMjc4IDMxLjY4MzE2ODMiPjwvcG9seWdvbj4KICAgICAgICAgICAgICAgIDxwYXRoIGQ9Ik0zNS4wMDc3MTgsODAgQzQyLjkwNjIwMDcsNzYuNDU0OTM1OCA0Ny41NjQ5MTY3LDcxLjU0MjI2NzEgNDguOTgzODY2LDY1LjI2MTk5MzkgQzUxLjExMjI4OTksNTUuODQxNTg0MiA0MS42NzcxNzk1LDQ5LjIxMjIyODQgMjUuNjIzOTg0Niw0OS4yMTIyMjg0IEMyNS40ODQ5Mjg5LDQ5LjEyNjg0NDggMjkuODI2MTI5Niw0My4yODM4MjQ4IDM4LjY0NzU4NjksMzEuNjgzMTY4MyBMNzIuODcxMjg3MSwzMi41NTQ0MjUgTDY1LjI4MDk3Myw2Ny42NzYzNDIxIEw1MS4xMTIyODk5LDc3LjM3NjE0NCBMMzUuMDA3NzE4LDgwIFoiIGlkPSJQYXRoLTIyIiBmaWxsPSIjMDAyODY4Ij48L3BhdGg+CiAgICAgICAgICAgICAgICA8cGF0aCBkPSJNMCwzNy43MzA0NDA1IEwyNy4xMTQ1MzcsMC4yNTcxMTE0MzYgQzYyLjM3MTUxMjMsLTEuOTkwNzE3MDEgODAsMTAuNTAwMzkyNyA4MCwzNy43MzA0NDA1IEM4MCw2NC45NjA0ODgyIDY0Ljc3NjUwMzgsNzkuMDUwMzQxNCAzNC4zMjk1MTEzLDgwIEM0Ny4wNTUzNDg5LDc3LjU2NzA4MDggNTMuNDE4MjY3Nyw3MC4zMTM2MTAzIDUzLjQxODI2NzcsNTguMjM5NTg4NSBDNTMuNDE4MjY3Nyw0MC4xMjg1NTU3IDM2LjMwMzk1NDQsMzcuNzMwNDQwNSAyNS4yMjc0MTcsMzcuNzMwNDQwNSBDMTcuODQzMDU4NiwzNy43MzA0NDA1IDkuNDMzOTE5NjYsMzcuNzMwNDQwNSAwLDM3LjczMDQ0MDUgWiIgaWQ9IlBhdGgtMTkiIGZpbGw9IiMzNzkzRUYiPjwvcGF0aD4KICAgICAgICAgICAgPC9nPgogICAgICAgIDwvZz4KICAgIDwvZz4KPC9zdmc+' > </img>\nCreated in <span style='font-weight:600;margin-left:4px;'>Deepnote</span></a>",
   "metadata": {
    "tags": [],
    "created_in_deepnote_cell": true,
    "deepnote_cell_type": "markdown"
   }
  }
 ],
 "nbformat": 4,
 "nbformat_minor": 0,
 "metadata": {
  "colab": {
   "name": "webscrapping.ipynb",
   "provenance": [],
   "collapsed_sections": [],
   "authorship_tag": "ABX9TyMKCTfnBKZyZB2ERte8fspR"
  },
  "kernelspec": {
   "name": "python3",
   "display_name": "Python 3"
  },
  "language_info": {
   "name": "python"
  },
  "deepnote_notebook_id": "dc304f0f-d29c-4037-ae0d-613db6b655b9",
  "deepnote": {},
  "deepnote_execution_queue": []
 }
}